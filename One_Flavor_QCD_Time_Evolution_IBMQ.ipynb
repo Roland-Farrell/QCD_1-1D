{
 "cells": [
  {
   "cell_type": "markdown",
   "id": "1d111586",
   "metadata": {},
   "source": [
    "### Roland Farrell 05/15/22\n",
    "### see arXiv:2207.01731"
   ]
  },
  {
   "cell_type": "code",
   "execution_count": 4,
   "id": "2bed87a9",
   "metadata": {},
   "outputs": [],
   "source": [
    "import numpy as np\n",
    "import qiskit\n",
    "from qiskit import QuantumCircuit\n",
    "import matplotlib.pyplot as plt\n",
    "from qiskit import Aer, transpile\n",
    "from qiskit.circuit import Parameter, QuantumRegister\n",
    "import random\n",
    "from qiskit.ignis.mitigation.measurement import tensored_meas_cal, TensoredMeasFitter\n",
    "from qiskit.converters import circuit_to_dag\n",
    "from qiskit.transpiler import TransformationPass"
   ]
  },
  {
   "cell_type": "code",
   "execution_count": 2,
   "id": "7ca177d2",
   "metadata": {},
   "outputs": [
    {
     "data": {
      "text/plain": [
       "[<IBMQSimulator('ibmq_qasm_simulator') from IBMQ(hub='ibm-q-research-2', group='uni-washington-1', project='main')>,\n",
       " <IBMQBackend('ibmq_armonk') from IBMQ(hub='ibm-q-research-2', group='uni-washington-1', project='main')>,\n",
       " <IBMQBackend('ibmq_santiago') from IBMQ(hub='ibm-q-research-2', group='uni-washington-1', project='main')>,\n",
       " <IBMQBackend('ibmq_bogota') from IBMQ(hub='ibm-q-research-2', group='uni-washington-1', project='main')>,\n",
       " <IBMQBackend('ibmq_lima') from IBMQ(hub='ibm-q-research-2', group='uni-washington-1', project='main')>,\n",
       " <IBMQBackend('ibmq_belem') from IBMQ(hub='ibm-q-research-2', group='uni-washington-1', project='main')>,\n",
       " <IBMQBackend('ibmq_quito') from IBMQ(hub='ibm-q-research-2', group='uni-washington-1', project='main')>,\n",
       " <IBMQSimulator('simulator_statevector') from IBMQ(hub='ibm-q-research-2', group='uni-washington-1', project='main')>,\n",
       " <IBMQSimulator('simulator_mps') from IBMQ(hub='ibm-q-research-2', group='uni-washington-1', project='main')>,\n",
       " <IBMQSimulator('simulator_extended_stabilizer') from IBMQ(hub='ibm-q-research-2', group='uni-washington-1', project='main')>,\n",
       " <IBMQSimulator('simulator_stabilizer') from IBMQ(hub='ibm-q-research-2', group='uni-washington-1', project='main')>,\n",
       " <IBMQBackend('ibmq_jakarta') from IBMQ(hub='ibm-q-research-2', group='uni-washington-1', project='main')>,\n",
       " <IBMQBackend('ibmq_manila') from IBMQ(hub='ibm-q-research-2', group='uni-washington-1', project='main')>,\n",
       " <IBMQBackend('ibm_lagos') from IBMQ(hub='ibm-q-research-2', group='uni-washington-1', project='main')>,\n",
       " <IBMQBackend('ibm_perth') from IBMQ(hub='ibm-q-research-2', group='uni-washington-1', project='main')>]"
      ]
     },
     "execution_count": 2,
     "metadata": {},
     "output_type": "execute_result"
    }
   ],
   "source": [
    "from qiskit import IBMQ\n",
    "\n",
    "# Put in personal login token\n",
    "token=\"\"\n",
    "provider = IBMQ.enable_account(token)\n",
    "IBMQ.active_account()\n",
    "IBMQ.providers() \n",
    "# Put in provider information\n",
    "provider = IBMQ.get_provider(hub=\"\", group=\"\", project=\"\")\n",
    "\n",
    "# Choose the desired quantum hardware\n",
    "backend = provider.get_backend('ibm_perth')"
   ]
  },
  {
   "cell_type": "markdown",
   "id": "172d06ba",
   "metadata": {},
   "source": [
    "# Construct the ciruit which implements Trotterized time evolution for one flavor QCD in one dimension "
   ]
  },
  {
   "cell_type": "markdown",
   "id": "3402bc0f",
   "metadata": {},
   "source": [
    "### Hopping between a given quark and antiquark. Start is index of the quark qubit and t is the time."
   ]
  },
  {
   "cell_type": "code",
   "execution_count": 4,
   "id": "fc2a9cff",
   "metadata": {},
   "outputs": [],
   "source": [
    "def UkinAdd(circ,t,start):\n",
    "    end = start+3\n",
    "    \n",
    "    # Control rotation if 01 or 10\n",
    "    circ.cx(end,start)\n",
    "    \n",
    "    # Rx controlled on 10, 01. start+1 and start+2 control +/-\n",
    "    circ.h(end)\n",
    "    circ.cx(start+1,start+2)\n",
    "    circ.cx(start+2,start+3)\n",
    "    circ.rz(t/2,end)\n",
    "    circ.cx(start,end)\n",
    "    circ.rz(-t/2,end)\n",
    "    circ.cx(start,end)\n",
    "    circ.cx(start+2,start+3)\n",
    "    circ.cx(start+1,start+2)\n",
    "    circ.h(end)\n",
    "    circ.cx(end,start)"
   ]
  },
  {
   "cell_type": "markdown",
   "id": "ddc864d8",
   "metadata": {},
   "source": [
    "### Adds a ZZ rotation, indices is a tuple labelling the two qubits. ph is the phase of the rotation."
   ]
  },
  {
   "cell_type": "code",
   "execution_count": 5,
   "id": "024e5d1a",
   "metadata": {},
   "outputs": [],
   "source": [
    "def Uel1Add(circ,indices,ph):\n",
    "    circ.cx(indices[0],indices[1])\n",
    "    circ.rz(ph,indices[1])\n",
    "    circ.cx(indices[0],indices[1])"
   ]
  },
  {
   "cell_type": "markdown",
   "id": "52690224",
   "metadata": {},
   "source": [
    "### Trotterization of the mass part of the Hamiltonian. m is the mass and t is the time."
   ]
  },
  {
   "cell_type": "code",
   "execution_count": 6,
   "id": "7143f5f5",
   "metadata": {},
   "outputs": [],
   "source": [
    "def Um(circ, m, t):\n",
    "    for n in range(2):\n",
    "        # For each color\n",
    "        for c in range(3):\n",
    "            circ.rz((-1) ** (n) * m * t, 3*n + c)"
   ]
  },
  {
   "cell_type": "markdown",
   "id": "edfadcc5",
   "metadata": {},
   "source": [
    "### Trotterization of the kinetic part of the Hamiltonian. t is the time."
   ]
  },
  {
   "cell_type": "code",
   "execution_count": 7,
   "id": "aae3f5c0",
   "metadata": {},
   "outputs": [],
   "source": [
    "def Ukin(circ, t):\n",
    "    # Add each term in sum to the circuit\n",
    "    for q0 in range(3):\n",
    "        UkinAdd(circ, t, q0)"
   ]
  },
  {
   "cell_type": "markdown",
   "id": "da2976ea",
   "metadata": {},
   "source": [
    "### Trotterization of the chromo-electric part of the Hamiltonian. g is the gauge coupling and t is the time."
   ]
  },
  {
   "cell_type": "code",
   "execution_count": 8,
   "id": "d32138cc",
   "metadata": {},
   "outputs": [],
   "source": [
    "def Uel1(circ,g,t):\n",
    "    Uel1Add(circ,(0, 1),(-t * g ** 2/3))\n",
    "    Uel1Add(circ,(0, 2),(-t * g ** 2/3))\n",
    "    Uel1Add(circ,(1, 2),(-t * g ** 2/3))"
   ]
  },
  {
   "cell_type": "markdown",
   "id": "6c39ab68",
   "metadata": {},
   "source": [
    "# A class which twirls the CNOTs in a given circuit. This replaces a CNOT with an equivalent circuit element in order to reduce the effects of correlated noise; see arXiv:2205.09247."
   ]
  },
  {
   "cell_type": "code",
   "execution_count": 9,
   "id": "f288dbe8",
   "metadata": {},
   "outputs": [],
   "source": [
    "class CXTranslator(TransformationPass):\n",
    "    # A transpiler pass to replace CX gates with twirled CX gates.\n",
    "\n",
    "    def run(self, dag):\n",
    "\n",
    "        # iterate over all operations\n",
    "        for node in dag.op_nodes():\n",
    "\n",
    "            # if a CNOT then replace with equivalent ``twirled\" circuit element. \n",
    "            if node.op.name == \"cx\":\n",
    "                rep = QuantumCircuit(2)\n",
    "                rand = random.randrange(16)\n",
    "                \n",
    "                if rand == 0:\n",
    "                    rep.cx(0,1)\n",
    "                if rand == 1:\n",
    "                    rep.x(1)\n",
    "                    rep.cx(0,1)\n",
    "                    rep.x(1)\n",
    "                if rand == 2:\n",
    "                    rep.y(1)\n",
    "                    rep.cx(0,1)\n",
    "                    rep.z(0)\n",
    "                    rep.y(1)\n",
    "                if rand == 3:\n",
    "                    rep.z(1)\n",
    "                    rep.cx(0,1)\n",
    "                    rep.z(0)\n",
    "                    rep.z(1)\n",
    "                if rand == 4:\n",
    "                    rep.x(0)\n",
    "                    rep.cx(0,1)\n",
    "                    rep.x(0)\n",
    "                    rep.x(1)\n",
    "                if rand == 5:\n",
    "                    rep.x(0)\n",
    "                    rep.x(1)\n",
    "                    rep.cx(0,1)\n",
    "                    rep.x(0)\n",
    "                if rand == 6:\n",
    "                    rep.x(0)\n",
    "                    rep.y(1)\n",
    "                    rep.cx(0,1)\n",
    "                    rep.y(0)\n",
    "                    rep.z(1)\n",
    "                if rand == 7:\n",
    "                    rep.x(0)\n",
    "                    rep.z(1)\n",
    "                    rep.cx(0,1)\n",
    "                    rep.y(0)\n",
    "                    rep.y(1)\n",
    "                if rand == 8:\n",
    "                    rep.y(0)\n",
    "                    rep.cx(0,1)\n",
    "                    rep.y(0)\n",
    "                    rep.x(1)\n",
    "                if rand == 9:\n",
    "                    rep.y(0)\n",
    "                    rep.x(1)\n",
    "                    rep.cx(0,1)\n",
    "                    rep.y(0)\n",
    "                if rand == 10:\n",
    "                    rep.y(0)\n",
    "                    rep.y(1)\n",
    "                    rep.cx(0,1)\n",
    "                    rep.x(0)\n",
    "                    rep.z(1)\n",
    "                if rand == 11:\n",
    "                    rep.y(0)\n",
    "                    rep.z(1)\n",
    "                    rep.cx(0,1)\n",
    "                    rep.x(0)\n",
    "                    rep.y(1)\n",
    "                if rand == 12:\n",
    "                    rep.z(0)\n",
    "                    rep.cx(0,1)\n",
    "                    rep.z(0)\n",
    "                if rand == 13:\n",
    "                    rep.z(0)\n",
    "                    rep.x(1)\n",
    "                    rep.cx(0,1)\n",
    "                    rep.z(0)\n",
    "                    rep.x(1)\n",
    "                if rand == 14:\n",
    "                    rep.z(0)\n",
    "                    rep.y(1)\n",
    "                    rep.cx(0,1)\n",
    "                    rep.y(1)\n",
    "                if rand == 15:\n",
    "                    rep.z(0)\n",
    "                    rep.z(1)\n",
    "                    rep.cx(0,1)\n",
    "                    rep.z(1)\n",
    "                    \n",
    "                # replace the CNOT with the new twirled circuit element\n",
    "                dag.substitute_node_with_dag(node, circuit_to_dag(rep))\n",
    "\n",
    "        return dag"
   ]
  },
  {
   "cell_type": "markdown",
   "id": "2afc9c69",
   "metadata": {},
   "source": [
    "# Generate the Trotterization circuit, transpiled to run on the specified device architecture."
   ]
  },
  {
   "cell_type": "code",
   "execution_count": 10,
   "id": "ef2dc56a",
   "metadata": {},
   "outputs": [],
   "source": [
    "# The mass, m, and gauge coupling, g\n",
    "m=1\n",
    "g=1\n",
    "\n",
    "# Keep the evolution time as a parameter. \n",
    "# This prevents the mitigation circuit with t=0 from being simplified by the transpiler.\n",
    "t1 = Parameter(\"t1\")\n",
    "\n",
    "circ=QuantumCircuit(6,6)\n",
    "# Initialize the trivial vacuum\n",
    "circ.x(0)\n",
    "circ.x(1)\n",
    "circ.x(2)\n",
    "\n",
    "# One second order Trotter step with terms explicitly combined and making use of [Um, Uel]=0 to cancel CNOTs.\n",
    "# Last sequence is ommited since it is just ZZ rotations which don't effect measurement.\n",
    "Um(circ, m, t1, 2)\n",
    "Uel1(circ, g, t1, 2)\n",
    "Ukin(circ, t1, 2)\n",
    "\n",
    "circ.measure([0,1,2,3,4,5],[0,1,2,3,4,5])\n",
    "\n",
    "# Search for the optimal way of mapping to architecture of the device on the backend\n",
    "minm = 500\n",
    "for i in range(50):  \n",
    "    circ1 = transpile(circ,backend=backend,optimization_level=3)\n",
    "    if circ1.count_ops()[\"cx\"] < minm:\n",
    "        minm = circ1.count_ops()[\"cx\"]\n",
    "        circ2 = circ1\n",
    "circ = circ2"
   ]
  },
  {
   "cell_type": "markdown",
   "id": "9b6a638e",
   "metadata": {},
   "source": [
    "### Creating the measurement mitigation circuit"
   ]
  },
  {
   "cell_type": "code",
   "execution_count": 3,
   "id": "80d794ad",
   "metadata": {},
   "outputs": [
    {
     "ename": "NameError",
     "evalue": "name 'backend' is not defined",
     "output_type": "error",
     "traceback": [
      "\u001b[0;31m---------------------------------------------------------------------------\u001b[0m",
      "\u001b[0;31mNameError\u001b[0m                                 Traceback (most recent call last)",
      "Input \u001b[0;32mIn [3]\u001b[0m, in \u001b[0;36m<cell line: 4>\u001b[0;34m()\u001b[0m\n\u001b[1;32m      2\u001b[0m mit_pattern\u001b[38;5;241m=\u001b[39m[[i] \u001b[38;5;28;01mfor\u001b[39;00m i \u001b[38;5;129;01min\u001b[39;00m \u001b[38;5;28mrange\u001b[39m(\u001b[38;5;241m6\u001b[39m)]\n\u001b[1;32m      3\u001b[0m meas_calibs, state_labels \u001b[38;5;241m=\u001b[39m tensored_meas_cal(mit_pattern, qr\u001b[38;5;241m=\u001b[39mqr, circlabel\u001b[38;5;241m=\u001b[39m\u001b[38;5;124m'\u001b[39m\u001b[38;5;124mmcal\u001b[39m\u001b[38;5;124m'\u001b[39m)\n\u001b[0;32m----> 4\u001b[0m circ_meas \u001b[38;5;241m=\u001b[39m transpile(meas_calibs, \u001b[43mbackend\u001b[49m)\n\u001b[1;32m      5\u001b[0m circ_list \u001b[38;5;241m=\u001b[39m circ_meas\n",
      "\u001b[0;31mNameError\u001b[0m: name 'backend' is not defined"
     ]
    }
   ],
   "source": [
    "qr = QuantumRegister(6)\n",
    "mit_pattern=[[i] for i in range(6)]\n",
    "meas_calibs, state_labels = tensored_meas_cal(mit_pattern, qr=qr, circlabel='mcal')\n",
    "circ_meas = transpile(meas_calibs, backend)\n",
    "circ_list = circ_meas"
   ]
  },
  {
   "cell_type": "markdown",
   "id": "8f43c81c",
   "metadata": {},
   "source": [
    "### Twirling the Trotterization circuit"
   ]
  },
  {
   "cell_type": "code",
   "execution_count": 15,
   "id": "7e3b1e07",
   "metadata": {},
   "outputs": [],
   "source": [
    "# A trotter step of Delta t = 3\n",
    "t=3\n",
    "i=0\n",
    "myruns = 149\n",
    "while i < myruns:\n",
    "    # Twirl the physics circuit\n",
    "    circTrot = circ.bind_parameters([t])\n",
    "    circTrot = CXTranslator()(circTrot)\n",
    "    \n",
    "    # Twirl the mitigation circuit\n",
    "    circMiti = circ.bind_parameters([0])\n",
    "    circMiti = CXTranslator()(circMiti)\n",
    "\n",
    "    # Light transpile\n",
    "    circTrot = transpile(circTrot, backend=backend, optimization_level=1, translation_method=\"translator\", routing_method=\"none\", layout_method = \"trivial\")\n",
    "    circMiti = transpile(circMiti, backend=backend, optimization_level=1,translation_method=\"translator\", routing_method=\"none\", layout_method = \"trivial\")\n",
    "    if circMiti.count_ops()[\"cx\"] == ncx:\n",
    "        circ_list.append(circTrot)\n",
    "        circ_list.append(circMiti)\n",
    "        i+=1"
   ]
  },
  {
   "cell_type": "markdown",
   "id": "16967fe2",
   "metadata": {},
   "source": [
    "# Running the circuit on the quantum device"
   ]
  },
  {
   "cell_type": "code",
   "execution_count": 25,
   "id": "f55d16b2",
   "metadata": {},
   "outputs": [],
   "source": [
    "nshots = 1000\n",
    "job = backend.run(circ_list, shots=nshots)\n",
    "results = job.result()\n",
    "\n",
    "meas_fitter = TensoredMeasFitter(results, mit_pattern, circlabel='mcal')\n",
    "meas_filter = meas_fitter.filter\n",
    "# Apply measurement mitigation to the results\n",
    "mitigated_results = meas_filter.apply(results)\n",
    "mit_output=mitigated_results.get_counts()"
   ]
  },
  {
   "cell_type": "markdown",
   "id": "8ae5ba4f",
   "metadata": {},
   "source": [
    "### Extracting the vacuum persistence probability in the physics circuit and post-selecting on states with $r=g=b=0$"
   ]
  },
  {
   "cell_type": "code",
   "execution_count": 26,
   "id": "408d088d",
   "metadata": {},
   "outputs": [],
   "source": [
    "vacAmp = []\n",
    "for i in range(myruns):\n",
    "    # Physics runs are the even numbered elements in the array\n",
    "    temp = mit_output[2+2*i]\n",
    "    physicalTotal = 0\n",
    "    isKey = False\n",
    "    # Post select on physical states, r=g=b=0\n",
    "    for key in temp:\n",
    "        if key[0]!=key[3] and key[1]!=key[4] and key[2]!=key[5]:\n",
    "            physicalTotal += temp[key]\n",
    "        if key == '000111':\n",
    "            isKey = True\n",
    "    if isKey:\n",
    "        vacAmp.append(temp['000111']/physicalTotal)\n",
    "    else:\n",
    "        vacAmp.append(0)"
   ]
  },
  {
   "cell_type": "code",
   "execution_count": null,
   "id": "75d5c3c4",
   "metadata": {},
   "outputs": [],
   "source": [
    "plt.scatter(np.arange(0, 149, 1),vacAmp)"
   ]
  },
  {
   "cell_type": "markdown",
   "id": "a48f5639",
   "metadata": {},
   "source": [
    "### Extracting the vacuum persistence probability in the mitigation circuit and post-selecting on states with $r=g=b=0$"
   ]
  },
  {
   "cell_type": "code",
   "execution_count": null,
   "id": "23ac6e4f",
   "metadata": {},
   "outputs": [],
   "source": [
    "mitiAmp = []\n",
    "for i in range(myruns):\n",
    "    # Mitigation runs are the odd numbered elements in the array\n",
    "    temp = mit_output[3+2*i]\n",
    "    physicalTotal = 0\n",
    "    for key in temp:\n",
    "        if key[0]!=key[3] and key[1]!=key[4] and key[2]!=key[5]:\n",
    "            physicalTotal += temp[key]\n",
    "    mitiAmp.append(temp['000111']/physicalTotal)"
   ]
  },
  {
   "cell_type": "code",
   "execution_count": null,
   "id": "fd7f3d97",
   "metadata": {},
   "outputs": [],
   "source": [
    "plt.scatter(np.arange(0, 149, 1),mitiAmp)"
   ]
  }
 ],
 "metadata": {
  "kernelspec": {
   "display_name": "Python 3 (ipykernel)",
   "language": "python",
   "name": "python3"
  },
  "language_info": {
   "codemirror_mode": {
    "name": "ipython",
    "version": 3
   },
   "file_extension": ".py",
   "mimetype": "text/x-python",
   "name": "python",
   "nbconvert_exporter": "python",
   "pygments_lexer": "ipython3",
   "version": "3.10.4"
  }
 },
 "nbformat": 4,
 "nbformat_minor": 5
}
