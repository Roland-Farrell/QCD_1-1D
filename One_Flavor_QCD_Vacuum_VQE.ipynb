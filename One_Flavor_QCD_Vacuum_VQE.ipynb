{
 "cells": [
  {
   "cell_type": "markdown",
   "id": "cab535d9",
   "metadata": {},
   "source": [
    "### Roland Farrell 08/02/22\n",
    "### see arXiv:2207.01731"
   ]
  },
  {
   "cell_type": "code",
   "execution_count": 1,
   "id": "b12be020",
   "metadata": {},
   "outputs": [],
   "source": [
    "import numpy as np\n",
    "import qiskit\n",
    "from qiskit.quantum_info import Pauli\n",
    "from qiskit.circuit import QuantumCircuit, ParameterVector\n",
    "from qiskit.opflow import (I, X, Y, Z, PauliOp, CircuitOp, PauliExpectation, AerPauliExpectation)\n",
    "from qiskit.algorithms import VQE\n",
    "from qiskit.algorithms.optimizers import *\n",
    "from qiskit.utils import QuantumInstance\n",
    "from qiskit import Aer, transpile"
   ]
  },
  {
   "cell_type": "markdown",
   "id": "d40b2089",
   "metadata": {},
   "source": [
    "# Using the Variational Quantum Eigensolver (VQE) to determine the ground state of one flavor QCD on a $L=1$ one dimensional lattice. This system maps onto six qubits."
   ]
  },
  {
   "cell_type": "markdown",
   "id": "8a2719b4",
   "metadata": {},
   "source": [
    "# Constructing the Hamiltonian"
   ]
  },
  {
   "cell_type": "markdown",
   "id": "e86708ca",
   "metadata": {},
   "source": [
    "### Returns an operator corresponding to a given Pauli string. The given Pauli string is in the form of a dictionary which contains keys which label the qubit (0-5) and values which are Pauli operators. Factors of the identity are automatically included."
   ]
  },
  {
   "cell_type": "code",
   "execution_count": 2,
   "id": "22aa5d59",
   "metadata": {},
   "outputs": [],
   "source": [
    "def Hpauli(dict):\n",
    "    prev = 6\n",
    "    op = 1\n",
    "    for index, Pauli in sorted(dict.items(),reverse=True):\n",
    "        if (prev - index - 1) != 0:\n",
    "            op = op^(I.tensorpower(prev - index - 1))\n",
    "        op = op^Pauli\n",
    "        prev = index\n",
    "    if prev != 0:\n",
    "        op = op.tensor(I.tensorpower(prev))\n",
    "    return op"
   ]
  },
  {
   "cell_type": "markdown",
   "id": "e35be539",
   "metadata": {},
   "source": [
    "### Constructs the mass part of the Hamiltonian, returns a PauliSumOp which is a sum of Pauli strings."
   ]
  },
  {
   "cell_type": "code",
   "execution_count": 3,
   "id": "b9722163",
   "metadata": {},
   "outputs": [],
   "source": [
    "def Hm():\n",
    "    op = 3 * (I^(6))\n",
    "    for p in range(2):\n",
    "        for q in range(3):\n",
    "            op = op + (-1)**(p)/2 * Hpauli({3*p + q: Z})\n",
    "    return op.reduce()  "
   ]
  },
  {
   "cell_type": "markdown",
   "id": "eaf34fc1",
   "metadata": {},
   "source": [
    "### Constructs the kinetic part of the Hamiltonian, returns a PauliSumOp which is a sum of Pauli strings."
   ]
  },
  {
   "cell_type": "code",
   "execution_count": 4,
   "id": "ab346749",
   "metadata": {},
   "outputs": [],
   "source": [
    "def Hkin():\n",
    "    op = 0\n",
    "    for p in range(1):\n",
    "        op = op + 1/2 * (Hpauli({3*p: X, 3*p+1: Z, 3*p+2: Z, 3*p+3: X}) + Hpauli({3*p: Y, 3*p+1: Z, 3*p+2: Z, 3*p+3: Y}))\n",
    "        op = op + 1/2 * (Hpauli({3*p+1: X, 3*p+2: Z, 3*p+3: Z, 3*p+4: X}) + Hpauli({3*p+1: Y, 3*p+2: Z, 3*p+3: Z, 3*p+4: Y}))\n",
    "        op = op + 1/2 * (Hpauli({3*p+2: X, 3*p+3: Z, 3*p+4: Z, 3*p+5: X}) + Hpauli({3*p+2: Y, 3*p+3: Z, 3*p+4: Z, 3*p+5: Y}))\n",
    "    return (1/2 * op).reduce()  "
   ]
  },
  {
   "cell_type": "markdown",
   "id": "42cd368e",
   "metadata": {},
   "source": [
    "### Constructs the electric part of the Hamiltonian, returns a PauliSumOp which is a sum of Pauli strings."
   ]
  },
  {
   "cell_type": "code",
   "execution_count": 5,
   "id": "81bf655c",
   "metadata": {},
   "outputs": [],
   "source": [
    "def Hel():\n",
    "    op = 3 * (I^(6))\n",
    "    for p in range(2):\n",
    "        op = op - (1-p) * (Hpauli({3*p: Z, 3*p+1: Z}) + Hpauli({3*p: Z, 3*p+2: Z}) + Hpauli({3*p+1: Z, 3*p+2: Z}))\n",
    "    return ((1/ 6)* op).reduce()"
   ]
  },
  {
   "cell_type": "markdown",
   "id": "aac96581",
   "metadata": {},
   "source": [
    "### The full Hamiltonian. Takes as parameters the mass, m, and gauge coupling, g. Returns a PauliSumOp which is a sum of Pauli strings."
   ]
  },
  {
   "cell_type": "code",
   "execution_count": 6,
   "id": "7d32f741",
   "metadata": {},
   "outputs": [],
   "source": [
    "def H(m,g):\n",
    "    return (m * Hm() + Hkin() + g**2 * Hel()).reduce()"
   ]
  },
  {
   "cell_type": "markdown",
   "id": "636d3392",
   "metadata": {},
   "source": [
    "# Constructing the variational circuit and Hamiltonian\n",
    "### The energy of the most general state with the quantum numbers of the vacuum can be parameterized by a set of angles $\\theta$ as:\n",
    "###                 $E(\\theta) \\ = \\ \\langle{{\\Omega_0}}\\rvert U_{var}^{\\dagger}(\\theta) \\tilde{H} U_{var}(\\theta) \\lvert{{\\Omega_0}}\\rangle$\n",
    "### where $\\lvert{{\\Omega_0}}\\rangle$ is the trivial vacuum, $U_{var}(\\theta)$ is a variational circuit and $\\tilde{H}= U_s^{\\dagger} H U_s$. Factoring out the static part of the variational circuit, $U_s$, reduces the complexity of the circuits which are run on the quantum device, at the cost of more correlated measurements. By minimizing $E(\\theta)$, the circuit which prepares the ground state, $U_s\\,U_{var}(\\theta)$, is determined. "
   ]
  },
  {
   "cell_type": "markdown",
   "id": "0f4fa8cb",
   "metadata": {},
   "source": [
    "### Constructs $U_s$, returns in CircuitOp form"
   ]
  },
  {
   "cell_type": "code",
   "execution_count": 7,
   "id": "8ea552b0",
   "metadata": {},
   "outputs": [],
   "source": [
    "def Us():\n",
    "    circ = QuantumCircuit(6)\n",
    "    circ.x(0)\n",
    "    circ.x(1)\n",
    "    circ.x(2)\n",
    "    circ.cx(4,5)\n",
    "    circ.cx(3, 0)\n",
    "    circ.cx(3,4)\n",
    "    circ.cx(4, 1)\n",
    "    circ.cx(5, 2)\n",
    "    return CircuitOp(circ)"
   ]
  },
  {
   "cell_type": "markdown",
   "id": "0efcf905",
   "metadata": {},
   "source": [
    "### Constructs $\\tilde{H}$, returns as a PauliSumOp"
   ]
  },
  {
   "cell_type": "code",
   "execution_count": 8,
   "id": "afee33f1",
   "metadata": {},
   "outputs": [],
   "source": [
    "def Htilde(m,g):\n",
    "    stat = Us()\n",
    "    op = 0*(I^6)\n",
    "    # conjugte each pauli string in H by Us. Also converting to a PauliOp\n",
    "    for pauli, coeff in H(m,g).primitive.label_iter():\n",
    "        op = op + (stat.adjoint() @ PauliOp(Pauli(pauli),coeff) @ stat).to_pauli_op()\n",
    "    op = op.reduce()\n",
    "    return op"
   ]
  },
  {
   "cell_type": "markdown",
   "id": "9826de1d",
   "metadata": {},
   "source": [
    "### The variational part of VQE circuit, see Fig. 17 in arXiv:2207.01731 "
   ]
  },
  {
   "cell_type": "code",
   "execution_count": 9,
   "id": "c9b715a5",
   "metadata": {},
   "outputs": [],
   "source": [
    "def VacAnsatz3angleNoStat():\n",
    "    params = ParameterVector('theta', length=3)\n",
    "    it = iter(params)\n",
    "    ansatz = QuantumCircuit(3 * 2)\n",
    "    \n",
    "    # Generic B=0 state is parameterized by 7 angles. Reducing to color singlets reduces this to 3 angles\n",
    "    theta=next(it)\n",
    "    theta01=next(it)\n",
    "    theta011=next(it)\n",
    "    \n",
    "    theta00 = -2 * np.arcsin(np.tan(theta/2) * np.cos(theta01/2))\n",
    "    theta001 = -2 * np.arcsin(np.cos(theta011/2) * np.tan(theta01/2))\n",
    "    theta000 = -2 * np.arcsin(np.tan(theta00/2) * np.cos(theta001/2))\n",
    "    \n",
    "    ansatz.ry(theta, 3)\n",
    "    \n",
    "    ansatz.x(3)\n",
    "    ansatz.cry(theta00,3, 4)\n",
    "    ansatz.x(3)\n",
    "    \n",
    "    ansatz.ry(theta01/2,4)\n",
    "    ansatz.cx(3,4)\n",
    "    ansatz.ry(-theta01/2,4)\n",
    "    \n",
    "    ansatz.ry(theta011/4,5)\n",
    "    ansatz.cx(3,5)\n",
    "    ansatz.ry(-theta011/4,5)\n",
    "    ansatz.cx(4,5)\n",
    "    ansatz.ry(-theta011/4,5)\n",
    "    ansatz.cx(3,5)\n",
    "    ansatz.ry(theta011/4 -theta001/2,5)\n",
    "\n",
    "    ansatz.cx(4,5)\n",
    "    ansatz.ry(theta001/2 + theta000/4,5)\n",
    "\n",
    "    ansatz.cx(3,5)\n",
    "    ansatz.ry(theta000/4,5)\n",
    "    ansatz.cx(4,5)\n",
    "    ansatz.ry(theta000/4,5)\n",
    "    ansatz.cx(3,5)\n",
    "    ansatz.ry(theta000/4,5)\n",
    "    \n",
    "    # Prepares the most general state with Us factored out.\n",
    "    \n",
    "    return ansatz"
   ]
  },
  {
   "cell_type": "markdown",
   "id": "bf66b16d",
   "metadata": {},
   "source": [
    "# Find ground state with qiskit's implementation of VQE"
   ]
  },
  {
   "cell_type": "code",
   "execution_count": 10,
   "id": "d49ac10d",
   "metadata": {},
   "outputs": [
    {
     "name": "stdout",
     "output_type": "stream",
     "text": [
      "{   'aux_operator_eigenvalues': None,\n",
      "    'cost_function_evals': 196,\n",
      "    'eigenstate': {   '000000': 0.9612491872558333,\n",
      "                      '100000': 0.15491933384829668,\n",
      "                      '110000': 0.15811388300841897,\n",
      "                      '111000': 0.16431676725154984},\n",
      "    'eigenvalue': (-0.2743611471958559+0j),\n",
      "    'optimal_circuit': None,\n",
      "    'optimal_parameters': {   ParameterVectorElement(theta[0]): -0.365135601994009,\n",
      "                              ParameterVectorElement(theta[1]): -0.41168864451967546,\n",
      "                              ParameterVectorElement(theta[2]): -0.4691389342916442},\n",
      "    'optimal_point': array([-0.3651356 , -0.41168864, -0.46913893]),\n",
      "    'optimal_value': -0.2743611471958559,\n",
      "    'optimizer_evals': None,\n",
      "    'optimizer_result': None,\n",
      "    'optimizer_time': 0.24194884300231934}\n"
     ]
    }
   ],
   "source": [
    "# The SLSQP optimizer works well when running on a quantum device. The CG optimizer is better if using the noiseless Aer simulator.\n",
    "optimizer = CG(maxiter=50)\n",
    "\n",
    "# Change backend to put on a real device\n",
    "qi_sv = QuantumInstance(Aer.get_backend('aer_simulator'),shots=1000)\n",
    "\n",
    "# PauliExpecation groups measurements into mutually commuting sets. Inital_point takes the initial state as the trivial vacuum.\n",
    "vqe = VQE(VacAnsatz3angleNoStat(), optimizer = optimizer, expectation = AerPauliExpectation(), initial_point=[0,0,0], quantum_instance = qi_sv)\n",
    "result = vqe.compute_minimum_eigenvalue(Htilde(1,1))\n",
    "print(result)"
   ]
  }
 ],
 "metadata": {
  "kernelspec": {
   "display_name": "Python 3 (ipykernel)",
   "language": "python",
   "name": "python3"
  },
  "language_info": {
   "codemirror_mode": {
    "name": "ipython",
    "version": 3
   },
   "file_extension": ".py",
   "mimetype": "text/x-python",
   "name": "python",
   "nbconvert_exporter": "python",
   "pygments_lexer": "ipython3",
   "version": "3.10.4"
  }
 },
 "nbformat": 4,
 "nbformat_minor": 5
}
