{
 "cells": [
  {
   "cell_type": "markdown",
   "id": "fd03d7e0",
   "metadata": {},
   "source": [
    "### Roland Farrell 04/02/23\n",
    "### This notebook efficiently constructs the Hamiltonian for QCD with two flavors of quarks (up and down) on a one dimensional lattice. Once constructed, exact methods are used to obtain the spectrum, the entanglement between quarks and antiquarks and perform time evolution. The mapping to qubits is given in arXiv:2207.01731  "
   ]
  },
  {
   "cell_type": "code",
   "execution_count": 1,
   "id": "b3a64013",
   "metadata": {},
   "outputs": [],
   "source": [
    "using SparseArrays, Arpack, LinearAlgebra, Plots, Expokit, Folds"
   ]
  },
  {
   "cell_type": "markdown",
   "id": "50ca6366",
   "metadata": {},
   "source": [
    "# Create the Hamiltonian as a sum of Pauli strings, for example $H=\\sigma^+\\otimes\\sigma^z\\otimes\\sigma^- \\otimes\\cdots \\ + \\ \\sigma^z\\otimes\\sigma^-\\otimes\\sigma^+\\otimes\\cdots \\ + \\ \\ldots$ \n",
    "# This is kept in tensor product form as it is more efficient to store and manipulate."
   ]
  },
  {
   "cell_type": "markdown",
   "id": "70b15189",
   "metadata": {},
   "source": [
    "## Operators are encoded as a tuple ( Dict{ UInt8 , UInt8 } , Float64 ). The dictionary has (key, value) = (qubit number, Pauli) and the Float64 is the coefficient of this term. The qubit number starts at zero and runs from right to left. For example $\\lvert 000000111011\\rangle$ represents a blue up quark since qubit 2 is $0$ (spin up).  The Paulis are encoded as $\\sigma^+ \\to 0$, $\\sigma^- \\to 1$, $\\sigma^z \\to 2$."
   ]
  },
  {
   "cell_type": "markdown",
   "id": "489bf1c0",
   "metadata": {},
   "source": [
    "### Construct the mass part of the Hamiltonian, takes in $N=2L$ and outputs an array of operators."
   ]
  },
  {
   "cell_type": "code",
   "execution_count": 2,
   "id": "bba74816",
   "metadata": {},
   "outputs": [
    {
     "data": {
      "text/plain": [
       "Hm (generic function with 1 method)"
      ]
     },
     "execution_count": 2,
     "metadata": {},
     "output_type": "execute_result"
    }
   ],
   "source": [
    "function Hm(N)\n",
    "    op = Array{Tuple{Dict{UInt8,UInt8}, Float64}}(undef, 0)\n",
    "    # The identity is an empty dictionary\n",
    "    push!(op,(Dict() , 3*N))\n",
    "    # For each fermion, flavor and color\n",
    "    for n in 0:N-1\n",
    "        for f in 0:1\n",
    "            for c in 0:2\n",
    "                if f==0\n",
    "                    push!(op,(Dict(6*n+3*f+c => 2), (0.5)*(-1)^(n)))\n",
    "                else\n",
    "                    push!(op,(Dict(6*n+3*f+c => 2), (0.5)*(-1)^(n)))\n",
    "                end\n",
    "            end\n",
    "        end\n",
    "    end\n",
    "    op\n",
    "end"
   ]
  },
  {
   "cell_type": "markdown",
   "id": "0aeecf60",
   "metadata": {},
   "source": [
    "### Construct the kinetic part of the Hamiltonian, takes in $N=2L$ and outputs an array of operators."
   ]
  },
  {
   "cell_type": "code",
   "execution_count": 3,
   "id": "ba5876ff",
   "metadata": {},
   "outputs": [
    {
     "data": {
      "text/plain": [
       "Hkin (generic function with 1 method)"
      ]
     },
     "execution_count": 3,
     "metadata": {},
     "output_type": "execute_result"
    }
   ],
   "source": [
    "function Hkin(N)\n",
    "    op = Array{Tuple{Dict{UInt8,UInt8}, Float64}}(undef, 0)\n",
    "    for n in 0:N-2\n",
    "        for f in 0:1\n",
    "            for c in 0:2\n",
    "                push!(op,(Dict(6*n+3*f+c => 0, 6*n+3*f+c+1 => 2, 6*n+3*f+c+2 => 2, 6*n+3*f+c+3 => 2, 6*n+3*f+c+4 => 2, 6*n+3*f+c+5 => 2, 6*n+3*f+c+6 => 1), -0.5))\n",
    "                push!(op,(Dict(6*n+3*f+c => 1, 6*n+3*f+c+1 => 2, 6*n+3*f+c+2 => 2, 6*n+3*f+c+3 => 2, 6*n+3*f+c+4 => 2, 6*n+3*f+c+5 => 2, 6*n+3*f+c+6 => 0), -0.5))\n",
    "            end\n",
    "        end\n",
    "    end\n",
    "    op\n",
    "end"
   ]
  },
  {
   "cell_type": "markdown",
   "id": "4f54af91",
   "metadata": {},
   "source": [
    "### Construct the local part of the chromoelectric Hamiltonian, takes in $N=2L$ and outputs an array of operators."
   ]
  },
  {
   "cell_type": "code",
   "execution_count": 4,
   "id": "70b27471",
   "metadata": {},
   "outputs": [
    {
     "data": {
      "text/plain": [
       "Hel1 (generic function with 1 method)"
      ]
     },
     "execution_count": 4,
     "metadata": {},
     "output_type": "execute_result"
    }
   ],
   "source": [
    "function Hel1(N)\n",
    "    op = Array{Tuple{Dict{UInt8,UInt8}, Float64}}(undef, 0)\n",
    "    push!(op,(Dict() , N*(N-1)/2))\n",
    "    for n in 0:N-2\n",
    "        for f in 0:1\n",
    "            push!(op,(Dict(6*n+3*f => 2, 6*n+3*f+1 =>  2),-(N-1-n)/6),\n",
    "                     (Dict(6*n+3*f =>  2, 6*n+3*f+2 =>  2),-(N-1-n)/6),\n",
    "                     (Dict(6*n+3*f+1 =>  2, 6*n+3*f+2 =>  2),-(N-1-n)/6))\n",
    "        end\n",
    "\n",
    "        push!(op,(Dict(6*n =>  0, 6*n+1 =>  1, 6*n+3 =>  1, 6*n+4 =>  0),(N-1-n)/2),\n",
    "                 (Dict(6*n =>  0, 6*n+1 =>  2, 6*n+2 =>  1, 6*n+3 =>  1, 6*n+4 =>  2, 6*n+5 =>  0),(N-1-n)/2),\n",
    "                 (Dict(6*n+1 =>  0, 6*n+2 =>  1, 6*n+4 =>  1, 6*n+5 =>  0),(N-1-n)/2),\n",
    "                 (Dict(6*n =>  1, 6*n+1 =>  0, 6*n+3 =>  0, 6*n+4 =>  1),(N-1-n)/2),\n",
    "                 (Dict(6*n =>  1, 6*n+1 =>  2, 6*n+2 =>  0, 6*n+3 =>  0, 6*n+4 =>  2, 6*n+5 =>  1),(N-1-n)/2),\n",
    "                 (Dict(6*n+1 =>  1, 6*n+2 =>  0, 6*n+4 =>  0, 6*n+5 =>  1),(N-1-n)/2)\n",
    "        )\n",
    "    \n",
    "        push!(op,(Dict(6*n =>  2, 6*n+4 => 2),-(N-1-n)/24), (Dict(6*n => 2, 6*n+5 => 2),-(N-1-n)/24),\n",
    "                 (Dict(6*n+1 => 2, 6*n+3 => 2),-(N-1-n)/24), (Dict(6*n+1 => 2, 6*n+5 => 2),-(N-1-n)/24),\n",
    "                 (Dict(6*n+2 => 2, 6*n+3 => 2),-(N-1-n)/24), (Dict(6*n+2 => 2, 6*n+4 => 2),-(N-1-n)/24),\n",
    "                 (Dict(6*n => 2, 6*n+3 => 2),(N-1-n)/12), (Dict(6*n+1 => 2, 6*n+4 => 2),(N-1-n)/12), (Dict(6*n+2 => 2, 6*n+5 => 2),(N-1-n)/12)\n",
    "             )\n",
    "    end\n",
    "    op\n",
    "end"
   ]
  },
  {
   "cell_type": "markdown",
   "id": "015a0243",
   "metadata": {},
   "source": [
    "### Construct the nonlocal part of the chromoelectric Hamiltonian, takes in $N=2L$ and outputs an array of operators.\n"
   ]
  },
  {
   "cell_type": "code",
   "execution_count": 5,
   "id": "b19bf2c0",
   "metadata": {},
   "outputs": [
    {
     "data": {
      "text/plain": [
       "Hel2 (generic function with 1 method)"
      ]
     },
     "execution_count": 5,
     "metadata": {},
     "output_type": "execute_result"
    }
   ],
   "source": [
    "function Hel2(N)\n",
    "    op = Array{Tuple{Dict{UInt8,UInt8}, Float64}}(undef, 0)\n",
    "    for n in 0:N-3\n",
    "        for m in 0:N-2-n-1\n",
    "            for f in 0:1\n",
    "                for fp in 0:1\n",
    "                    push!(op,(Dict(6*n+3*f =>  0, 6*n+3*f+1 =>  1, 6*(n+m+1)+3*fp =>  1, 6*(n+m+1)+3*fp+1 =>  0),(N-2-n-m)/2),\n",
    "                             (Dict(6*n+3*f =>  0, 6*n+3*f+1 =>  2, 6*n+3*f+2 =>  1, 6*(n+m+1)+3*fp =>  1, 6*(n+m+1)+3*fp+1 =>  2, 6*(n+m+1)+3*fp+2 =>  0),(N-2-n-m)/2),\n",
    "                             (Dict(6*n+3*f+1 =>  0, 6*n+3*f+2 =>  1, 6*(n+m+1)+3*fp+1 =>  1, 6*(n+m+1)+3*fp+2 =>  0),(N-2-n-m)/2),\n",
    "                             (Dict(6*n+3*f =>  1, 6*n+3*f+1 =>  0, 6*(n+m+1)+3*fp =>  0, 6*(n+m+1)+3*fp+1 =>  1),(N-2-n-m)/2),\n",
    "                             (Dict(6*n+3*f =>  1, 6*n+3*f+1 =>  2, 6*n+3*f+2 =>  0, 6*(n+m+1)+3*fp =>  0, 6*(n+m+1)+3*fp+1 =>  2, 6*(n+m+1)+3*fp+2 =>  1),(N-2-n-m)/2),\n",
    "                             (Dict(6*n+3*f+1 =>  1, 6*n+3*f+2 =>  0, 6*(n+m+1)+3*fp+1 =>  0, 6*(n+m+1)+3*fp+2 =>  1),(N-2-n-m)/2))\n",
    "                    \n",
    "                    push!(op,(Dict(6*n+3*f =>  2, 6*(n+m+1)+3*fp+1 =>  2),-(N-2-n-m)/24), (Dict(6*n+3*f =>  2, 6*(n+m+1)+3*fp+2 =>  2),-(N-2-n-m)/24),\n",
    "                             (Dict(6*n+3*f+1 =>  2, 6*(n+m+1)+3*fp =>  2),-(N-2-n-m)/24), (Dict(6*n+3*f+1 =>  2, 6*(n+m+1)+3*fp+2 =>  2),-(N-2-n-m)/24),\n",
    "                             (Dict(6*n+3*f+2 =>  2, 6*(n+m+1)+3*fp =>  2),-(N-2-n-m)/24), (Dict(6*n+3*f+2 =>  2, 6*(n+m+1)+3*fp+1 =>  2),-(N-2-n-m)/24),\n",
    "                             (Dict(6*n+3*f =>  2, 6*(n+m+1)+3*fp =>  2),(N-2-n-m)/12), (Dict(6*n+3*f+1 =>  2, 6*(n+m+1)+3*fp+1 =>  2),(N-2-n-m)/12), \n",
    "                             (Dict(6*n+3*f+2 =>  2, 6*(n+m+1)+3*fp+2 =>  2),(N-2-n-m)/12))\n",
    "                end\n",
    "            end                    \n",
    "        end\n",
    "    end\n",
    "    op\n",
    "end"
   ]
  },
  {
   "cell_type": "markdown",
   "id": "c143d589",
   "metadata": {},
   "source": [
    "### Construct the singlet projection operator $H_{\\bf 1}$ of the Hamiltonian, takes in $N=2L$ and outputs an array of operators."
   ]
  },
  {
   "cell_type": "code",
   "execution_count": 6,
   "id": "bfb30734",
   "metadata": {},
   "outputs": [
    {
     "data": {
      "text/plain": [
       "Helghost (generic function with 1 method)"
      ]
     },
     "execution_count": 6,
     "metadata": {},
     "output_type": "execute_result"
    }
   ],
   "source": [
    "function Helghost(N)\n",
    "    op = Array{Tuple{Dict{UInt8,UInt8}, Float64}}(undef, 0)\n",
    "    push!(op,(Dict() , N))\n",
    "    for n in 0:N-1\n",
    "        for f in 0:1\n",
    "            push!(op,(Dict(6*n+3*f => 2, 6*n+3*f+1 =>  2),-1/6),\n",
    "                     (Dict(6*n+3*f =>  2, 6*n+3*f+2 =>  2),-1/6),\n",
    "                     (Dict(6*n+3*f+1 =>  2, 6*n+3*f+2 =>  2),-1/6))\n",
    "        end\n",
    "\n",
    "        push!(op,(Dict(6*n =>  0, 6*n+1 =>  1, 6*n+3 =>  1, 6*n+4 =>  0),1/2),\n",
    "                 (Dict(6*n =>  0, 6*n+1 =>  2, 6*n+2 =>  1, 6*n+3 =>  1, 6*n+4 =>  2, 6*n+5 =>  0),1/2),\n",
    "                 (Dict(6*n+1 =>  0, 6*n+2 =>  1, 6*n+4 =>  1, 6*n+5 =>  0),1/2),\n",
    "                 (Dict(6*n =>  1, 6*n+1 =>  0, 6*n+3 =>  0, 6*n+4 =>  1),1/2),\n",
    "                 (Dict(6*n =>  1, 6*n+1 =>  2, 6*n+2 =>  0, 6*n+3 =>  0, 6*n+4 =>  2, 6*n+5 =>  1),1/2),\n",
    "                 (Dict(6*n+1 =>  1, 6*n+2 =>  0, 6*n+4 =>  0, 6*n+5 =>  1),1/2))\n",
    "    \n",
    "        push!(op,(Dict(6*n =>  2, 6*n+4 => 2),-1/24), (Dict(6*n => 2, 6*n+5 => 2),-1/24),\n",
    "                 (Dict(6*n+1 => 2, 6*n+3 => 2),-1/24), (Dict(6*n+1 => 2, 6*n+5 => 2),-1/24),\n",
    "                 (Dict(6*n+2 => 2, 6*n+3 => 2),-1/24), (Dict(6*n+2 => 2, 6*n+4 => 2),-1/24),\n",
    "                 (Dict(6*n => 2, 6*n+3 => 2),1/12), (Dict(6*n+1 => 2, 6*n+4 => 2),1/12), (Dict(6*n+2 => 2, 6*n+5 => 2),1/12)\n",
    "             )\n",
    "    end\n",
    "    \n",
    "    for n in 0:N-2\n",
    "        for m in 0:N-1-n-1\n",
    "            for f in 0:1\n",
    "                for fp in 0:1\n",
    "                    push!(op,(Dict(6*n+3*f =>  0, 6*n+3*f+1 =>  1, 6*(n+m+1)+3*fp =>  1, 6*(n+m+1)+3*fp+1 =>  0),1/2),\n",
    "                             (Dict(6*n+3*f =>  0, 6*n+3*f+1 =>  2, 6*n+3*f+2 =>  1, 6*(n+m+1)+3*fp =>  1, 6*(n+m+1)+3*fp+1 =>  2, 6*(n+m+1)+3*fp+2 =>  0),1/2),\n",
    "                             (Dict(6*n+3*f+1 =>  0, 6*n+3*f+2 =>  1, 6*(n+m+1)+3*fp+1 =>  1, 6*(n+m+1)+3*fp+2 =>  0),1/2),\n",
    "                             (Dict(6*n+3*f =>  1, 6*n+3*f+1 =>  0, 6*(n+m+1)+3*fp =>  0, 6*(n+m+1)+3*fp+1 =>  1),1/2),\n",
    "                             (Dict(6*n+3*f =>  1, 6*n+3*f+1 =>  2, 6*n+3*f+2 =>  0, 6*(n+m+1)+3*fp =>  0, 6*(n+m+1)+3*fp+1 =>  2, 6*(n+m+1)+3*fp+2 =>  1),1/2),\n",
    "                             (Dict(6*n+3*f+1 =>  1, 6*n+3*f+2 =>  0, 6*(n+m+1)+3*fp+1 =>  0, 6*(n+m+1)+3*fp+2 =>  1),1/2))\n",
    "                    \n",
    "                    push!(op,(Dict(6*n+3*f =>  2, 6*(n+m+1)+3*fp+1 =>  2),-1/24), (Dict(6*n+3*f =>  2, 6*(n+m+1)+3*fp+2 =>  2),-1/24),\n",
    "                             (Dict(6*n+3*f+1 =>  2, 6*(n+m+1)+3*fp =>  2),-1/24), (Dict(6*n+3*f+1 =>  2, 6*(n+m+1)+3*fp+2 =>  2),-1/24),\n",
    "                             (Dict(6*n+3*f+2 =>  2, 6*(n+m+1)+3*fp =>  2),-1/24), (Dict(6*n+3*f+2 =>  2, 6*(n+m+1)+3*fp+1 =>  2),-1/24),\n",
    "                             (Dict(6*n+3*f =>  2, 6*(n+m+1)+3*fp =>  2),1/12), (Dict(6*n+3*f+1 =>  2, 6*(n+m+1)+3*fp+1 =>  2),1/12), \n",
    "                             (Dict(6*n+3*f+2 =>  2, 6*(n+m+1)+3*fp+2 =>  2),1/12))\n",
    "                end\n",
    "            end                    \n",
    "        end\n",
    "    end\n",
    "    op\n",
    "end"
   ]
  },
  {
   "cell_type": "markdown",
   "id": "eba495dd",
   "metadata": {},
   "source": [
    "### The complete chromoelectric part of the Hamiltonian"
   ]
  },
  {
   "cell_type": "code",
   "execution_count": 7,
   "id": "5e7b0b5b",
   "metadata": {},
   "outputs": [
    {
     "data": {
      "text/plain": [
       "Hel (generic function with 1 method)"
      ]
     },
     "execution_count": 7,
     "metadata": {},
     "output_type": "execute_result"
    }
   ],
   "source": [
    "function Hel(N)\n",
    "    vcat(Hel1(N), Hel2(N))\n",
    "end"
   ]
  },
  {
   "cell_type": "markdown",
   "id": "701fb5d5",
   "metadata": {},
   "source": [
    "# Constructing a basis with the desired quantum numbers"
   ]
  },
  {
   "cell_type": "markdown",
   "id": "ba57be90",
   "metadata": {},
   "source": [
    "### Buildseed returns a list of strings representing the possible occupations over sites with a given color, corresponding to a desired baryon number."
   ]
  },
  {
   "cell_type": "code",
   "execution_count": 8,
   "id": "f17ee2fb",
   "metadata": {},
   "outputs": [
    {
     "data": {
      "text/plain": [
       "buildSeed (generic function with 1 method)"
      ]
     },
     "execution_count": 8,
     "metadata": {},
     "output_type": "execute_result"
    }
   ],
   "source": [
    "function buildSeed(B,N)\n",
    "    seed = []\n",
    "    for i in 0:2^(2*N)-1\n",
    "        str = bitstring(i)[64-2*N+1:64]\n",
    "        if count(\"1\",str) == N - B\n",
    "            push!(seed,str)\n",
    "        end\n",
    "    end\n",
    "    seed\n",
    "end"
   ]
  },
  {
   "cell_type": "markdown",
   "id": "404b51c8",
   "metadata": {},
   "source": [
    "### Returns $I_3$, the third component of isospin, for a given bitstring. Takes in as arguments state, a bitstring and $N=2L$."
   ]
  },
  {
   "cell_type": "code",
   "execution_count": 9,
   "id": "224d7f04",
   "metadata": {},
   "outputs": [
    {
     "data": {
      "text/plain": [
       "I3test (generic function with 1 method)"
      ]
     },
     "execution_count": 9,
     "metadata": {},
     "output_type": "execute_result"
    }
   ],
   "source": [
    "function I3test(state, N)\n",
    "    I3 = 0\n",
    "    for n in 0:N-1\n",
    "        for f in 0:1\n",
    "            for c in 1:3\n",
    "                # qubit number 6n+3f+c\n",
    "                bit = parse(Int,reverse(state)[6*n+3*f+c])\n",
    "                I3 += (-1)^f * (1-2*bit) / 4\n",
    "            end\n",
    "        end\n",
    "    end\n",
    "    I3\n",
    "end"
   ]
  },
  {
   "cell_type": "markdown",
   "id": "9ad4e9d8",
   "metadata": {},
   "source": [
    "### Returns a basis of states with given quantum numbers. Takes in $I_3$, a seed (see above) and $N=2L$.\n",
    "### A basis is a dictionary where keys are binary numbers representing the state in the occupation basis and the values are the label of the basis vetctor. For example $\\lvert 000000111111 \\rangle => 1$ is the first basis element in the vacuum sector."
   ]
  },
  {
   "cell_type": "code",
   "execution_count": 17,
   "id": "8825806c",
   "metadata": {},
   "outputs": [
    {
     "data": {
      "text/plain": [
       "buildBasis (generic function with 1 method)"
      ]
     },
     "execution_count": 17,
     "metadata": {},
     "output_type": "execute_result"
    }
   ],
   "source": [
    "function buildBasis(I3,seed,N)\n",
    "    # Basis pairs a binary number representing a bit string to basiscount which indexes the basis.\n",
    "    basis = Dict{UInt64,UInt32}()\n",
    "    basiscount = 0\n",
    "    for red in 1:length(seed)\n",
    "        for green in 1:length(seed)\n",
    "            for blue in 1:length(seed)\n",
    "                state = \"\"\n",
    "                for s in 1:(2*N)\n",
    "                    state *= seed[red][s] * seed[green][s] * seed[blue][s]\n",
    "                end\n",
    "                if I3test(state,N) == I3\n",
    "                    # Convert to a binary number\n",
    "                    basisState = parse(UInt64, \"0b\" * state)\n",
    "                    basiscount +=  1\n",
    "                    basis[basisState] = basiscount\n",
    "                end\n",
    "            end\n",
    "        end\n",
    "    end\n",
    "    basis\n",
    "end"
   ]
  },
  {
   "cell_type": "markdown",
   "id": "5adde596",
   "metadata": {},
   "source": [
    "# Constructs the Hamiltonian in the desired basis"
   ]
  },
  {
   "cell_type": "markdown",
   "id": "2ea69c6a",
   "metadata": {},
   "source": [
    "### Evaluates the dot product of a basis vector with a Pauli operator, for example $\\sigma^+_1 \\sigma^z_0 \\, \\lvert 000000111011\\rangle$. \n",
    "### The number of evaluations grows exponentially in $L$ and this is the bottlekneck for constructing large Hamiltonians. Data structures are typed and bitshift operations are used to increase efficiency.\n",
    "### opDotVec takes in as arguments op, an operator as described above, state, a binary number representing the state and N=2L."
   ]
  },
  {
   "cell_type": "code",
   "execution_count": 11,
   "id": "b2117748",
   "metadata": {},
   "outputs": [
    {
     "data": {
      "text/plain": [
       "opDotVec (generic function with 1 method)"
      ]
     },
     "execution_count": 11,
     "metadata": {},
     "output_type": "execute_result"
    }
   ],
   "source": [
    "function opDotVec(op, state, N)\n",
    "    newstate = copy(state)\n",
    "    # Number of bits in state\n",
    "    len = UInt8(6)*N\n",
    "    # State will be multiplied by (-1)^phase\n",
    "    phase = 0b0\n",
    "    \n",
    "    # op acts on qubit # 'bit' with 'pauli'\n",
    "    for (bit,pauli) in op[1]\n",
    "        # Picks off 'bit' in state. E.g. if 'bit' = 2 then spin is value of the 2nd bit in state (starts at 0).\n",
    "        spin = UInt8((newstate & (UInt64(1)<<bit))>>bit)\n",
    "        # Multiplication by pauli Z, ⊻ is XOR\n",
    "        if pauli == 2\n",
    "            phase = (phase ⊻ spin)\n",
    "        # If state is annhilated by raising/lowering \n",
    "        elseif pauli == spin\n",
    "            return nothing\n",
    "        # Otherwise the qubit is flipped\n",
    "        else\n",
    "            # Flips 'bit' in newstate\n",
    "            newstate = newstate ⊻ UInt64(1)<<bit\n",
    "        end\n",
    "    end\n",
    "    # Return a state which is a pair, (binary representing state) => coeff\n",
    "    if phase == 0\n",
    "        return newstate => op[2]\n",
    "    end\n",
    "    newstate => (-1) * op[2]\n",
    "end       "
   ]
  },
  {
   "cell_type": "markdown",
   "id": "9891cf13",
   "metadata": {},
   "source": [
    "### Returns the terms of the Hamiltonian as a sparse matrix in a given basis. Takes as arguments, the terms of the Hamiltonian in tensor product form, the basis of states with the desired quantum numbers and $N=2L$."
   ]
  },
  {
   "cell_type": "code",
   "execution_count": 12,
   "id": "44cec2a5",
   "metadata": {},
   "outputs": [
    {
     "data": {
      "text/plain": [
       "constructHamiltonian (generic function with 1 method)"
      ]
     },
     "execution_count": 12,
     "metadata": {},
     "output_type": "execute_result"
    }
   ],
   "source": [
    "function constructHamiltonian(ham, basis, N)\n",
    "    # This is an upper bound on the number of elements that can be produced, used to pre-allocate memory.\n",
    "    upper=6*(1-2*N+2*N^2)*length(basis)\n",
    "    \n",
    "    # Matrix at (rowN[i], colN[i]) has val[i]\n",
    "    rowN = Array{Float64}(undef,upper)\n",
    "    colN = Array{Float64}(undef,upper)\n",
    "    val = Array{Float64}(undef,upper)\n",
    "    \n",
    "    # Stores the computation of a single row \n",
    "    row = Dict{UInt64, Float64}()\n",
    "    \n",
    "    # Labels where to put the next matrix element in row, col & val\n",
    "    index = 0\n",
    "    \n",
    "    # For every basis vector, find the matrix element with the Hamiltonian\n",
    "    for (bitstring, basisvec) in basis\n",
    "        for pauli in ham\n",
    "            res = opDotVec(pauli,bitstring,N)\n",
    "            # If state was not annhilated by Pauli string\n",
    "            if res != nothing\n",
    "                # State which pauli . bitstring returned\n",
    "                targ = basis[res[1]]\n",
    "                if haskey(row,targ)\n",
    "                    row[targ] += res[2]\n",
    "                else\n",
    "                    row[targ] = res[2]\n",
    "                end\n",
    "            end\n",
    "        end\n",
    "        # Add the row to the sparse matrix\n",
    "        for (key,value) in row\n",
    "            index += 1\n",
    "            rowN[index] = basisvec\n",
    "            colN[index] = key\n",
    "            val[index] = value\n",
    "        end\n",
    "        empty!(row)\n",
    "    end\n",
    "    sparse(view(rowN,1:index),view(colN,1:index),view(val,1:index),length(basis), length(basis))\n",
    "end"
   ]
  },
  {
   "cell_type": "markdown",
   "id": "d3b980c9",
   "metadata": {},
   "source": [
    "### Returns the a tuple containing the pieces of the Hamiltonian, as a sparse matrix, in a given symmetry sector. The arguments $I_3$, seed and $N=2L$ are passed to construct the basis."
   ]
  },
  {
   "cell_type": "code",
   "execution_count": 13,
   "id": "03bd5ddf",
   "metadata": {},
   "outputs": [
    {
     "data": {
      "text/plain": [
       "fullHamiltonian (generic function with 1 method)"
      ]
     },
     "execution_count": 13,
     "metadata": {},
     "output_type": "execute_result"
    }
   ],
   "source": [
    "function fullHamiltonian(I3,seed,N)\n",
    "    basis = buildBasis(I3,seed,N)\n",
    "    Hmass = constructHamiltonian(Hm(N),basis,N)\n",
    "    Hkinetic = constructHamiltonian(Hkin(N),basis,N)\n",
    "    Helectric = constructHamiltonian(Hel(N),basis,N)\n",
    "    Hghost = constructHamiltonian(Helghost(N),basis,N)\n",
    "    (Hmass,Hkinetic,Helectric,Hghost)\n",
    "end"
   ]
  },
  {
   "cell_type": "markdown",
   "id": "323d0d79",
   "metadata": {},
   "source": [
    "# Determining properties of the spectrum"
   ]
  },
  {
   "cell_type": "markdown",
   "id": "2f114d30",
   "metadata": {},
   "source": [
    "### The spectrum for a given mass, m, gauge coupling, g and non-singlet penalty, h. Takes in ham which is the output of fullHamiltonian() and optionally the number of eigenvalues"
   ]
  },
  {
   "cell_type": "code",
   "execution_count": 14,
   "id": "25edfe11",
   "metadata": {},
   "outputs": [
    {
     "data": {
      "text/plain": [
       "spectrum (generic function with 2 methods)"
      ]
     },
     "execution_count": 14,
     "metadata": {},
     "output_type": "execute_result"
    }
   ],
   "source": [
    "function spectrum(m,g,h,ham,nevals=2)\n",
    "    return eigs(m*ham[1] + ham[2] + g^2 *  ham[3] + h^2 *ham[4], nev=nevals, which=:SR, maxiter=600,ncv=50)\n",
    "end"
   ]
  },
  {
   "cell_type": "markdown",
   "id": "49cbdbce",
   "metadata": {},
   "source": [
    "## Calculating the N=4 binding energy for m=1 and a few values of g"
   ]
  },
  {
   "cell_type": "code",
   "execution_count": 18,
   "id": "5d8b5130",
   "metadata": {},
   "outputs": [],
   "source": [
    "B0I0 = fullHamiltonian(0,buildSeed(0,4),4)\n",
    "B1 = fullHamiltonian(3/2,buildSeed(1,4),4)\n",
    "B2 = fullHamiltonian(0,buildSeed(2,4),4)\n",
    "BE = []\n",
    "push!(BE,0)\n",
    "for i in 0:20\n",
    "    evac = spectrum(1,i/5,0,B0I0)[1][1]\n",
    "    mb = spectrum(1,i/5,0,B1)[1][1]-evac\n",
    "    be = (2*mb-(spectrum(1,i/5,0,B2)[1][1]-evac))\n",
    "    push!(BE,  be)\n",
    "end"
   ]
  },
  {
   "cell_type": "code",
   "execution_count": 19,
   "id": "af0cd82e",
   "metadata": {},
   "outputs": [
    {
     "data": {
      "image/svg+xml": [
       "<?xml version=\"1.0\" encoding=\"utf-8\"?>\n",
       "<svg xmlns=\"http://www.w3.org/2000/svg\" xmlns:xlink=\"http://www.w3.org/1999/xlink\" width=\"600\" height=\"400\" viewBox=\"0 0 2400 1600\">\n",
       "<defs>\n",
       "  <clipPath id=\"clip780\">\n",
       "    <rect x=\"0\" y=\"0\" width=\"2400\" height=\"1600\"/>\n",
       "  </clipPath>\n",
       "</defs>\n",
       "<path clip-path=\"url(#clip780)\" d=\"M0 1600 L2400 1600 L2400 0 L0 0  Z\" fill=\"#ffffff\" fill-rule=\"evenodd\" fill-opacity=\"1\"/>\n",
       "<defs>\n",
       "  <clipPath id=\"clip781\">\n",
       "    <rect x=\"480\" y=\"0\" width=\"1681\" height=\"1600\"/>\n",
       "  </clipPath>\n",
       "</defs>\n",
       "<path clip-path=\"url(#clip780)\" d=\"M280.19 1423.18 L2352.76 1423.18 L2352.76 47.2441 L280.19 47.2441  Z\" fill=\"#ffffff\" fill-rule=\"evenodd\" fill-opacity=\"1\"/>\n",
       "<defs>\n",
       "  <clipPath id=\"clip782\">\n",
       "    <rect x=\"280\" y=\"47\" width=\"2074\" height=\"1377\"/>\n",
       "  </clipPath>\n",
       "</defs>\n",
       "<polyline clip-path=\"url(#clip782)\" style=\"stroke:#000000; stroke-linecap:round; stroke-linejoin:round; stroke-width:2; stroke-opacity:0.1; fill:none\" points=\"338.848,1423.18 338.848,47.2441 \"/>\n",
       "<polyline clip-path=\"url(#clip782)\" style=\"stroke:#000000; stroke-linecap:round; stroke-linejoin:round; stroke-width:2; stroke-opacity:0.1; fill:none\" points=\"827.66,1423.18 827.66,47.2441 \"/>\n",
       "<polyline clip-path=\"url(#clip782)\" style=\"stroke:#000000; stroke-linecap:round; stroke-linejoin:round; stroke-width:2; stroke-opacity:0.1; fill:none\" points=\"1316.47,1423.18 1316.47,47.2441 \"/>\n",
       "<polyline clip-path=\"url(#clip782)\" style=\"stroke:#000000; stroke-linecap:round; stroke-linejoin:round; stroke-width:2; stroke-opacity:0.1; fill:none\" points=\"1805.29,1423.18 1805.29,47.2441 \"/>\n",
       "<polyline clip-path=\"url(#clip782)\" style=\"stroke:#000000; stroke-linecap:round; stroke-linejoin:round; stroke-width:2; stroke-opacity:0.1; fill:none\" points=\"2294.1,1423.18 2294.1,47.2441 \"/>\n",
       "<polyline clip-path=\"url(#clip780)\" style=\"stroke:#000000; stroke-linecap:round; stroke-linejoin:round; stroke-width:4; stroke-opacity:1; fill:none\" points=\"280.19,1423.18 2352.76,1423.18 \"/>\n",
       "<polyline clip-path=\"url(#clip780)\" style=\"stroke:#000000; stroke-linecap:round; stroke-linejoin:round; stroke-width:4; stroke-opacity:1; fill:none\" points=\"338.848,1423.18 338.848,1404.28 \"/>\n",
       "<polyline clip-path=\"url(#clip780)\" style=\"stroke:#000000; stroke-linecap:round; stroke-linejoin:round; stroke-width:4; stroke-opacity:1; fill:none\" points=\"827.66,1423.18 827.66,1404.28 \"/>\n",
       "<polyline clip-path=\"url(#clip780)\" style=\"stroke:#000000; stroke-linecap:round; stroke-linejoin:round; stroke-width:4; stroke-opacity:1; fill:none\" points=\"1316.47,1423.18 1316.47,1404.28 \"/>\n",
       "<polyline clip-path=\"url(#clip780)\" style=\"stroke:#000000; stroke-linecap:round; stroke-linejoin:round; stroke-width:4; stroke-opacity:1; fill:none\" points=\"1805.29,1423.18 1805.29,1404.28 \"/>\n",
       "<polyline clip-path=\"url(#clip780)\" style=\"stroke:#000000; stroke-linecap:round; stroke-linejoin:round; stroke-width:4; stroke-opacity:1; fill:none\" points=\"2294.1,1423.18 2294.1,1404.28 \"/>\n",
       "<path clip-path=\"url(#clip780)\" d=\"M338.848 1454.1 Q335.236 1454.1 333.408 1457.66 Q331.602 1461.2 331.602 1468.33 Q331.602 1475.44 333.408 1479.01 Q335.236 1482.55 338.848 1482.55 Q342.482 1482.55 344.287 1479.01 Q346.116 1475.44 346.116 1468.33 Q346.116 1461.2 344.287 1457.66 Q342.482 1454.1 338.848 1454.1 M338.848 1450.39 Q344.658 1450.39 347.713 1455 Q350.792 1459.58 350.792 1468.33 Q350.792 1477.06 347.713 1481.67 Q344.658 1486.25 338.848 1486.25 Q333.037 1486.25 329.959 1481.67 Q326.903 1477.06 326.903 1468.33 Q326.903 1459.58 329.959 1455 Q333.037 1450.39 338.848 1450.39 Z\" fill=\"#000000\" fill-rule=\"evenodd\" fill-opacity=\"1\" /><path clip-path=\"url(#clip780)\" d=\"M818.042 1481.64 L825.681 1481.64 L825.681 1455.28 L817.371 1456.95 L817.371 1452.69 L825.635 1451.02 L830.311 1451.02 L830.311 1481.64 L837.95 1481.64 L837.95 1485.58 L818.042 1485.58 L818.042 1481.64 Z\" fill=\"#000000\" fill-rule=\"evenodd\" fill-opacity=\"1\" /><path clip-path=\"url(#clip780)\" d=\"M1311.13 1481.64 L1327.45 1481.64 L1327.45 1485.58 L1305.5 1485.58 L1305.5 1481.64 Q1308.16 1478.89 1312.75 1474.26 Q1317.35 1469.61 1318.53 1468.27 Q1320.78 1465.74 1321.66 1464.01 Q1322.56 1462.25 1322.56 1460.56 Q1322.56 1457.8 1320.62 1456.07 Q1318.7 1454.33 1315.59 1454.33 Q1313.39 1454.33 1310.94 1455.09 Q1308.51 1455.86 1305.73 1457.41 L1305.73 1452.69 Q1308.56 1451.55 1311.01 1450.97 Q1313.46 1450.39 1315.5 1450.39 Q1320.87 1450.39 1324.07 1453.08 Q1327.26 1455.77 1327.26 1460.26 Q1327.26 1462.39 1326.45 1464.31 Q1325.66 1466.2 1323.56 1468.8 Q1322.98 1469.47 1319.88 1472.69 Q1316.77 1475.88 1311.13 1481.64 Z\" fill=\"#000000\" fill-rule=\"evenodd\" fill-opacity=\"1\" /><path clip-path=\"url(#clip780)\" d=\"M1809.53 1466.95 Q1812.89 1467.66 1814.76 1469.93 Q1816.66 1472.2 1816.66 1475.53 Q1816.66 1480.65 1813.14 1483.45 Q1809.63 1486.25 1803.14 1486.25 Q1800.97 1486.25 1798.65 1485.81 Q1796.36 1485.39 1793.91 1484.54 L1793.91 1480.02 Q1795.85 1481.16 1798.17 1481.74 Q1800.48 1482.32 1803.01 1482.32 Q1807.4 1482.32 1809.7 1480.58 Q1812.01 1478.84 1812.01 1475.53 Q1812.01 1472.48 1809.86 1470.77 Q1807.73 1469.03 1803.91 1469.03 L1799.88 1469.03 L1799.88 1465.19 L1804.09 1465.19 Q1807.54 1465.19 1809.37 1463.82 Q1811.2 1462.43 1811.2 1459.84 Q1811.2 1457.18 1809.3 1455.77 Q1807.43 1454.33 1803.91 1454.33 Q1801.99 1454.33 1799.79 1454.75 Q1797.59 1455.16 1794.95 1456.04 L1794.95 1451.88 Q1797.61 1451.14 1799.93 1450.77 Q1802.26 1450.39 1804.33 1450.39 Q1809.65 1450.39 1812.75 1452.83 Q1815.85 1455.23 1815.85 1459.35 Q1815.85 1462.22 1814.21 1464.21 Q1812.57 1466.18 1809.53 1466.95 Z\" fill=\"#000000\" fill-rule=\"evenodd\" fill-opacity=\"1\" /><path clip-path=\"url(#clip780)\" d=\"M2297.11 1455.09 L2285.3 1473.54 L2297.11 1473.54 L2297.11 1455.09 M2295.88 1451.02 L2301.76 1451.02 L2301.76 1473.54 L2306.69 1473.54 L2306.69 1477.43 L2301.76 1477.43 L2301.76 1485.58 L2297.11 1485.58 L2297.11 1477.43 L2281.51 1477.43 L2281.51 1472.92 L2295.88 1451.02 Z\" fill=\"#000000\" fill-rule=\"evenodd\" fill-opacity=\"1\" /><path clip-path=\"url(#clip780)\" d=\"M1326.55 1549.81 Q1326.55 1543.44 1323.9 1539.94 Q1321.29 1536.44 1316.55 1536.44 Q1311.84 1536.44 1309.2 1539.94 Q1306.59 1543.44 1306.59 1549.81 Q1306.59 1556.14 1309.2 1559.64 Q1311.84 1563.14 1316.55 1563.14 Q1321.29 1563.14 1323.9 1559.64 Q1326.55 1556.14 1326.55 1549.81 M1332.4 1563.62 Q1332.4 1572.72 1328.36 1577.15 Q1324.32 1581.6 1315.98 1581.6 Q1312.89 1581.6 1310.15 1581.13 Q1307.42 1580.68 1304.84 1579.72 L1304.84 1574.03 Q1307.42 1575.43 1309.93 1576.1 Q1312.45 1576.76 1315.06 1576.76 Q1320.82 1576.76 1323.68 1573.74 Q1326.55 1570.75 1326.55 1564.67 L1326.55 1561.77 Q1324.73 1564.92 1321.9 1566.48 Q1319.07 1568.04 1315.12 1568.04 Q1308.56 1568.04 1304.55 1563.05 Q1300.54 1558.05 1300.54 1549.81 Q1300.54 1541.53 1304.55 1536.53 Q1308.56 1531.54 1315.12 1531.54 Q1319.07 1531.54 1321.9 1533.1 Q1324.73 1534.66 1326.55 1537.81 L1326.55 1532.4 L1332.4 1532.4 L1332.4 1563.62 Z\" fill=\"#000000\" fill-rule=\"evenodd\" fill-opacity=\"1\" /><polyline clip-path=\"url(#clip782)\" style=\"stroke:#000000; stroke-linecap:round; stroke-linejoin:round; stroke-width:2; stroke-opacity:0.1; fill:none\" points=\"280.19,1384.24 2352.76,1384.24 \"/>\n",
       "<polyline clip-path=\"url(#clip782)\" style=\"stroke:#000000; stroke-linecap:round; stroke-linejoin:round; stroke-width:2; stroke-opacity:0.1; fill:none\" points=\"280.19,1055.33 2352.76,1055.33 \"/>\n",
       "<polyline clip-path=\"url(#clip782)\" style=\"stroke:#000000; stroke-linecap:round; stroke-linejoin:round; stroke-width:2; stroke-opacity:0.1; fill:none\" points=\"280.19,726.424 2352.76,726.424 \"/>\n",
       "<polyline clip-path=\"url(#clip782)\" style=\"stroke:#000000; stroke-linecap:round; stroke-linejoin:round; stroke-width:2; stroke-opacity:0.1; fill:none\" points=\"280.19,397.516 2352.76,397.516 \"/>\n",
       "<polyline clip-path=\"url(#clip782)\" style=\"stroke:#000000; stroke-linecap:round; stroke-linejoin:round; stroke-width:2; stroke-opacity:0.1; fill:none\" points=\"280.19,68.6091 2352.76,68.6091 \"/>\n",
       "<polyline clip-path=\"url(#clip780)\" style=\"stroke:#000000; stroke-linecap:round; stroke-linejoin:round; stroke-width:4; stroke-opacity:1; fill:none\" points=\"280.19,1423.18 280.19,47.2441 \"/>\n",
       "<polyline clip-path=\"url(#clip780)\" style=\"stroke:#000000; stroke-linecap:round; stroke-linejoin:round; stroke-width:4; stroke-opacity:1; fill:none\" points=\"280.19,1384.24 299.088,1384.24 \"/>\n",
       "<polyline clip-path=\"url(#clip780)\" style=\"stroke:#000000; stroke-linecap:round; stroke-linejoin:round; stroke-width:4; stroke-opacity:1; fill:none\" points=\"280.19,1055.33 299.088,1055.33 \"/>\n",
       "<polyline clip-path=\"url(#clip780)\" style=\"stroke:#000000; stroke-linecap:round; stroke-linejoin:round; stroke-width:4; stroke-opacity:1; fill:none\" points=\"280.19,726.424 299.088,726.424 \"/>\n",
       "<polyline clip-path=\"url(#clip780)\" style=\"stroke:#000000; stroke-linecap:round; stroke-linejoin:round; stroke-width:4; stroke-opacity:1; fill:none\" points=\"280.19,397.516 299.088,397.516 \"/>\n",
       "<polyline clip-path=\"url(#clip780)\" style=\"stroke:#000000; stroke-linecap:round; stroke-linejoin:round; stroke-width:4; stroke-opacity:1; fill:none\" points=\"280.19,68.6091 299.088,68.6091 \"/>\n",
       "<path clip-path=\"url(#clip780)\" d=\"M126.691 1370.04 Q123.08 1370.04 121.251 1373.6 Q119.445 1377.14 119.445 1384.27 Q119.445 1391.38 121.251 1394.94 Q123.08 1398.49 126.691 1398.49 Q130.325 1398.49 132.13 1394.94 Q133.959 1391.38 133.959 1384.27 Q133.959 1377.14 132.13 1373.6 Q130.325 1370.04 126.691 1370.04 M126.691 1366.33 Q132.501 1366.33 135.556 1370.94 Q138.635 1375.52 138.635 1384.27 Q138.635 1393 135.556 1397.61 Q132.501 1402.19 126.691 1402.19 Q120.88 1402.19 117.802 1397.61 Q114.746 1393 114.746 1384.27 Q114.746 1375.52 117.802 1370.94 Q120.88 1366.33 126.691 1366.33 Z\" fill=\"#000000\" fill-rule=\"evenodd\" fill-opacity=\"1\" /><path clip-path=\"url(#clip780)\" d=\"M146.853 1395.64 L151.737 1395.64 L151.737 1401.52 L146.853 1401.52 L146.853 1395.64 Z\" fill=\"#000000\" fill-rule=\"evenodd\" fill-opacity=\"1\" /><path clip-path=\"url(#clip780)\" d=\"M171.922 1370.04 Q168.311 1370.04 166.482 1373.6 Q164.677 1377.14 164.677 1384.27 Q164.677 1391.38 166.482 1394.94 Q168.311 1398.49 171.922 1398.49 Q175.556 1398.49 177.362 1394.94 Q179.19 1391.38 179.19 1384.27 Q179.19 1377.14 177.362 1373.6 Q175.556 1370.04 171.922 1370.04 M171.922 1366.33 Q177.732 1366.33 180.788 1370.94 Q183.866 1375.52 183.866 1384.27 Q183.866 1393 180.788 1397.61 Q177.732 1402.19 171.922 1402.19 Q166.112 1402.19 163.033 1397.61 Q159.978 1393 159.978 1384.27 Q159.978 1375.52 163.033 1370.94 Q166.112 1366.33 171.922 1366.33 Z\" fill=\"#000000\" fill-rule=\"evenodd\" fill-opacity=\"1\" /><path clip-path=\"url(#clip780)\" d=\"M202.084 1370.04 Q198.473 1370.04 196.644 1373.6 Q194.838 1377.14 194.838 1384.27 Q194.838 1391.38 196.644 1394.94 Q198.473 1398.49 202.084 1398.49 Q205.718 1398.49 207.524 1394.94 Q209.352 1391.38 209.352 1384.27 Q209.352 1377.14 207.524 1373.6 Q205.718 1370.04 202.084 1370.04 M202.084 1366.33 Q207.894 1366.33 210.949 1370.94 Q214.028 1375.52 214.028 1384.27 Q214.028 1393 210.949 1397.61 Q207.894 1402.19 202.084 1402.19 Q196.274 1402.19 193.195 1397.61 Q190.139 1393 190.139 1384.27 Q190.139 1375.52 193.195 1370.94 Q196.274 1366.33 202.084 1366.33 Z\" fill=\"#000000\" fill-rule=\"evenodd\" fill-opacity=\"1\" /><path clip-path=\"url(#clip780)\" d=\"M232.246 1370.04 Q228.635 1370.04 226.806 1373.6 Q225 1377.14 225 1384.27 Q225 1391.38 226.806 1394.94 Q228.635 1398.49 232.246 1398.49 Q235.88 1398.49 237.685 1394.94 Q239.514 1391.38 239.514 1384.27 Q239.514 1377.14 237.685 1373.6 Q235.88 1370.04 232.246 1370.04 M232.246 1366.33 Q238.056 1366.33 241.111 1370.94 Q244.19 1375.52 244.19 1384.27 Q244.19 1393 241.111 1397.61 Q238.056 1402.19 232.246 1402.19 Q226.435 1402.19 223.357 1397.61 Q220.301 1393 220.301 1384.27 Q220.301 1375.52 223.357 1370.94 Q226.435 1366.33 232.246 1366.33 Z\" fill=\"#000000\" fill-rule=\"evenodd\" fill-opacity=\"1\" /><path clip-path=\"url(#clip780)\" d=\"M127.917 1041.13 Q124.306 1041.13 122.478 1044.69 Q120.672 1048.24 120.672 1055.37 Q120.672 1062.47 122.478 1066.04 Q124.306 1069.58 127.917 1069.58 Q131.552 1069.58 133.357 1066.04 Q135.186 1062.47 135.186 1055.37 Q135.186 1048.24 133.357 1044.69 Q131.552 1041.13 127.917 1041.13 M127.917 1037.43 Q133.728 1037.43 136.783 1042.03 Q139.862 1046.62 139.862 1055.37 Q139.862 1064.09 136.783 1068.7 Q133.728 1073.28 127.917 1073.28 Q122.107 1073.28 119.029 1068.7 Q115.973 1064.09 115.973 1055.37 Q115.973 1046.62 119.029 1042.03 Q122.107 1037.43 127.917 1037.43 Z\" fill=\"#000000\" fill-rule=\"evenodd\" fill-opacity=\"1\" /><path clip-path=\"url(#clip780)\" d=\"M148.079 1066.73 L152.964 1066.73 L152.964 1072.61 L148.079 1072.61 L148.079 1066.73 Z\" fill=\"#000000\" fill-rule=\"evenodd\" fill-opacity=\"1\" /><path clip-path=\"url(#clip780)\" d=\"M173.149 1041.13 Q169.538 1041.13 167.709 1044.69 Q165.903 1048.24 165.903 1055.37 Q165.903 1062.47 167.709 1066.04 Q169.538 1069.58 173.149 1069.58 Q176.783 1069.58 178.589 1066.04 Q180.417 1062.47 180.417 1055.37 Q180.417 1048.24 178.589 1044.69 Q176.783 1041.13 173.149 1041.13 M173.149 1037.43 Q178.959 1037.43 182.014 1042.03 Q185.093 1046.62 185.093 1055.37 Q185.093 1064.09 182.014 1068.7 Q178.959 1073.28 173.149 1073.28 Q167.339 1073.28 164.26 1068.7 Q161.204 1064.09 161.204 1055.37 Q161.204 1046.62 164.26 1042.03 Q167.339 1037.43 173.149 1037.43 Z\" fill=\"#000000\" fill-rule=\"evenodd\" fill-opacity=\"1\" /><path clip-path=\"url(#clip780)\" d=\"M203.311 1041.13 Q199.7 1041.13 197.871 1044.69 Q196.065 1048.24 196.065 1055.37 Q196.065 1062.47 197.871 1066.04 Q199.7 1069.58 203.311 1069.58 Q206.945 1069.58 208.75 1066.04 Q210.579 1062.47 210.579 1055.37 Q210.579 1048.24 208.75 1044.69 Q206.945 1041.13 203.311 1041.13 M203.311 1037.43 Q209.121 1037.43 212.176 1042.03 Q215.255 1046.62 215.255 1055.37 Q215.255 1064.09 212.176 1068.7 Q209.121 1073.28 203.311 1073.28 Q197.5 1073.28 194.422 1068.7 Q191.366 1064.09 191.366 1055.37 Q191.366 1046.62 194.422 1042.03 Q197.5 1037.43 203.311 1037.43 Z\" fill=\"#000000\" fill-rule=\"evenodd\" fill-opacity=\"1\" /><path clip-path=\"url(#clip780)\" d=\"M224.283 1068.68 L231.922 1068.68 L231.922 1042.31 L223.611 1043.98 L223.611 1039.72 L231.875 1038.05 L236.551 1038.05 L236.551 1068.68 L244.19 1068.68 L244.19 1072.61 L224.283 1072.61 L224.283 1068.68 Z\" fill=\"#000000\" fill-rule=\"evenodd\" fill-opacity=\"1\" /><path clip-path=\"url(#clip780)\" d=\"M128.288 712.222 Q124.677 712.222 122.848 715.787 Q121.043 719.329 121.043 726.458 Q121.043 733.565 122.848 737.13 Q124.677 740.671 128.288 740.671 Q131.922 740.671 133.728 737.13 Q135.556 733.565 135.556 726.458 Q135.556 719.329 133.728 715.787 Q131.922 712.222 128.288 712.222 M128.288 708.519 Q134.098 708.519 137.154 713.125 Q140.232 717.708 140.232 726.458 Q140.232 735.185 137.154 739.792 Q134.098 744.375 128.288 744.375 Q122.478 744.375 119.399 739.792 Q116.343 735.185 116.343 726.458 Q116.343 717.708 119.399 713.125 Q122.478 708.519 128.288 708.519 Z\" fill=\"#000000\" fill-rule=\"evenodd\" fill-opacity=\"1\" /><path clip-path=\"url(#clip780)\" d=\"M148.45 737.824 L153.334 737.824 L153.334 743.704 L148.45 743.704 L148.45 737.824 Z\" fill=\"#000000\" fill-rule=\"evenodd\" fill-opacity=\"1\" /><path clip-path=\"url(#clip780)\" d=\"M173.519 712.222 Q169.908 712.222 168.079 715.787 Q166.274 719.329 166.274 726.458 Q166.274 733.565 168.079 737.13 Q169.908 740.671 173.519 740.671 Q177.153 740.671 178.959 737.13 Q180.788 733.565 180.788 726.458 Q180.788 719.329 178.959 715.787 Q177.153 712.222 173.519 712.222 M173.519 708.519 Q179.329 708.519 182.385 713.125 Q185.463 717.708 185.463 726.458 Q185.463 735.185 182.385 739.792 Q179.329 744.375 173.519 744.375 Q167.709 744.375 164.63 739.792 Q161.575 735.185 161.575 726.458 Q161.575 717.708 164.63 713.125 Q167.709 708.519 173.519 708.519 Z\" fill=\"#000000\" fill-rule=\"evenodd\" fill-opacity=\"1\" /><path clip-path=\"url(#clip780)\" d=\"M203.681 712.222 Q200.07 712.222 198.241 715.787 Q196.436 719.329 196.436 726.458 Q196.436 733.565 198.241 737.13 Q200.07 740.671 203.681 740.671 Q207.315 740.671 209.121 737.13 Q210.949 733.565 210.949 726.458 Q210.949 719.329 209.121 715.787 Q207.315 712.222 203.681 712.222 M203.681 708.519 Q209.491 708.519 212.547 713.125 Q215.625 717.708 215.625 726.458 Q215.625 735.185 212.547 739.792 Q209.491 744.375 203.681 744.375 Q197.871 744.375 194.792 739.792 Q191.737 735.185 191.737 726.458 Q191.737 717.708 194.792 713.125 Q197.871 708.519 203.681 708.519 Z\" fill=\"#000000\" fill-rule=\"evenodd\" fill-opacity=\"1\" /><path clip-path=\"url(#clip780)\" d=\"M227.871 739.768 L244.19 739.768 L244.19 743.704 L222.246 743.704 L222.246 739.768 Q224.908 737.014 229.491 732.384 Q234.097 727.732 235.278 726.389 Q237.523 723.866 238.403 722.13 Q239.306 720.37 239.306 718.681 Q239.306 715.926 237.361 714.19 Q235.44 712.454 232.338 712.454 Q230.139 712.454 227.685 713.218 Q225.255 713.982 222.477 715.533 L222.477 710.81 Q225.301 709.676 227.755 709.097 Q230.209 708.519 232.246 708.519 Q237.616 708.519 240.81 711.204 Q244.005 713.889 244.005 718.38 Q244.005 720.509 243.195 722.431 Q242.408 724.329 240.301 726.921 Q239.722 727.593 236.621 730.81 Q233.519 734.005 227.871 739.768 Z\" fill=\"#000000\" fill-rule=\"evenodd\" fill-opacity=\"1\" /><path clip-path=\"url(#clip780)\" d=\"M127.339 383.315 Q123.728 383.315 121.899 386.88 Q120.093 390.421 120.093 397.551 Q120.093 404.658 121.899 408.222 Q123.728 411.764 127.339 411.764 Q130.973 411.764 132.779 408.222 Q134.607 404.658 134.607 397.551 Q134.607 390.421 132.779 386.88 Q130.973 383.315 127.339 383.315 M127.339 379.611 Q133.149 379.611 136.204 384.218 Q139.283 388.801 139.283 397.551 Q139.283 406.278 136.204 410.884 Q133.149 415.468 127.339 415.468 Q121.529 415.468 118.45 410.884 Q115.394 406.278 115.394 397.551 Q115.394 388.801 118.45 384.218 Q121.529 379.611 127.339 379.611 Z\" fill=\"#000000\" fill-rule=\"evenodd\" fill-opacity=\"1\" /><path clip-path=\"url(#clip780)\" d=\"M147.501 408.917 L152.385 408.917 L152.385 414.796 L147.501 414.796 L147.501 408.917 Z\" fill=\"#000000\" fill-rule=\"evenodd\" fill-opacity=\"1\" /><path clip-path=\"url(#clip780)\" d=\"M172.57 383.315 Q168.959 383.315 167.13 386.88 Q165.325 390.421 165.325 397.551 Q165.325 404.658 167.13 408.222 Q168.959 411.764 172.57 411.764 Q176.204 411.764 178.01 408.222 Q179.839 404.658 179.839 397.551 Q179.839 390.421 178.01 386.88 Q176.204 383.315 172.57 383.315 M172.57 379.611 Q178.38 379.611 181.436 384.218 Q184.514 388.801 184.514 397.551 Q184.514 406.278 181.436 410.884 Q178.38 415.468 172.57 415.468 Q166.76 415.468 163.681 410.884 Q160.626 406.278 160.626 397.551 Q160.626 388.801 163.681 384.218 Q166.76 379.611 172.57 379.611 Z\" fill=\"#000000\" fill-rule=\"evenodd\" fill-opacity=\"1\" /><path clip-path=\"url(#clip780)\" d=\"M202.732 383.315 Q199.121 383.315 197.292 386.88 Q195.487 390.421 195.487 397.551 Q195.487 404.658 197.292 408.222 Q199.121 411.764 202.732 411.764 Q206.366 411.764 208.172 408.222 Q210 404.658 210 397.551 Q210 390.421 208.172 386.88 Q206.366 383.315 202.732 383.315 M202.732 379.611 Q208.542 379.611 211.598 384.218 Q214.676 388.801 214.676 397.551 Q214.676 406.278 211.598 410.884 Q208.542 415.468 202.732 415.468 Q196.922 415.468 193.843 410.884 Q190.788 406.278 190.788 397.551 Q190.788 388.801 193.843 384.218 Q196.922 379.611 202.732 379.611 Z\" fill=\"#000000\" fill-rule=\"evenodd\" fill-opacity=\"1\" /><path clip-path=\"url(#clip780)\" d=\"M237.06 396.162 Q240.417 396.88 242.292 399.148 Q244.19 401.417 244.19 404.75 Q244.19 409.866 240.672 412.667 Q237.153 415.468 230.672 415.468 Q228.496 415.468 226.181 415.028 Q223.889 414.611 221.436 413.755 L221.436 409.241 Q223.38 410.375 225.695 410.954 Q228.01 411.532 230.533 411.532 Q234.931 411.532 237.222 409.796 Q239.537 408.06 239.537 404.75 Q239.537 401.695 237.384 399.982 Q235.255 398.246 231.435 398.246 L227.408 398.246 L227.408 394.403 L231.621 394.403 Q235.07 394.403 236.898 393.037 Q238.727 391.648 238.727 389.056 Q238.727 386.394 236.829 384.982 Q234.954 383.547 231.435 383.547 Q229.514 383.547 227.315 383.963 Q225.116 384.38 222.477 385.259 L222.477 381.093 Q225.139 380.352 227.454 379.982 Q229.792 379.611 231.852 379.611 Q237.176 379.611 240.278 382.042 Q243.38 384.449 243.38 388.57 Q243.38 391.44 241.736 393.431 Q240.093 395.398 237.06 396.162 Z\" fill=\"#000000\" fill-rule=\"evenodd\" fill-opacity=\"1\" /><path clip-path=\"url(#clip780)\" d=\"M126.205 54.4077 Q122.593 54.4077 120.765 57.9725 Q118.959 61.5142 118.959 68.6438 Q118.959 75.7502 120.765 79.315 Q122.593 82.8567 126.205 82.8567 Q129.839 82.8567 131.644 79.315 Q133.473 75.7502 133.473 68.6438 Q133.473 61.5142 131.644 57.9725 Q129.839 54.4077 126.205 54.4077 M126.205 50.7041 Q132.015 50.7041 135.07 55.3105 Q138.149 59.8938 138.149 68.6438 Q138.149 77.3706 135.07 81.977 Q132.015 86.5603 126.205 86.5603 Q120.394 86.5603 117.316 81.977 Q114.26 77.3706 114.26 68.6438 Q114.26 59.8938 117.316 55.3105 Q120.394 50.7041 126.205 50.7041 Z\" fill=\"#000000\" fill-rule=\"evenodd\" fill-opacity=\"1\" /><path clip-path=\"url(#clip780)\" d=\"M146.366 80.0095 L151.251 80.0095 L151.251 85.8891 L146.366 85.8891 L146.366 80.0095 Z\" fill=\"#000000\" fill-rule=\"evenodd\" fill-opacity=\"1\" /><path clip-path=\"url(#clip780)\" d=\"M171.436 54.4077 Q167.825 54.4077 165.996 57.9725 Q164.19 61.5142 164.19 68.6438 Q164.19 75.7502 165.996 79.315 Q167.825 82.8567 171.436 82.8567 Q175.07 82.8567 176.876 79.315 Q178.704 75.7502 178.704 68.6438 Q178.704 61.5142 176.876 57.9725 Q175.07 54.4077 171.436 54.4077 M171.436 50.7041 Q177.246 50.7041 180.301 55.3105 Q183.38 59.8938 183.38 68.6438 Q183.38 77.3706 180.301 81.977 Q177.246 86.5603 171.436 86.5603 Q165.626 86.5603 162.547 81.977 Q159.491 77.3706 159.491 68.6438 Q159.491 59.8938 162.547 55.3105 Q165.626 50.7041 171.436 50.7041 Z\" fill=\"#000000\" fill-rule=\"evenodd\" fill-opacity=\"1\" /><path clip-path=\"url(#clip780)\" d=\"M201.598 54.4077 Q197.987 54.4077 196.158 57.9725 Q194.352 61.5142 194.352 68.6438 Q194.352 75.7502 196.158 79.315 Q197.987 82.8567 201.598 82.8567 Q205.232 82.8567 207.037 79.315 Q208.866 75.7502 208.866 68.6438 Q208.866 61.5142 207.037 57.9725 Q205.232 54.4077 201.598 54.4077 M201.598 50.7041 Q207.408 50.7041 210.463 55.3105 Q213.542 59.8938 213.542 68.6438 Q213.542 77.3706 210.463 81.977 Q207.408 86.5603 201.598 86.5603 Q195.787 86.5603 192.709 81.977 Q189.653 77.3706 189.653 68.6438 Q189.653 59.8938 192.709 55.3105 Q195.787 50.7041 201.598 50.7041 Z\" fill=\"#000000\" fill-rule=\"evenodd\" fill-opacity=\"1\" /><path clip-path=\"url(#clip780)\" d=\"M234.607 55.4031 L222.801 73.8521 L234.607 73.8521 L234.607 55.4031 M233.38 51.3291 L239.259 51.3291 L239.259 73.8521 L244.19 73.8521 L244.19 77.7409 L239.259 77.7409 L239.259 85.8891 L234.607 85.8891 L234.607 77.7409 L219.005 77.7409 L219.005 73.2271 L233.38 51.3291 Z\" fill=\"#000000\" fill-rule=\"evenodd\" fill-opacity=\"1\" /><path clip-path=\"url(#clip780)\" d=\"M41.3104 972.239 L58.7206 972.239 L58.7206 961.927 Q58.7206 956.739 56.5881 954.256 Q54.4238 951.741 49.9996 951.741 Q45.5436 951.741 43.4429 954.256 Q41.3104 956.739 41.3104 961.927 L41.3104 972.239 M21.7677 972.239 L36.0905 972.239 L36.0905 962.722 Q36.0905 958.012 34.34 955.72 Q32.5576 953.397 28.9291 953.397 Q25.3325 953.397 23.5501 955.72 Q21.7677 958.012 21.7677 962.722 L21.7677 972.239 M16.4842 978.668 L16.4842 962.245 Q16.4842 954.893 19.5397 950.914 Q22.5952 946.935 28.2289 946.935 Q32.5894 946.935 35.1675 948.972 Q37.7456 951.009 38.3822 954.956 Q39.4007 950.214 42.6472 947.604 Q45.8619 944.962 50.6998 944.962 Q57.0655 944.962 60.5348 949.291 Q64.0042 953.619 64.0042 961.608 L64.0042 978.668 L16.4842 978.668 Z\" fill=\"#000000\" fill-rule=\"evenodd\" fill-opacity=\"1\" /><path clip-path=\"url(#clip780)\" d=\"M28.3562 934.204 L28.3562 928.348 L64.0042 928.348 L64.0042 934.204 L28.3562 934.204 M14.479 934.204 L14.479 928.348 L21.895 928.348 L21.895 934.204 L14.479 934.204 Z\" fill=\"#000000\" fill-rule=\"evenodd\" fill-opacity=\"1\" /><path clip-path=\"url(#clip780)\" d=\"M42.4881 886.461 L64.0042 886.461 L64.0042 892.318 L42.679 892.318 Q37.6183 892.318 35.1038 894.291 Q32.5894 896.264 32.5894 900.211 Q32.5894 904.954 35.6131 907.691 Q38.6368 910.428 43.8567 910.428 L64.0042 910.428 L64.0042 916.316 L28.3562 916.316 L28.3562 910.428 L33.8944 910.428 Q30.6797 908.327 29.0883 905.495 Q27.4968 902.63 27.4968 898.906 Q27.4968 892.763 31.3163 889.612 Q35.1038 886.461 42.4881 886.461 Z\" fill=\"#000000\" fill-rule=\"evenodd\" fill-opacity=\"1\" /><path clip-path=\"url(#clip780)\" d=\"M33.7671 851.322 L14.479 851.322 L14.479 845.466 L64.0042 845.466 L64.0042 851.322 L58.657 851.322 Q61.8398 853.169 63.3994 856.001 Q64.9272 858.802 64.9272 862.749 Q64.9272 869.21 59.771 873.284 Q54.6147 877.326 46.212 877.326 Q37.8093 877.326 32.6531 873.284 Q27.4968 869.21 27.4968 862.749 Q27.4968 858.802 29.0564 856.001 Q30.5842 853.169 33.7671 851.322 M46.212 871.279 Q52.6732 871.279 56.3653 868.637 Q60.0256 865.964 60.0256 861.317 Q60.0256 856.67 56.3653 853.996 Q52.6732 851.322 46.212 851.322 Q39.7508 851.322 36.0905 853.996 Q32.3984 856.67 32.3984 861.317 Q32.3984 865.964 36.0905 868.637 Q39.7508 871.279 46.212 871.279 Z\" fill=\"#000000\" fill-rule=\"evenodd\" fill-opacity=\"1\" /><path clip-path=\"url(#clip780)\" d=\"M28.3562 833.403 L28.3562 827.547 L64.0042 827.547 L64.0042 833.403 L28.3562 833.403 M14.479 833.403 L14.479 827.547 L21.895 827.547 L21.895 833.403 L14.479 833.403 Z\" fill=\"#000000\" fill-rule=\"evenodd\" fill-opacity=\"1\" /><path clip-path=\"url(#clip780)\" d=\"M42.4881 785.66 L64.0042 785.66 L64.0042 791.517 L42.679 791.517 Q37.6183 791.517 35.1038 793.49 Q32.5894 795.463 32.5894 799.41 Q32.5894 804.153 35.6131 806.89 Q38.6368 809.627 43.8567 809.627 L64.0042 809.627 L64.0042 815.515 L28.3562 815.515 L28.3562 809.627 L33.8944 809.627 Q30.6797 807.526 29.0883 804.694 Q27.4968 801.829 27.4968 798.105 Q27.4968 791.962 31.3163 788.811 Q35.1038 785.66 42.4881 785.66 Z\" fill=\"#000000\" fill-rule=\"evenodd\" fill-opacity=\"1\" /><path clip-path=\"url(#clip780)\" d=\"M45.7664 750.521 Q39.4007 750.521 35.8996 753.163 Q32.3984 755.773 32.3984 760.516 Q32.3984 765.226 35.8996 767.868 Q39.4007 770.478 45.7664 770.478 Q52.1003 770.478 55.6014 767.868 Q59.1026 765.226 59.1026 760.516 Q59.1026 755.773 55.6014 753.163 Q52.1003 750.521 45.7664 750.521 M59.58 744.665 Q68.683 744.665 73.1071 748.707 Q77.5631 752.749 77.5631 761.089 Q77.5631 764.176 77.0857 766.913 Q76.6401 769.65 75.6852 772.229 L69.9879 772.229 Q71.3884 769.65 72.0568 767.136 Q72.7252 764.622 72.7252 762.012 Q72.7252 756.251 69.7015 753.386 Q66.7096 750.521 60.6303 750.521 L57.7339 750.521 Q60.885 752.336 62.4446 755.168 Q64.0042 758.001 64.0042 761.948 Q64.0042 768.505 59.0071 772.515 Q54.01 776.525 45.7664 776.525 Q37.491 776.525 32.4939 772.515 Q27.4968 768.505 27.4968 761.948 Q27.4968 758.001 29.0564 755.168 Q30.616 752.336 33.7671 750.521 L28.3562 750.521 L28.3562 744.665 L59.58 744.665 Z\" fill=\"#000000\" fill-rule=\"evenodd\" fill-opacity=\"1\" /><path clip-path=\"url(#clip780)\" d=\"M16.4842 711.627 L16.4842 681.581 L21.895 681.581 L21.895 705.198 L35.9632 705.198 L35.9632 682.568 L41.3741 682.568 L41.3741 705.198 L58.5933 705.198 L58.5933 681.008 L64.0042 681.008 L64.0042 711.627 L16.4842 711.627 Z\" fill=\"#000000\" fill-rule=\"evenodd\" fill-opacity=\"1\" /><path clip-path=\"url(#clip780)\" d=\"M42.4881 641.063 L64.0042 641.063 L64.0042 646.92 L42.679 646.92 Q37.6183 646.92 35.1038 648.893 Q32.5894 650.866 32.5894 654.813 Q32.5894 659.556 35.6131 662.293 Q38.6368 665.03 43.8567 665.03 L64.0042 665.03 L64.0042 670.918 L28.3562 670.918 L28.3562 665.03 L33.8944 665.03 Q30.6797 662.929 29.0883 660.097 Q27.4968 657.232 27.4968 653.508 Q27.4968 647.365 31.3163 644.214 Q35.1038 641.063 42.4881 641.063 Z\" fill=\"#000000\" fill-rule=\"evenodd\" fill-opacity=\"1\" /><path clip-path=\"url(#clip780)\" d=\"M44.7161 598.89 L47.5806 598.89 L47.5806 625.817 Q53.6281 625.435 56.8109 622.189 Q59.9619 618.911 59.9619 613.086 Q59.9619 609.712 59.1344 606.561 Q58.3069 603.378 56.6518 600.259 L62.1899 600.259 Q63.5267 603.41 64.227 606.72 Q64.9272 610.03 64.9272 613.436 Q64.9272 621.966 59.9619 626.963 Q54.9967 631.928 46.5303 631.928 Q37.7774 631.928 32.6531 627.218 Q27.4968 622.475 27.4968 614.455 Q27.4968 607.261 32.1438 603.092 Q36.7589 598.89 44.7161 598.89 M42.9973 604.747 Q38.1912 604.81 35.3266 607.452 Q32.4621 610.062 32.4621 614.391 Q32.4621 619.292 35.2312 622.253 Q38.0002 625.181 43.0292 625.626 L42.9973 604.747 Z\" fill=\"#000000\" fill-rule=\"evenodd\" fill-opacity=\"1\" /><path clip-path=\"url(#clip780)\" d=\"M33.8307 568.621 Q33.2578 569.608 33.0032 570.786 Q32.7167 571.932 32.7167 573.332 Q32.7167 578.297 35.9632 580.971 Q39.1779 583.613 45.2253 583.613 L64.0042 583.613 L64.0042 589.501 L28.3562 589.501 L28.3562 583.613 L33.8944 583.613 Q30.6479 581.767 29.0883 578.807 Q27.4968 575.847 27.4968 571.613 Q27.4968 571.009 27.5923 570.277 Q27.656 569.544 27.8151 568.653 L33.8307 568.621 Z\" fill=\"#000000\" fill-rule=\"evenodd\" fill-opacity=\"1\" /><path clip-path=\"url(#clip780)\" d=\"M45.7664 540.167 Q39.4007 540.167 35.8996 542.808 Q32.3984 545.418 32.3984 550.161 Q32.3984 554.871 35.8996 557.513 Q39.4007 560.123 45.7664 560.123 Q52.1003 560.123 55.6014 557.513 Q59.1026 554.871 59.1026 550.161 Q59.1026 545.418 55.6014 542.808 Q52.1003 540.167 45.7664 540.167 M59.58 534.31 Q68.683 534.31 73.1071 538.352 Q77.5631 542.395 77.5631 550.734 Q77.5631 553.821 77.0857 556.558 Q76.6401 559.296 75.6852 561.874 L69.9879 561.874 Q71.3884 559.296 72.0568 556.781 Q72.7252 554.267 72.7252 551.657 Q72.7252 545.896 69.7015 543.031 Q66.7096 540.167 60.6303 540.167 L57.7339 540.167 Q60.885 541.981 62.4446 544.814 Q64.0042 547.646 64.0042 551.593 Q64.0042 558.15 59.0071 562.16 Q54.01 566.171 45.7664 566.171 Q37.491 566.171 32.4939 562.16 Q27.4968 558.15 27.4968 551.593 Q27.4968 547.646 29.0564 544.814 Q30.616 541.981 33.7671 540.167 L28.3562 540.167 L28.3562 534.31 L59.58 534.31 Z\" fill=\"#000000\" fill-rule=\"evenodd\" fill-opacity=\"1\" /><path clip-path=\"url(#clip780)\" d=\"M67.3143 507.415 Q73.68 509.898 75.6216 512.253 Q77.5631 514.608 77.5631 518.555 L77.5631 523.234 L72.6615 523.234 L72.6615 519.796 Q72.6615 517.377 71.5157 516.041 Q70.3699 514.704 66.1048 513.081 L63.4312 512.03 L28.3562 526.449 L28.3562 520.242 L56.238 509.102 L28.3562 497.962 L28.3562 491.756 L67.3143 507.415 Z\" fill=\"#000000\" fill-rule=\"evenodd\" fill-opacity=\"1\" /><circle clip-path=\"url(#clip782)\" cx=\"338.848\" cy=\"1384.24\" r=\"14.4\" fill=\"#009af9\" fill-rule=\"evenodd\" fill-opacity=\"1\" stroke=\"#000000\" stroke-opacity=\"1\" stroke-width=\"3.2\"/>\n",
       "<circle clip-path=\"url(#clip782)\" cx=\"436.61\" cy=\"1384.24\" r=\"14.4\" fill=\"#009af9\" fill-rule=\"evenodd\" fill-opacity=\"1\" stroke=\"#000000\" stroke-opacity=\"1\" stroke-width=\"3.2\"/>\n",
       "<circle clip-path=\"url(#clip782)\" cx=\"534.373\" cy=\"1161.63\" r=\"14.4\" fill=\"#009af9\" fill-rule=\"evenodd\" fill-opacity=\"1\" stroke=\"#000000\" stroke-opacity=\"1\" stroke-width=\"3.2\"/>\n",
       "<circle clip-path=\"url(#clip782)\" cx=\"632.135\" cy=\"86.1857\" r=\"14.4\" fill=\"#009af9\" fill-rule=\"evenodd\" fill-opacity=\"1\" stroke=\"#000000\" stroke-opacity=\"1\" stroke-width=\"3.2\"/>\n",
       "<circle clip-path=\"url(#clip782)\" cx=\"729.898\" cy=\"491.043\" r=\"14.4\" fill=\"#009af9\" fill-rule=\"evenodd\" fill-opacity=\"1\" stroke=\"#000000\" stroke-opacity=\"1\" stroke-width=\"3.2\"/>\n",
       "<circle clip-path=\"url(#clip782)\" cx=\"827.66\" cy=\"1082.37\" r=\"14.4\" fill=\"#009af9\" fill-rule=\"evenodd\" fill-opacity=\"1\" stroke=\"#000000\" stroke-opacity=\"1\" stroke-width=\"3.2\"/>\n",
       "<circle clip-path=\"url(#clip782)\" cx=\"925.423\" cy=\"1232.99\" r=\"14.4\" fill=\"#009af9\" fill-rule=\"evenodd\" fill-opacity=\"1\" stroke=\"#000000\" stroke-opacity=\"1\" stroke-width=\"3.2\"/>\n",
       "<circle clip-path=\"url(#clip782)\" cx=\"1023.19\" cy=\"1238.54\" r=\"14.4\" fill=\"#009af9\" fill-rule=\"evenodd\" fill-opacity=\"1\" stroke=\"#000000\" stroke-opacity=\"1\" stroke-width=\"3.2\"/>\n",
       "<circle clip-path=\"url(#clip782)\" cx=\"1120.95\" cy=\"1218.84\" r=\"14.4\" fill=\"#009af9\" fill-rule=\"evenodd\" fill-opacity=\"1\" stroke=\"#000000\" stroke-opacity=\"1\" stroke-width=\"3.2\"/>\n",
       "<circle clip-path=\"url(#clip782)\" cx=\"1218.71\" cy=\"1207.01\" r=\"14.4\" fill=\"#009af9\" fill-rule=\"evenodd\" fill-opacity=\"1\" stroke=\"#000000\" stroke-opacity=\"1\" stroke-width=\"3.2\"/>\n",
       "<circle clip-path=\"url(#clip782)\" cx=\"1316.47\" cy=\"1208.86\" r=\"14.4\" fill=\"#009af9\" fill-rule=\"evenodd\" fill-opacity=\"1\" stroke=\"#000000\" stroke-opacity=\"1\" stroke-width=\"3.2\"/>\n",
       "<circle clip-path=\"url(#clip782)\" cx=\"1414.24\" cy=\"1221.51\" r=\"14.4\" fill=\"#009af9\" fill-rule=\"evenodd\" fill-opacity=\"1\" stroke=\"#000000\" stroke-opacity=\"1\" stroke-width=\"3.2\"/>\n",
       "<circle clip-path=\"url(#clip782)\" cx=\"1512\" cy=\"1240.24\" r=\"14.4\" fill=\"#009af9\" fill-rule=\"evenodd\" fill-opacity=\"1\" stroke=\"#000000\" stroke-opacity=\"1\" stroke-width=\"3.2\"/>\n",
       "<circle clip-path=\"url(#clip782)\" cx=\"1609.76\" cy=\"1261.06\" r=\"14.4\" fill=\"#009af9\" fill-rule=\"evenodd\" fill-opacity=\"1\" stroke=\"#000000\" stroke-opacity=\"1\" stroke-width=\"3.2\"/>\n",
       "<circle clip-path=\"url(#clip782)\" cx=\"1707.52\" cy=\"1281.31\" r=\"14.4\" fill=\"#009af9\" fill-rule=\"evenodd\" fill-opacity=\"1\" stroke=\"#000000\" stroke-opacity=\"1\" stroke-width=\"3.2\"/>\n",
       "<circle clip-path=\"url(#clip782)\" cx=\"1805.29\" cy=\"1299.59\" r=\"14.4\" fill=\"#009af9\" fill-rule=\"evenodd\" fill-opacity=\"1\" stroke=\"#000000\" stroke-opacity=\"1\" stroke-width=\"3.2\"/>\n",
       "<circle clip-path=\"url(#clip782)\" cx=\"1903.05\" cy=\"1315.32\" r=\"14.4\" fill=\"#009af9\" fill-rule=\"evenodd\" fill-opacity=\"1\" stroke=\"#000000\" stroke-opacity=\"1\" stroke-width=\"3.2\"/>\n",
       "<circle clip-path=\"url(#clip782)\" cx=\"2000.81\" cy=\"1328.47\" r=\"14.4\" fill=\"#009af9\" fill-rule=\"evenodd\" fill-opacity=\"1\" stroke=\"#000000\" stroke-opacity=\"1\" stroke-width=\"3.2\"/>\n",
       "<circle clip-path=\"url(#clip782)\" cx=\"2098.57\" cy=\"1339.24\" r=\"14.4\" fill=\"#009af9\" fill-rule=\"evenodd\" fill-opacity=\"1\" stroke=\"#000000\" stroke-opacity=\"1\" stroke-width=\"3.2\"/>\n",
       "<circle clip-path=\"url(#clip782)\" cx=\"2196.34\" cy=\"1347.96\" r=\"14.4\" fill=\"#009af9\" fill-rule=\"evenodd\" fill-opacity=\"1\" stroke=\"#000000\" stroke-opacity=\"1\" stroke-width=\"3.2\"/>\n",
       "<circle clip-path=\"url(#clip782)\" cx=\"2294.1\" cy=\"1354.97\" r=\"14.4\" fill=\"#009af9\" fill-rule=\"evenodd\" fill-opacity=\"1\" stroke=\"#000000\" stroke-opacity=\"1\" stroke-width=\"3.2\"/>\n",
       "</svg>\n"
      ]
     },
     "execution_count": 19,
     "metadata": {},
     "output_type": "execute_result"
    }
   ],
   "source": [
    "plot(0:0.2:4,BE,seriestype = :scatter, xlabel = \"g\", ylabel = \"Binding Energy\",legend=false)"
   ]
  },
  {
   "cell_type": "markdown",
   "id": "344bd9f2",
   "metadata": {},
   "source": [
    "## Calculating of the linear entropy between quarks and anti-quarks of the $\\lvert \\pi^+\\rangle$, $S_L$ defined as:\n",
    "## $S_L = 1 - {\\rm Tr} [\\rho_q^2] \\ \\ , \\ \\ \\rho_q = {\\rm Tr}_{\\overline{q}} \\left [\\lvert \\pi^+ \\rangle \\langle \\pi^+ \\rvert \\right ]$"
   ]
  },
  {
   "cell_type": "markdown",
   "id": "fd11ed6a",
   "metadata": {},
   "source": [
    "### The reduced density matrix $\\rho_q$ obtained by tracing out the antiquarks. Takes in a state (usually an eigenvector of Hamiltonian), the corresponding basis and $N=2L$. Returns a dictionary (ket, bra) => coeff representing the reduced density matrix."
   ]
  },
  {
   "cell_type": "code",
   "execution_count": 34,
   "id": "c6b1f1e9",
   "metadata": {},
   "outputs": [
    {
     "data": {
      "text/plain": [
       "buildRedDensMat (generic function with 1 method)"
      ]
     },
     "execution_count": 34,
     "metadata": {},
     "output_type": "execute_result"
    }
   ],
   "source": [
    "function buildRedDensMat(state,basis,N)\n",
    "    # Map from basis vector (e.g. e_1) to bitstring\n",
    "    reversedBasis = Dict{UInt32,UInt64}()\n",
    "    # Maps a qbar state to all corresponding q state (bitstring, coeff)\n",
    "    tempState = Dict{String,Array{Tuple{String,Float64}}}()\n",
    "    # Reduced density matrix of the q state (ket, bra) => coeff\n",
    "    redDensMat = Dict{Tuple{String,String},Float64}()\n",
    "    for (key, value) in basis\n",
    "        reversedBasis[value]= key\n",
    "    end\n",
    "    # Iterating through an eigenvector\n",
    "    for i in 1:length(state)\n",
    "        if abs(state[i]) > 1e-10\n",
    "            # Get bitstring corresponding to i\n",
    "            mystate = bitstring(reversedBasis[i])[64-6*N+1:64]\n",
    "            # Just the quark state\n",
    "            q = \"\"\n",
    "            # Just the anti-quark state\n",
    "            qbar = \"\"\n",
    "            for site in 0:UInt8((N/2-1))\n",
    "                q = q * mystate[1+site*12:6+site*12]\n",
    "                qbar = qbar * mystate[7+site*12:12+site*12]\n",
    "            end\n",
    "            # Create the map qbar state => [(quark state, coeff),...]\n",
    "            if haskey(tempState, qbar)\n",
    "                tempState[qbar] = push!(tempState[qbar], (q, state[i]))\n",
    "            else\n",
    "                tempState[qbar] = [(q, state[i])]\n",
    "            end\n",
    "        end\n",
    "    end\n",
    "    # Iterate through map qbar state => [(quark state, coeff),...]\n",
    "    for states in values(tempState)\n",
    "        # Multiply bra times ket to get the element of the reduced density matrix\n",
    "        for i in 1:length(states)\n",
    "            for j in 1:length(states)\n",
    "                elem = (states[i][1],states[j][1])\n",
    "                if haskey(redDensMat, elem)\n",
    "                    redDensMat[elem] = redDensMat[elem] + (states[i][2] * states[j][2])\n",
    "                else\n",
    "                    redDensMat[elem] = states[i][2] * states[j][2]\n",
    "                end\n",
    "            end\n",
    "        end\n",
    "    end\n",
    "    redDensMat\n",
    "end"
   ]
  },
  {
   "cell_type": "markdown",
   "id": "0e2b40ed",
   "metadata": {},
   "source": [
    "### The linear entropy"
   ]
  },
  {
   "cell_type": "code",
   "execution_count": 35,
   "id": "e5f4dd8a",
   "metadata": {},
   "outputs": [],
   "source": [
    "linent = []\n",
    "B0ham = fullHamiltonian(1,buildSeed(0,4),4)\n",
    "BBasis = buildBasis(1,buildSeed(0,4),4)\n",
    "for i in 0:20\n",
    "    BState = spectrum(1,i/5,0,B0ham)[2][:,1]\n",
    "    tracesq = 0\n",
    "    # For symmetric matrices the trace of the square is the sum of the squares of each matrix element\n",
    "    for value in values(buildRedDensMat(BState,BBasis,4))\n",
    "        tracesq = tracesq + value^2\n",
    "    end\n",
    "    push!(linent,1-tracesq)\n",
    "end"
   ]
  },
  {
   "cell_type": "code",
   "execution_count": 36,
   "id": "aea9f06f",
   "metadata": {},
   "outputs": [
    {
     "data": {
      "image/svg+xml": [
       "<?xml version=\"1.0\" encoding=\"utf-8\"?>\n",
       "<svg xmlns=\"http://www.w3.org/2000/svg\" xmlns:xlink=\"http://www.w3.org/1999/xlink\" width=\"600\" height=\"400\" viewBox=\"0 0 2400 1600\">\n",
       "<defs>\n",
       "  <clipPath id=\"clip320\">\n",
       "    <rect x=\"0\" y=\"0\" width=\"2400\" height=\"1600\"/>\n",
       "  </clipPath>\n",
       "</defs>\n",
       "<path clip-path=\"url(#clip320)\" d=\"M0 1600 L2400 1600 L2400 0 L0 0  Z\" fill=\"#ffffff\" fill-rule=\"evenodd\" fill-opacity=\"1\"/>\n",
       "<defs>\n",
       "  <clipPath id=\"clip321\">\n",
       "    <rect x=\"480\" y=\"0\" width=\"1681\" height=\"1600\"/>\n",
       "  </clipPath>\n",
       "</defs>\n",
       "<path clip-path=\"url(#clip320)\" d=\"M279.704 1423.18 L2352.76 1423.18 L2352.76 47.2441 L279.704 47.2441  Z\" fill=\"#ffffff\" fill-rule=\"evenodd\" fill-opacity=\"1\"/>\n",
       "<defs>\n",
       "  <clipPath id=\"clip322\">\n",
       "    <rect x=\"279\" y=\"47\" width=\"2074\" height=\"1377\"/>\n",
       "  </clipPath>\n",
       "</defs>\n",
       "<polyline clip-path=\"url(#clip322)\" style=\"stroke:#000000; stroke-linecap:round; stroke-linejoin:round; stroke-width:2; stroke-opacity:0.1; fill:none\" points=\"338.375,1423.18 338.375,47.2441 \"/>\n",
       "<polyline clip-path=\"url(#clip322)\" style=\"stroke:#000000; stroke-linecap:round; stroke-linejoin:round; stroke-width:2; stroke-opacity:0.1; fill:none\" points=\"827.303,1423.18 827.303,47.2441 \"/>\n",
       "<polyline clip-path=\"url(#clip322)\" style=\"stroke:#000000; stroke-linecap:round; stroke-linejoin:round; stroke-width:2; stroke-opacity:0.1; fill:none\" points=\"1316.23,1423.18 1316.23,47.2441 \"/>\n",
       "<polyline clip-path=\"url(#clip322)\" style=\"stroke:#000000; stroke-linecap:round; stroke-linejoin:round; stroke-width:2; stroke-opacity:0.1; fill:none\" points=\"1805.16,1423.18 1805.16,47.2441 \"/>\n",
       "<polyline clip-path=\"url(#clip322)\" style=\"stroke:#000000; stroke-linecap:round; stroke-linejoin:round; stroke-width:2; stroke-opacity:0.1; fill:none\" points=\"2294.08,1423.18 2294.08,47.2441 \"/>\n",
       "<polyline clip-path=\"url(#clip320)\" style=\"stroke:#000000; stroke-linecap:round; stroke-linejoin:round; stroke-width:4; stroke-opacity:1; fill:none\" points=\"279.704,1423.18 2352.76,1423.18 \"/>\n",
       "<polyline clip-path=\"url(#clip320)\" style=\"stroke:#000000; stroke-linecap:round; stroke-linejoin:round; stroke-width:4; stroke-opacity:1; fill:none\" points=\"338.375,1423.18 338.375,1404.28 \"/>\n",
       "<polyline clip-path=\"url(#clip320)\" style=\"stroke:#000000; stroke-linecap:round; stroke-linejoin:round; stroke-width:4; stroke-opacity:1; fill:none\" points=\"827.303,1423.18 827.303,1404.28 \"/>\n",
       "<polyline clip-path=\"url(#clip320)\" style=\"stroke:#000000; stroke-linecap:round; stroke-linejoin:round; stroke-width:4; stroke-opacity:1; fill:none\" points=\"1316.23,1423.18 1316.23,1404.28 \"/>\n",
       "<polyline clip-path=\"url(#clip320)\" style=\"stroke:#000000; stroke-linecap:round; stroke-linejoin:round; stroke-width:4; stroke-opacity:1; fill:none\" points=\"1805.16,1423.18 1805.16,1404.28 \"/>\n",
       "<polyline clip-path=\"url(#clip320)\" style=\"stroke:#000000; stroke-linecap:round; stroke-linejoin:round; stroke-width:4; stroke-opacity:1; fill:none\" points=\"2294.08,1423.18 2294.08,1404.28 \"/>\n",
       "<path clip-path=\"url(#clip320)\" d=\"M338.375 1454.1 Q334.764 1454.1 332.935 1457.66 Q331.13 1461.2 331.13 1468.33 Q331.13 1475.44 332.935 1479.01 Q334.764 1482.55 338.375 1482.55 Q342.009 1482.55 343.815 1479.01 Q345.644 1475.44 345.644 1468.33 Q345.644 1461.2 343.815 1457.66 Q342.009 1454.1 338.375 1454.1 M338.375 1450.39 Q344.185 1450.39 347.241 1455 Q350.32 1459.58 350.32 1468.33 Q350.32 1477.06 347.241 1481.67 Q344.185 1486.25 338.375 1486.25 Q332.565 1486.25 329.486 1481.67 Q326.431 1477.06 326.431 1468.33 Q326.431 1459.58 329.486 1455 Q332.565 1450.39 338.375 1450.39 Z\" fill=\"#000000\" fill-rule=\"evenodd\" fill-opacity=\"1\" /><path clip-path=\"url(#clip320)\" d=\"M817.685 1481.64 L825.323 1481.64 L825.323 1455.28 L817.013 1456.95 L817.013 1452.69 L825.277 1451.02 L829.953 1451.02 L829.953 1481.64 L837.592 1481.64 L837.592 1485.58 L817.685 1485.58 L817.685 1481.64 Z\" fill=\"#000000\" fill-rule=\"evenodd\" fill-opacity=\"1\" /><path clip-path=\"url(#clip320)\" d=\"M1310.88 1481.64 L1327.2 1481.64 L1327.2 1485.58 L1305.26 1485.58 L1305.26 1481.64 Q1307.92 1478.89 1312.5 1474.26 Q1317.11 1469.61 1318.29 1468.27 Q1320.54 1465.74 1321.42 1464.01 Q1322.32 1462.25 1322.32 1460.56 Q1322.32 1457.8 1320.37 1456.07 Q1318.45 1454.33 1315.35 1454.33 Q1313.15 1454.33 1310.7 1455.09 Q1308.27 1455.86 1305.49 1457.41 L1305.49 1452.69 Q1308.31 1451.55 1310.77 1450.97 Q1313.22 1450.39 1315.26 1450.39 Q1320.63 1450.39 1323.82 1453.08 Q1327.02 1455.77 1327.02 1460.26 Q1327.02 1462.39 1326.21 1464.31 Q1325.42 1466.2 1323.31 1468.8 Q1322.73 1469.47 1319.63 1472.69 Q1316.53 1475.88 1310.88 1481.64 Z\" fill=\"#000000\" fill-rule=\"evenodd\" fill-opacity=\"1\" /><path clip-path=\"url(#clip320)\" d=\"M1809.4 1466.95 Q1812.76 1467.66 1814.64 1469.93 Q1816.53 1472.2 1816.53 1475.53 Q1816.53 1480.65 1813.02 1483.45 Q1809.5 1486.25 1803.02 1486.25 Q1800.84 1486.25 1798.53 1485.81 Q1796.23 1485.39 1793.78 1484.54 L1793.78 1480.02 Q1795.72 1481.16 1798.04 1481.74 Q1800.35 1482.32 1802.88 1482.32 Q1807.28 1482.32 1809.57 1480.58 Q1811.88 1478.84 1811.88 1475.53 Q1811.88 1472.48 1809.73 1470.77 Q1807.6 1469.03 1803.78 1469.03 L1799.75 1469.03 L1799.75 1465.19 L1803.97 1465.19 Q1807.41 1465.19 1809.24 1463.82 Q1811.07 1462.43 1811.07 1459.84 Q1811.07 1457.18 1809.17 1455.77 Q1807.3 1454.33 1803.78 1454.33 Q1801.86 1454.33 1799.66 1454.75 Q1797.46 1455.16 1794.82 1456.04 L1794.82 1451.88 Q1797.48 1451.14 1799.8 1450.77 Q1802.14 1450.39 1804.2 1450.39 Q1809.52 1450.39 1812.62 1452.83 Q1815.72 1455.23 1815.72 1459.35 Q1815.72 1462.22 1814.08 1464.21 Q1812.44 1466.18 1809.4 1466.95 Z\" fill=\"#000000\" fill-rule=\"evenodd\" fill-opacity=\"1\" /><path clip-path=\"url(#clip320)\" d=\"M2297.09 1455.09 L2285.29 1473.54 L2297.09 1473.54 L2297.09 1455.09 M2295.87 1451.02 L2301.75 1451.02 L2301.75 1473.54 L2306.68 1473.54 L2306.68 1477.43 L2301.75 1477.43 L2301.75 1485.58 L2297.09 1485.58 L2297.09 1477.43 L2281.49 1477.43 L2281.49 1472.92 L2295.87 1451.02 Z\" fill=\"#000000\" fill-rule=\"evenodd\" fill-opacity=\"1\" /><path clip-path=\"url(#clip320)\" d=\"M1326.3 1549.81 Q1326.3 1543.44 1323.66 1539.94 Q1321.05 1536.44 1316.31 1536.44 Q1311.6 1536.44 1308.96 1539.94 Q1306.35 1543.44 1306.35 1549.81 Q1306.35 1556.14 1308.96 1559.64 Q1311.6 1563.14 1316.31 1563.14 Q1321.05 1563.14 1323.66 1559.64 Q1326.3 1556.14 1326.3 1549.81 M1332.16 1563.62 Q1332.16 1572.72 1328.12 1577.15 Q1324.08 1581.6 1315.74 1581.6 Q1312.65 1581.6 1309.91 1581.13 Q1307.17 1580.68 1304.6 1579.72 L1304.6 1574.03 Q1307.17 1575.43 1309.69 1576.1 Q1312.2 1576.76 1314.81 1576.76 Q1320.57 1576.76 1323.44 1573.74 Q1326.3 1570.75 1326.3 1564.67 L1326.3 1561.77 Q1324.49 1564.92 1321.66 1566.48 Q1318.82 1568.04 1314.88 1568.04 Q1308.32 1568.04 1304.31 1563.05 Q1300.3 1558.05 1300.3 1549.81 Q1300.3 1541.53 1304.31 1536.53 Q1308.32 1531.54 1314.88 1531.54 Q1318.82 1531.54 1321.66 1533.1 Q1324.49 1534.66 1326.3 1537.81 L1326.3 1532.4 L1332.16 1532.4 L1332.16 1563.62 Z\" fill=\"#000000\" fill-rule=\"evenodd\" fill-opacity=\"1\" /><polyline clip-path=\"url(#clip322)\" style=\"stroke:#000000; stroke-linecap:round; stroke-linejoin:round; stroke-width:2; stroke-opacity:0.1; fill:none\" points=\"279.704,1273.35 2352.76,1273.35 \"/>\n",
       "<polyline clip-path=\"url(#clip322)\" style=\"stroke:#000000; stroke-linecap:round; stroke-linejoin:round; stroke-width:2; stroke-opacity:0.1; fill:none\" points=\"279.704,994.457 2352.76,994.457 \"/>\n",
       "<polyline clip-path=\"url(#clip322)\" style=\"stroke:#000000; stroke-linecap:round; stroke-linejoin:round; stroke-width:2; stroke-opacity:0.1; fill:none\" points=\"279.704,715.561 2352.76,715.561 \"/>\n",
       "<polyline clip-path=\"url(#clip322)\" style=\"stroke:#000000; stroke-linecap:round; stroke-linejoin:round; stroke-width:2; stroke-opacity:0.1; fill:none\" points=\"279.704,436.664 2352.76,436.664 \"/>\n",
       "<polyline clip-path=\"url(#clip322)\" style=\"stroke:#000000; stroke-linecap:round; stroke-linejoin:round; stroke-width:2; stroke-opacity:0.1; fill:none\" points=\"279.704,157.767 2352.76,157.767 \"/>\n",
       "<polyline clip-path=\"url(#clip320)\" style=\"stroke:#000000; stroke-linecap:round; stroke-linejoin:round; stroke-width:4; stroke-opacity:1; fill:none\" points=\"279.704,1423.18 279.704,47.2441 \"/>\n",
       "<polyline clip-path=\"url(#clip320)\" style=\"stroke:#000000; stroke-linecap:round; stroke-linejoin:round; stroke-width:4; stroke-opacity:1; fill:none\" points=\"279.704,1273.35 298.602,1273.35 \"/>\n",
       "<polyline clip-path=\"url(#clip320)\" style=\"stroke:#000000; stroke-linecap:round; stroke-linejoin:round; stroke-width:4; stroke-opacity:1; fill:none\" points=\"279.704,994.457 298.602,994.457 \"/>\n",
       "<polyline clip-path=\"url(#clip320)\" style=\"stroke:#000000; stroke-linecap:round; stroke-linejoin:round; stroke-width:4; stroke-opacity:1; fill:none\" points=\"279.704,715.561 298.602,715.561 \"/>\n",
       "<polyline clip-path=\"url(#clip320)\" style=\"stroke:#000000; stroke-linecap:round; stroke-linejoin:round; stroke-width:4; stroke-opacity:1; fill:none\" points=\"279.704,436.664 298.602,436.664 \"/>\n",
       "<polyline clip-path=\"url(#clip320)\" style=\"stroke:#000000; stroke-linecap:round; stroke-linejoin:round; stroke-width:4; stroke-opacity:1; fill:none\" points=\"279.704,157.767 298.602,157.767 \"/>\n",
       "<path clip-path=\"url(#clip320)\" d=\"M126.205 1259.15 Q122.593 1259.15 120.765 1262.72 Q118.959 1266.26 118.959 1273.39 Q118.959 1280.49 120.765 1284.06 Q122.593 1287.6 126.205 1287.6 Q129.839 1287.6 131.644 1284.06 Q133.473 1280.49 133.473 1273.39 Q133.473 1266.26 131.644 1262.72 Q129.839 1259.15 126.205 1259.15 M126.205 1255.45 Q132.015 1255.45 135.07 1260.06 Q138.149 1264.64 138.149 1273.39 Q138.149 1282.12 135.07 1286.72 Q132.015 1291.31 126.205 1291.31 Q120.394 1291.31 117.316 1286.72 Q114.26 1282.12 114.26 1273.39 Q114.26 1264.64 117.316 1260.06 Q120.394 1255.45 126.205 1255.45 Z\" fill=\"#000000\" fill-rule=\"evenodd\" fill-opacity=\"1\" /><path clip-path=\"url(#clip320)\" d=\"M146.366 1284.75 L151.251 1284.75 L151.251 1290.63 L146.366 1290.63 L146.366 1284.75 Z\" fill=\"#000000\" fill-rule=\"evenodd\" fill-opacity=\"1\" /><path clip-path=\"url(#clip320)\" d=\"M171.436 1274.22 Q168.102 1274.22 166.181 1276 Q164.283 1277.79 164.283 1280.91 Q164.283 1284.04 166.181 1285.82 Q168.102 1287.6 171.436 1287.6 Q174.769 1287.6 176.69 1285.82 Q178.612 1284.01 178.612 1280.91 Q178.612 1277.79 176.69 1276 Q174.792 1274.22 171.436 1274.22 M166.76 1272.23 Q163.751 1271.49 162.061 1269.43 Q160.394 1267.37 160.394 1264.41 Q160.394 1260.26 163.334 1257.86 Q166.297 1255.45 171.436 1255.45 Q176.598 1255.45 179.538 1257.86 Q182.477 1260.26 182.477 1264.41 Q182.477 1267.37 180.788 1269.43 Q179.121 1271.49 176.135 1272.23 Q179.514 1273.02 181.389 1275.31 Q183.288 1277.6 183.288 1280.91 Q183.288 1285.93 180.209 1288.62 Q177.153 1291.31 171.436 1291.31 Q165.718 1291.31 162.64 1288.62 Q159.584 1285.93 159.584 1280.91 Q159.584 1277.6 161.482 1275.31 Q163.38 1273.02 166.76 1272.23 M165.047 1264.85 Q165.047 1267.53 166.714 1269.04 Q168.403 1270.54 171.436 1270.54 Q174.445 1270.54 176.135 1269.04 Q177.848 1267.53 177.848 1264.85 Q177.848 1262.16 176.135 1260.66 Q174.445 1259.15 171.436 1259.15 Q168.403 1259.15 166.714 1260.66 Q165.047 1262.16 165.047 1264.85 Z\" fill=\"#000000\" fill-rule=\"evenodd\" fill-opacity=\"1\" /><path clip-path=\"url(#clip320)\" d=\"M191.644 1256.07 L210 1256.07 L210 1260.01 L195.926 1260.01 L195.926 1268.48 Q196.945 1268.13 197.963 1267.97 Q198.982 1267.79 200 1267.79 Q205.787 1267.79 209.167 1270.96 Q212.547 1274.13 212.547 1279.55 Q212.547 1285.12 209.074 1288.23 Q205.602 1291.31 199.283 1291.31 Q197.107 1291.31 194.838 1290.93 Q192.593 1290.56 190.186 1289.82 L190.186 1285.12 Q192.269 1286.26 194.491 1286.81 Q196.713 1287.37 199.19 1287.37 Q203.195 1287.37 205.533 1285.26 Q207.871 1283.16 207.871 1279.55 Q207.871 1275.93 205.533 1273.83 Q203.195 1271.72 199.19 1271.72 Q197.315 1271.72 195.44 1272.14 Q193.588 1272.56 191.644 1273.43 L191.644 1256.07 Z\" fill=\"#000000\" fill-rule=\"evenodd\" fill-opacity=\"1\" /><path clip-path=\"url(#clip320)\" d=\"M231.76 1259.15 Q228.148 1259.15 226.32 1262.72 Q224.514 1266.26 224.514 1273.39 Q224.514 1280.49 226.32 1284.06 Q228.148 1287.6 231.76 1287.6 Q235.394 1287.6 237.199 1284.06 Q239.028 1280.49 239.028 1273.39 Q239.028 1266.26 237.199 1262.72 Q235.394 1259.15 231.76 1259.15 M231.76 1255.45 Q237.57 1255.45 240.625 1260.06 Q243.704 1264.64 243.704 1273.39 Q243.704 1282.12 240.625 1286.72 Q237.57 1291.31 231.76 1291.31 Q225.949 1291.31 222.871 1286.72 Q219.815 1282.12 219.815 1273.39 Q219.815 1264.64 222.871 1260.06 Q225.949 1255.45 231.76 1255.45 Z\" fill=\"#000000\" fill-rule=\"evenodd\" fill-opacity=\"1\" /><path clip-path=\"url(#clip320)\" d=\"M127.2 980.256 Q123.589 980.256 121.76 983.821 Q119.955 987.362 119.955 994.492 Q119.955 1001.6 121.76 1005.16 Q123.589 1008.7 127.2 1008.7 Q130.834 1008.7 132.64 1005.16 Q134.468 1001.6 134.468 994.492 Q134.468 987.362 132.64 983.821 Q130.834 980.256 127.2 980.256 M127.2 976.552 Q133.01 976.552 136.066 981.159 Q139.144 985.742 139.144 994.492 Q139.144 1003.22 136.066 1007.83 Q133.01 1012.41 127.2 1012.41 Q121.39 1012.41 118.311 1007.83 Q115.256 1003.22 115.256 994.492 Q115.256 985.742 118.311 981.159 Q121.39 976.552 127.2 976.552 Z\" fill=\"#000000\" fill-rule=\"evenodd\" fill-opacity=\"1\" /><path clip-path=\"url(#clip320)\" d=\"M147.362 1005.86 L152.246 1005.86 L152.246 1011.74 L147.362 1011.74 L147.362 1005.86 Z\" fill=\"#000000\" fill-rule=\"evenodd\" fill-opacity=\"1\" /><path clip-path=\"url(#clip320)\" d=\"M172.431 995.325 Q169.098 995.325 167.177 997.108 Q165.278 998.89 165.278 1002.01 Q165.278 1005.14 167.177 1006.92 Q169.098 1008.7 172.431 1008.7 Q175.764 1008.7 177.686 1006.92 Q179.607 1005.12 179.607 1002.01 Q179.607 998.89 177.686 997.108 Q175.788 995.325 172.431 995.325 M167.755 993.334 Q164.746 992.594 163.056 990.534 Q161.39 988.473 161.39 985.51 Q161.39 981.367 164.329 978.96 Q167.292 976.552 172.431 976.552 Q177.593 976.552 180.533 978.96 Q183.473 981.367 183.473 985.51 Q183.473 988.473 181.783 990.534 Q180.116 992.594 177.13 993.334 Q180.51 994.122 182.385 996.413 Q184.283 998.705 184.283 1002.01 Q184.283 1007.04 181.204 1009.72 Q178.149 1012.41 172.431 1012.41 Q166.714 1012.41 163.635 1009.72 Q160.579 1007.04 160.579 1002.01 Q160.579 998.705 162.477 996.413 Q164.376 994.122 167.755 993.334 M166.042 985.95 Q166.042 988.635 167.709 990.14 Q169.399 991.645 172.431 991.645 Q175.44 991.645 177.13 990.14 Q178.843 988.635 178.843 985.95 Q178.843 983.265 177.13 981.76 Q175.44 980.256 172.431 980.256 Q169.399 980.256 167.709 981.76 Q166.042 983.265 166.042 985.95 Z\" fill=\"#000000\" fill-rule=\"evenodd\" fill-opacity=\"1\" /><path clip-path=\"url(#clip320)\" d=\"M191.413 977.177 L213.635 977.177 L213.635 979.168 L201.088 1011.74 L196.204 1011.74 L208.01 981.112 L191.413 981.112 L191.413 977.177 Z\" fill=\"#000000\" fill-rule=\"evenodd\" fill-opacity=\"1\" /><path clip-path=\"url(#clip320)\" d=\"M222.801 977.177 L241.158 977.177 L241.158 981.112 L227.084 981.112 L227.084 989.584 Q228.102 989.237 229.121 989.075 Q230.139 988.89 231.158 988.89 Q236.945 988.89 240.324 992.061 Q243.704 995.233 243.704 1000.65 Q243.704 1006.23 240.232 1009.33 Q236.76 1012.41 230.44 1012.41 Q228.264 1012.41 225.996 1012.04 Q223.75 1011.67 221.343 1010.93 L221.343 1006.23 Q223.426 1007.36 225.648 1007.92 Q227.871 1008.47 230.347 1008.47 Q234.352 1008.47 236.69 1006.37 Q239.028 1004.26 239.028 1000.65 Q239.028 997.038 236.69 994.932 Q234.352 992.825 230.347 992.825 Q228.473 992.825 226.598 993.242 Q224.746 993.659 222.801 994.538 L222.801 977.177 Z\" fill=\"#000000\" fill-rule=\"evenodd\" fill-opacity=\"1\" /><path clip-path=\"url(#clip320)\" d=\"M126.205 701.359 Q122.593 701.359 120.765 704.924 Q118.959 708.466 118.959 715.595 Q118.959 722.702 120.765 726.267 Q122.593 729.808 126.205 729.808 Q129.839 729.808 131.644 726.267 Q133.473 722.702 133.473 715.595 Q133.473 708.466 131.644 704.924 Q129.839 701.359 126.205 701.359 M126.205 697.656 Q132.015 697.656 135.07 702.262 Q138.149 706.845 138.149 715.595 Q138.149 724.322 135.07 728.929 Q132.015 733.512 126.205 733.512 Q120.394 733.512 117.316 728.929 Q114.26 724.322 114.26 715.595 Q114.26 706.845 117.316 702.262 Q120.394 697.656 126.205 697.656 Z\" fill=\"#000000\" fill-rule=\"evenodd\" fill-opacity=\"1\" /><path clip-path=\"url(#clip320)\" d=\"M146.366 726.961 L151.251 726.961 L151.251 732.841 L146.366 732.841 L146.366 726.961 Z\" fill=\"#000000\" fill-rule=\"evenodd\" fill-opacity=\"1\" /><path clip-path=\"url(#clip320)\" d=\"M161.575 732.123 L161.575 727.864 Q163.334 728.697 165.14 729.137 Q166.945 729.577 168.681 729.577 Q173.311 729.577 175.741 726.475 Q178.195 723.35 178.542 717.007 Q177.2 718.998 175.139 720.063 Q173.079 721.128 170.579 721.128 Q165.394 721.128 162.362 718.003 Q159.353 714.855 159.353 709.415 Q159.353 704.091 162.501 700.873 Q165.649 697.656 170.88 697.656 Q176.876 697.656 180.024 702.262 Q183.195 706.845 183.195 715.595 Q183.195 723.767 179.306 728.651 Q175.44 733.512 168.889 733.512 Q167.13 733.512 165.325 733.165 Q163.519 732.817 161.575 732.123 M170.88 717.47 Q174.028 717.47 175.857 715.317 Q177.709 713.165 177.709 709.415 Q177.709 705.688 175.857 703.535 Q174.028 701.359 170.88 701.359 Q167.732 701.359 165.88 703.535 Q164.052 705.688 164.052 709.415 Q164.052 713.165 165.88 715.317 Q167.732 717.47 170.88 717.47 Z\" fill=\"#000000\" fill-rule=\"evenodd\" fill-opacity=\"1\" /><path clip-path=\"url(#clip320)\" d=\"M201.598 701.359 Q197.987 701.359 196.158 704.924 Q194.352 708.466 194.352 715.595 Q194.352 722.702 196.158 726.267 Q197.987 729.808 201.598 729.808 Q205.232 729.808 207.037 726.267 Q208.866 722.702 208.866 715.595 Q208.866 708.466 207.037 704.924 Q205.232 701.359 201.598 701.359 M201.598 697.656 Q207.408 697.656 210.463 702.262 Q213.542 706.845 213.542 715.595 Q213.542 724.322 210.463 728.929 Q207.408 733.512 201.598 733.512 Q195.787 733.512 192.709 728.929 Q189.653 724.322 189.653 715.595 Q189.653 706.845 192.709 702.262 Q195.787 697.656 201.598 697.656 Z\" fill=\"#000000\" fill-rule=\"evenodd\" fill-opacity=\"1\" /><path clip-path=\"url(#clip320)\" d=\"M231.76 701.359 Q228.148 701.359 226.32 704.924 Q224.514 708.466 224.514 715.595 Q224.514 722.702 226.32 726.267 Q228.148 729.808 231.76 729.808 Q235.394 729.808 237.199 726.267 Q239.028 722.702 239.028 715.595 Q239.028 708.466 237.199 704.924 Q235.394 701.359 231.76 701.359 M231.76 697.656 Q237.57 697.656 240.625 702.262 Q243.704 706.845 243.704 715.595 Q243.704 724.322 240.625 728.929 Q237.57 733.512 231.76 733.512 Q225.949 733.512 222.871 728.929 Q219.815 724.322 219.815 715.595 Q219.815 706.845 222.871 702.262 Q225.949 697.656 231.76 697.656 Z\" fill=\"#000000\" fill-rule=\"evenodd\" fill-opacity=\"1\" /><path clip-path=\"url(#clip320)\" d=\"M127.2 422.463 Q123.589 422.463 121.76 426.027 Q119.955 429.569 119.955 436.699 Q119.955 443.805 121.76 447.37 Q123.589 450.912 127.2 450.912 Q130.834 450.912 132.64 447.37 Q134.468 443.805 134.468 436.699 Q134.468 429.569 132.64 426.027 Q130.834 422.463 127.2 422.463 M127.2 418.759 Q133.01 418.759 136.066 423.365 Q139.144 427.949 139.144 436.699 Q139.144 445.425 136.066 450.032 Q133.01 454.615 127.2 454.615 Q121.39 454.615 118.311 450.032 Q115.256 445.425 115.256 436.699 Q115.256 427.949 118.311 423.365 Q121.39 418.759 127.2 418.759 Z\" fill=\"#000000\" fill-rule=\"evenodd\" fill-opacity=\"1\" /><path clip-path=\"url(#clip320)\" d=\"M147.362 448.064 L152.246 448.064 L152.246 453.944 L147.362 453.944 L147.362 448.064 Z\" fill=\"#000000\" fill-rule=\"evenodd\" fill-opacity=\"1\" /><path clip-path=\"url(#clip320)\" d=\"M162.57 453.226 L162.57 448.967 Q164.329 449.8 166.135 450.24 Q167.94 450.68 169.677 450.68 Q174.306 450.68 176.737 447.578 Q179.19 444.453 179.538 438.111 Q178.195 440.101 176.135 441.166 Q174.075 442.231 171.575 442.231 Q166.39 442.231 163.357 439.106 Q160.348 435.958 160.348 430.518 Q160.348 425.194 163.496 421.977 Q166.644 418.759 171.876 418.759 Q177.871 418.759 181.019 423.365 Q184.19 427.949 184.19 436.699 Q184.19 444.87 180.301 449.754 Q176.436 454.615 169.885 454.615 Q168.126 454.615 166.32 454.268 Q164.515 453.921 162.57 453.226 M171.876 438.574 Q175.024 438.574 176.852 436.421 Q178.704 434.268 178.704 430.518 Q178.704 426.791 176.852 424.639 Q175.024 422.463 171.876 422.463 Q168.727 422.463 166.876 424.639 Q165.047 426.791 165.047 430.518 Q165.047 434.268 166.876 436.421 Q168.727 438.574 171.876 438.574 Z\" fill=\"#000000\" fill-rule=\"evenodd\" fill-opacity=\"1\" /><path clip-path=\"url(#clip320)\" d=\"M196.621 450.009 L212.94 450.009 L212.94 453.944 L190.996 453.944 L190.996 450.009 Q193.658 447.254 198.241 442.625 Q202.848 437.972 204.028 436.629 Q206.274 434.106 207.153 432.37 Q208.056 430.611 208.056 428.921 Q208.056 426.166 206.112 424.43 Q204.19 422.694 201.088 422.694 Q198.889 422.694 196.436 423.458 Q194.005 424.222 191.227 425.773 L191.227 421.051 Q194.051 419.916 196.505 419.338 Q198.959 418.759 200.996 418.759 Q206.366 418.759 209.561 421.444 Q212.755 424.129 212.755 428.62 Q212.755 430.75 211.945 432.671 Q211.158 434.569 209.051 437.162 Q208.473 437.833 205.371 441.05 Q202.269 444.245 196.621 450.009 Z\" fill=\"#000000\" fill-rule=\"evenodd\" fill-opacity=\"1\" /><path clip-path=\"url(#clip320)\" d=\"M222.801 419.384 L241.158 419.384 L241.158 423.319 L227.084 423.319 L227.084 431.791 Q228.102 431.444 229.121 431.282 Q230.139 431.097 231.158 431.097 Q236.945 431.097 240.324 434.268 Q243.704 437.439 243.704 442.856 Q243.704 448.435 240.232 451.537 Q236.76 454.615 230.44 454.615 Q228.264 454.615 225.996 454.245 Q223.75 453.875 221.343 453.134 L221.343 448.435 Q223.426 449.569 225.648 450.125 Q227.871 450.68 230.347 450.68 Q234.352 450.68 236.69 448.574 Q239.028 446.467 239.028 442.856 Q239.028 439.245 236.69 437.138 Q234.352 435.032 230.347 435.032 Q228.473 435.032 226.598 435.449 Q224.746 435.865 222.801 436.745 L222.801 419.384 Z\" fill=\"#000000\" fill-rule=\"evenodd\" fill-opacity=\"1\" /><path clip-path=\"url(#clip320)\" d=\"M126.205 143.566 Q122.593 143.566 120.765 147.131 Q118.959 150.672 118.959 157.802 Q118.959 164.909 120.765 168.473 Q122.593 172.015 126.205 172.015 Q129.839 172.015 131.644 168.473 Q133.473 164.909 133.473 157.802 Q133.473 150.672 131.644 147.131 Q129.839 143.566 126.205 143.566 M126.205 139.862 Q132.015 139.862 135.07 144.469 Q138.149 149.052 138.149 157.802 Q138.149 166.529 135.07 171.135 Q132.015 175.719 126.205 175.719 Q120.394 175.719 117.316 171.135 Q114.26 166.529 114.26 157.802 Q114.26 149.052 117.316 144.469 Q120.394 139.862 126.205 139.862 Z\" fill=\"#000000\" fill-rule=\"evenodd\" fill-opacity=\"1\" /><path clip-path=\"url(#clip320)\" d=\"M146.366 169.168 L151.251 169.168 L151.251 175.047 L146.366 175.047 L146.366 169.168 Z\" fill=\"#000000\" fill-rule=\"evenodd\" fill-opacity=\"1\" /><path clip-path=\"url(#clip320)\" d=\"M161.575 174.33 L161.575 170.071 Q163.334 170.904 165.14 171.344 Q166.945 171.783 168.681 171.783 Q173.311 171.783 175.741 168.682 Q178.195 165.557 178.542 159.214 Q177.2 161.205 175.139 162.27 Q173.079 163.334 170.579 163.334 Q165.394 163.334 162.362 160.209 Q159.353 157.061 159.353 151.622 Q159.353 146.298 162.501 143.08 Q165.649 139.862 170.88 139.862 Q176.876 139.862 180.024 144.469 Q183.195 149.052 183.195 157.802 Q183.195 165.973 179.306 170.858 Q175.44 175.719 168.889 175.719 Q167.13 175.719 165.325 175.371 Q163.519 175.024 161.575 174.33 M170.88 159.677 Q174.028 159.677 175.857 157.524 Q177.709 155.372 177.709 151.622 Q177.709 147.895 175.857 145.742 Q174.028 143.566 170.88 143.566 Q167.732 143.566 165.88 145.742 Q164.052 147.895 164.052 151.622 Q164.052 155.372 165.88 157.524 Q167.732 159.677 170.88 159.677 Z\" fill=\"#000000\" fill-rule=\"evenodd\" fill-opacity=\"1\" /><path clip-path=\"url(#clip320)\" d=\"M191.644 140.487 L210 140.487 L210 144.423 L195.926 144.423 L195.926 152.895 Q196.945 152.547 197.963 152.385 Q198.982 152.2 200 152.2 Q205.787 152.2 209.167 155.372 Q212.547 158.543 212.547 163.959 Q212.547 169.538 209.074 172.64 Q205.602 175.719 199.283 175.719 Q197.107 175.719 194.838 175.348 Q192.593 174.978 190.186 174.237 L190.186 169.538 Q192.269 170.672 194.491 171.228 Q196.713 171.783 199.19 171.783 Q203.195 171.783 205.533 169.677 Q207.871 167.571 207.871 163.959 Q207.871 160.348 205.533 158.242 Q203.195 156.135 199.19 156.135 Q197.315 156.135 195.44 156.552 Q193.588 156.969 191.644 157.848 L191.644 140.487 Z\" fill=\"#000000\" fill-rule=\"evenodd\" fill-opacity=\"1\" /><path clip-path=\"url(#clip320)\" d=\"M231.76 143.566 Q228.148 143.566 226.32 147.131 Q224.514 150.672 224.514 157.802 Q224.514 164.909 226.32 168.473 Q228.148 172.015 231.76 172.015 Q235.394 172.015 237.199 168.473 Q239.028 164.909 239.028 157.802 Q239.028 150.672 237.199 147.131 Q235.394 143.566 231.76 143.566 M231.76 139.862 Q237.57 139.862 240.625 144.469 Q243.704 149.052 243.704 157.802 Q243.704 166.529 240.625 171.135 Q237.57 175.719 231.76 175.719 Q225.949 175.719 222.871 171.135 Q219.815 166.529 219.815 157.802 Q219.815 149.052 222.871 144.469 Q225.949 139.862 231.76 139.862 Z\" fill=\"#000000\" fill-rule=\"evenodd\" fill-opacity=\"1\" /><path clip-path=\"url(#clip320)\" d=\"M18.0438 939.472 L24.314 939.472 Q22.5634 943.132 21.704 946.378 Q20.8447 949.625 20.8447 952.649 Q20.8447 957.9 22.8817 960.765 Q24.9187 963.598 28.6745 963.598 Q31.8255 963.598 33.4488 961.72 Q35.0402 959.81 36.0269 954.526 L36.8226 950.643 Q38.1912 943.45 41.6605 940.044 Q45.098 936.607 50.8908 936.607 Q57.7976 936.607 61.3624 941.254 Q64.9272 945.869 64.9272 954.813 Q64.9272 958.187 64.1633 962.006 Q63.3994 965.794 61.9035 969.868 L55.2831 969.868 Q57.4793 965.953 58.5933 962.197 Q59.7073 958.441 59.7073 954.813 Q59.7073 949.307 57.543 946.315 Q55.3786 943.323 51.3682 943.323 Q47.8671 943.323 45.8937 945.487 Q43.9204 947.62 42.9337 952.521 L42.1698 956.436 Q40.7375 963.629 37.682 966.844 Q34.6264 970.059 29.1837 970.059 Q22.8817 970.059 19.2532 965.635 Q15.6248 961.179 15.6248 953.381 Q15.6248 950.039 16.2295 946.569 Q16.8343 943.1 18.0438 939.472 Z\" fill=\"#000000\" fill-rule=\"evenodd\" fill-opacity=\"1\" /><path clip-path=\"url(#clip320)\" d=\"M74.8259 899.75 L79.3773 899.75 L79.3773 933.615 L74.8259 933.615 L74.8259 899.75 Z\" fill=\"#000000\" fill-rule=\"evenodd\" fill-opacity=\"1\" /><path clip-path=\"url(#clip320)\" d=\"M16.4842 893.989 L16.4842 887.559 L58.5933 887.559 L58.5933 864.42 L64.0042 864.42 L64.0042 893.989 L16.4842 893.989 Z\" fill=\"#000000\" fill-rule=\"evenodd\" fill-opacity=\"1\" /><path clip-path=\"url(#clip320)\" d=\"M28.3562 837.207 L28.3562 831.35 L64.0042 831.35 L64.0042 837.207 L28.3562 837.207 M14.479 837.207 L14.479 831.35 L21.895 831.35 L21.895 837.207 L14.479 837.207 Z\" fill=\"#000000\" fill-rule=\"evenodd\" fill-opacity=\"1\" /><path clip-path=\"url(#clip320)\" d=\"M42.4881 789.464 L64.0042 789.464 L64.0042 795.32 L42.679 795.32 Q37.6183 795.32 35.1038 797.294 Q32.5894 799.267 32.5894 803.214 Q32.5894 807.956 35.6131 810.693 Q38.6368 813.431 43.8567 813.431 L64.0042 813.431 L64.0042 819.319 L28.3562 819.319 L28.3562 813.431 L33.8944 813.431 Q30.6797 811.33 29.0883 808.497 Q27.4968 805.633 27.4968 801.909 Q27.4968 795.766 31.3163 792.615 Q35.1038 789.464 42.4881 789.464 Z\" fill=\"#000000\" fill-rule=\"evenodd\" fill-opacity=\"1\" /><path clip-path=\"url(#clip320)\" d=\"M18.2347 751.269 L28.3562 751.269 L28.3562 739.206 L32.9077 739.206 L32.9077 751.269 L52.2594 751.269 Q56.6199 751.269 57.8613 750.092 Q59.1026 748.882 59.1026 745.222 L59.1026 739.206 L64.0042 739.206 L64.0042 745.222 Q64.0042 752.002 61.4897 754.58 Q58.9434 757.158 52.2594 757.158 L32.9077 757.158 L32.9077 761.455 L28.3562 761.455 L28.3562 757.158 L18.2347 757.158 L18.2347 751.269 Z\" fill=\"#000000\" fill-rule=\"evenodd\" fill-opacity=\"1\" /><path clip-path=\"url(#clip320)\" d=\"M42.4881 701.872 L64.0042 701.872 L64.0042 707.728 L42.679 707.728 Q37.6183 707.728 35.1038 709.701 Q32.5894 711.675 32.5894 715.622 Q32.5894 720.364 35.6131 723.101 Q38.6368 725.838 43.8567 725.838 L64.0042 725.838 L64.0042 731.727 L14.479 731.727 L14.479 725.838 L33.8944 725.838 Q30.6797 723.738 29.0883 720.905 Q27.4968 718.04 27.4968 714.317 Q27.4968 708.174 31.3163 705.023 Q35.1038 701.872 42.4881 701.872 Z\" fill=\"#000000\" fill-rule=\"evenodd\" fill-opacity=\"1\" /><path clip-path=\"url(#clip320)\" d=\"M44.7161 659.699 L47.5806 659.699 L47.5806 686.626 Q53.6281 686.244 56.8109 682.997 Q59.9619 679.719 59.9619 673.894 Q59.9619 670.52 59.1344 667.369 Q58.3069 664.187 56.6518 661.067 L62.1899 661.067 Q63.5267 664.218 64.227 667.529 Q64.9272 670.839 64.9272 674.244 Q64.9272 682.774 59.9619 687.772 Q54.9967 692.737 46.5303 692.737 Q37.7774 692.737 32.6531 688.026 Q27.4968 683.284 27.4968 675.263 Q27.4968 668.07 32.1438 663.9 Q36.7589 659.699 44.7161 659.699 M42.9973 665.555 Q38.1912 665.619 35.3266 668.261 Q32.4621 670.871 32.4621 675.199 Q32.4621 680.101 35.2312 683.061 Q38.0002 685.989 43.0292 686.435 L42.9973 665.555 Z\" fill=\"#000000\" fill-rule=\"evenodd\" fill-opacity=\"1\" /><path clip-path=\"url(#clip320)\" d=\"M58.657 623.701 L77.5631 623.701 L77.5631 629.589 L28.3562 629.589 L28.3562 623.701 L33.7671 623.701 Q30.5842 621.855 29.0564 619.054 Q27.4968 616.221 27.4968 612.306 Q27.4968 605.813 32.6531 601.771 Q37.8093 597.697 46.212 597.697 Q54.6147 597.697 59.771 601.771 Q64.9272 605.813 64.9272 612.306 Q64.9272 616.221 63.3994 619.054 Q61.8398 621.855 58.657 623.701 M46.212 603.776 Q39.7508 603.776 36.0905 606.45 Q32.3984 609.091 32.3984 613.738 Q32.3984 618.385 36.0905 621.059 Q39.7508 623.701 46.212 623.701 Q52.6732 623.701 56.3653 621.059 Q60.0256 618.385 60.0256 613.738 Q60.0256 609.091 56.3653 606.45 Q52.6732 603.776 46.212 603.776 Z\" fill=\"#000000\" fill-rule=\"evenodd\" fill-opacity=\"1\" /><path clip-path=\"url(#clip320)\" d=\"M28.3562 587.989 L28.3562 582.133 L64.0042 582.133 L64.0042 587.989 L28.3562 587.989 M14.479 587.989 L14.479 582.133 L21.895 582.133 L21.895 587.989 L14.479 587.989 Z\" fill=\"#000000\" fill-rule=\"evenodd\" fill-opacity=\"1\" /><path clip-path=\"url(#clip320)\" d=\"M32.4621 556.065 Q32.4621 560.776 36.1542 563.513 Q39.8145 566.25 46.212 566.25 Q52.6095 566.25 56.3017 563.545 Q59.9619 560.808 59.9619 556.065 Q59.9619 551.386 56.2698 548.649 Q52.5777 545.912 46.212 545.912 Q39.8781 545.912 36.186 548.649 Q32.4621 551.386 32.4621 556.065 M27.4968 556.065 Q27.4968 548.426 32.4621 544.066 Q37.4273 539.705 46.212 539.705 Q54.9649 539.705 59.9619 544.066 Q64.9272 548.426 64.9272 556.065 Q64.9272 563.736 59.9619 568.096 Q54.9649 572.425 46.212 572.425 Q37.4273 572.425 32.4621 568.096 Q27.4968 563.736 27.4968 556.065 Z\" fill=\"#000000\" fill-rule=\"evenodd\" fill-opacity=\"1\" /><path clip-path=\"url(#clip320)\" d=\"M42.4881 500.365 L64.0042 500.365 L64.0042 506.222 L42.679 506.222 Q37.6183 506.222 35.1038 508.195 Q32.5894 510.168 32.5894 514.115 Q32.5894 518.858 35.6131 521.595 Q38.6368 524.332 43.8567 524.332 L64.0042 524.332 L64.0042 530.22 L28.3562 530.22 L28.3562 524.332 L33.8944 524.332 Q30.6797 522.231 29.0883 519.399 Q27.4968 516.534 27.4968 512.81 Q27.4968 506.667 31.3163 503.516 Q35.1038 500.365 42.4881 500.365 Z\" fill=\"#000000\" fill-rule=\"evenodd\" fill-opacity=\"1\" /><circle clip-path=\"url(#clip322)\" cx=\"338.375\" cy=\"1277.32\" r=\"14.4\" fill=\"#009af9\" fill-rule=\"evenodd\" fill-opacity=\"1\" stroke=\"#000000\" stroke-opacity=\"1\" stroke-width=\"3.2\"/>\n",
       "<circle clip-path=\"url(#clip322)\" cx=\"436.161\" cy=\"131.45\" r=\"14.4\" fill=\"#009af9\" fill-rule=\"evenodd\" fill-opacity=\"1\" stroke=\"#000000\" stroke-opacity=\"1\" stroke-width=\"3.2\"/>\n",
       "<circle clip-path=\"url(#clip322)\" cx=\"533.946\" cy=\"86.1857\" r=\"14.4\" fill=\"#009af9\" fill-rule=\"evenodd\" fill-opacity=\"1\" stroke=\"#000000\" stroke-opacity=\"1\" stroke-width=\"3.2\"/>\n",
       "<circle clip-path=\"url(#clip322)\" cx=\"631.732\" cy=\"201.057\" r=\"14.4\" fill=\"#009af9\" fill-rule=\"evenodd\" fill-opacity=\"1\" stroke=\"#000000\" stroke-opacity=\"1\" stroke-width=\"3.2\"/>\n",
       "<circle clip-path=\"url(#clip322)\" cx=\"729.517\" cy=\"351.379\" r=\"14.4\" fill=\"#009af9\" fill-rule=\"evenodd\" fill-opacity=\"1\" stroke=\"#000000\" stroke-opacity=\"1\" stroke-width=\"3.2\"/>\n",
       "<circle clip-path=\"url(#clip322)\" cx=\"827.303\" cy=\"491.179\" r=\"14.4\" fill=\"#009af9\" fill-rule=\"evenodd\" fill-opacity=\"1\" stroke=\"#000000\" stroke-opacity=\"1\" stroke-width=\"3.2\"/>\n",
       "<circle clip-path=\"url(#clip322)\" cx=\"925.088\" cy=\"620.44\" r=\"14.4\" fill=\"#009af9\" fill-rule=\"evenodd\" fill-opacity=\"1\" stroke=\"#000000\" stroke-opacity=\"1\" stroke-width=\"3.2\"/>\n",
       "<circle clip-path=\"url(#clip322)\" cx=\"1022.87\" cy=\"736.291\" r=\"14.4\" fill=\"#009af9\" fill-rule=\"evenodd\" fill-opacity=\"1\" stroke=\"#000000\" stroke-opacity=\"1\" stroke-width=\"3.2\"/>\n",
       "<circle clip-path=\"url(#clip322)\" cx=\"1120.66\" cy=\"830.754\" r=\"14.4\" fill=\"#009af9\" fill-rule=\"evenodd\" fill-opacity=\"1\" stroke=\"#000000\" stroke-opacity=\"1\" stroke-width=\"3.2\"/>\n",
       "<circle clip-path=\"url(#clip322)\" cx=\"1218.44\" cy=\"890.211\" r=\"14.4\" fill=\"#009af9\" fill-rule=\"evenodd\" fill-opacity=\"1\" stroke=\"#000000\" stroke-opacity=\"1\" stroke-width=\"3.2\"/>\n",
       "<circle clip-path=\"url(#clip322)\" cx=\"1316.23\" cy=\"886.811\" r=\"14.4\" fill=\"#009af9\" fill-rule=\"evenodd\" fill-opacity=\"1\" stroke=\"#000000\" stroke-opacity=\"1\" stroke-width=\"3.2\"/>\n",
       "<circle clip-path=\"url(#clip322)\" cx=\"1414.02\" cy=\"745.935\" r=\"14.4\" fill=\"#009af9\" fill-rule=\"evenodd\" fill-opacity=\"1\" stroke=\"#000000\" stroke-opacity=\"1\" stroke-width=\"3.2\"/>\n",
       "<circle clip-path=\"url(#clip322)\" cx=\"1511.8\" cy=\"340.943\" r=\"14.4\" fill=\"#009af9\" fill-rule=\"evenodd\" fill-opacity=\"1\" stroke=\"#000000\" stroke-opacity=\"1\" stroke-width=\"3.2\"/>\n",
       "<circle clip-path=\"url(#clip322)\" cx=\"1609.59\" cy=\"458.544\" r=\"14.4\" fill=\"#009af9\" fill-rule=\"evenodd\" fill-opacity=\"1\" stroke=\"#000000\" stroke-opacity=\"1\" stroke-width=\"3.2\"/>\n",
       "<circle clip-path=\"url(#clip322)\" cx=\"1707.37\" cy=\"910.077\" r=\"14.4\" fill=\"#009af9\" fill-rule=\"evenodd\" fill-opacity=\"1\" stroke=\"#000000\" stroke-opacity=\"1\" stroke-width=\"3.2\"/>\n",
       "<circle clip-path=\"url(#clip322)\" cx=\"1805.16\" cy=\"1112.07\" r=\"14.4\" fill=\"#009af9\" fill-rule=\"evenodd\" fill-opacity=\"1\" stroke=\"#000000\" stroke-opacity=\"1\" stroke-width=\"3.2\"/>\n",
       "<circle clip-path=\"url(#clip322)\" cx=\"1902.94\" cy=\"1216.6\" r=\"14.4\" fill=\"#009af9\" fill-rule=\"evenodd\" fill-opacity=\"1\" stroke=\"#000000\" stroke-opacity=\"1\" stroke-width=\"3.2\"/>\n",
       "<circle clip-path=\"url(#clip322)\" cx=\"2000.73\" cy=\"1281.7\" r=\"14.4\" fill=\"#009af9\" fill-rule=\"evenodd\" fill-opacity=\"1\" stroke=\"#000000\" stroke-opacity=\"1\" stroke-width=\"3.2\"/>\n",
       "<circle clip-path=\"url(#clip322)\" cx=\"2098.51\" cy=\"1326.6\" r=\"14.4\" fill=\"#009af9\" fill-rule=\"evenodd\" fill-opacity=\"1\" stroke=\"#000000\" stroke-opacity=\"1\" stroke-width=\"3.2\"/>\n",
       "<circle clip-path=\"url(#clip322)\" cx=\"2196.3\" cy=\"1359.41\" r=\"14.4\" fill=\"#009af9\" fill-rule=\"evenodd\" fill-opacity=\"1\" stroke=\"#000000\" stroke-opacity=\"1\" stroke-width=\"3.2\"/>\n",
       "<circle clip-path=\"url(#clip322)\" cx=\"2294.08\" cy=\"1384.24\" r=\"14.4\" fill=\"#009af9\" fill-rule=\"evenodd\" fill-opacity=\"1\" stroke=\"#000000\" stroke-opacity=\"1\" stroke-width=\"3.2\"/>\n",
       "</svg>\n"
      ]
     },
     "execution_count": 36,
     "metadata": {},
     "output_type": "execute_result"
    }
   ],
   "source": [
    "plot(0:0.2:4,linent,seriestype = :scatter, xlabel = \"g\", ylabel = \"S_L in the pion\",legend=false)"
   ]
  },
  {
   "cell_type": "markdown",
   "id": "86d4cde2",
   "metadata": {},
   "source": [
    "## Exact time evolution of the vacuum, from matrix exponentiation"
   ]
  },
  {
   "cell_type": "code",
   "execution_count": 39,
   "id": "390064bb",
   "metadata": {},
   "outputs": [],
   "source": [
    "m=1;g=1;\n",
    "fh = fullHamiltonian(0,buildSeed(0,4),4)\n",
    "spec = spectrum(m,g,0,fh)\n",
    "vac = spec[2][:,1];"
   ]
  },
  {
   "cell_type": "code",
   "execution_count": 40,
   "id": "260f6e31",
   "metadata": {},
   "outputs": [],
   "source": [
    "hamm = m*fh[1] + fh[2] + g^2 * fh[3]\n",
    "persistenceProb = []\n",
    "for t in 0:20\n",
    "    out = expmv(-1im * t/5, hamm, vac) \n",
    "    # Expect 1 since time evolving an eigenstate\n",
    "    push!(persistenceProb,abs(dot(vac, out))^2) \n",
    "end"
   ]
  },
  {
   "cell_type": "code",
   "execution_count": 41,
   "id": "70fd2622",
   "metadata": {},
   "outputs": [
    {
     "data": {
      "image/svg+xml": [
       "<?xml version=\"1.0\" encoding=\"utf-8\"?>\n",
       "<svg xmlns=\"http://www.w3.org/2000/svg\" xmlns:xlink=\"http://www.w3.org/1999/xlink\" width=\"600\" height=\"400\" viewBox=\"0 0 2400 1600\">\n",
       "<defs>\n",
       "  <clipPath id=\"clip360\">\n",
       "    <rect x=\"0\" y=\"0\" width=\"2400\" height=\"1600\"/>\n",
       "  </clipPath>\n",
       "</defs>\n",
       "<path clip-path=\"url(#clip360)\" d=\"M0 1600 L2400 1600 L2400 0 L0 0  Z\" fill=\"#ffffff\" fill-rule=\"evenodd\" fill-opacity=\"1\"/>\n",
       "<defs>\n",
       "  <clipPath id=\"clip361\">\n",
       "    <rect x=\"480\" y=\"0\" width=\"1681\" height=\"1600\"/>\n",
       "  </clipPath>\n",
       "</defs>\n",
       "<path clip-path=\"url(#clip360)\" d=\"M336.752 1423.18 L2352.76 1423.18 L2352.76 47.2441 L336.752 47.2441  Z\" fill=\"#ffffff\" fill-rule=\"evenodd\" fill-opacity=\"1\"/>\n",
       "<defs>\n",
       "  <clipPath id=\"clip362\">\n",
       "    <rect x=\"336\" y=\"47\" width=\"2017\" height=\"1377\"/>\n",
       "  </clipPath>\n",
       "</defs>\n",
       "<polyline clip-path=\"url(#clip362)\" style=\"stroke:#000000; stroke-linecap:round; stroke-linejoin:round; stroke-width:2; stroke-opacity:0.1; fill:none\" points=\"393.809,1424.22 393.809,48.4375 \"/>\n",
       "<polyline clip-path=\"url(#clip362)\" style=\"stroke:#000000; stroke-linecap:round; stroke-linejoin:round; stroke-width:2; stroke-opacity:0.1; fill:none\" points=\"869.281,1424.22 869.281,48.4375 \"/>\n",
       "<polyline clip-path=\"url(#clip362)\" style=\"stroke:#000000; stroke-linecap:round; stroke-linejoin:round; stroke-width:2; stroke-opacity:0.1; fill:none\" points=\"1344.75,1424.22 1344.75,48.4375 \"/>\n",
       "<polyline clip-path=\"url(#clip362)\" style=\"stroke:#000000; stroke-linecap:round; stroke-linejoin:round; stroke-width:2; stroke-opacity:0.1; fill:none\" points=\"1820.23,1424.22 1820.23,48.4375 \"/>\n",
       "<polyline clip-path=\"url(#clip362)\" style=\"stroke:#000000; stroke-linecap:round; stroke-linejoin:round; stroke-width:2; stroke-opacity:0.1; fill:none\" points=\"2295.7,1424.22 2295.7,48.4375 \"/>\n",
       "<polyline clip-path=\"url(#clip360)\" style=\"stroke:#000000; stroke-linecap:round; stroke-linejoin:round; stroke-width:4; stroke-opacity:1; fill:none\" points=\"336.752,1424.22 2352.76,1424.22 \"/>\n",
       "<polyline clip-path=\"url(#clip360)\" style=\"stroke:#000000; stroke-linecap:round; stroke-linejoin:round; stroke-width:4; stroke-opacity:1; fill:none\" points=\"393.809,1424.22 393.809,1405.47 \"/>\n",
       "<polyline clip-path=\"url(#clip360)\" style=\"stroke:#000000; stroke-linecap:round; stroke-linejoin:round; stroke-width:4; stroke-opacity:1; fill:none\" points=\"869.281,1424.22 869.281,1405.47 \"/>\n",
       "<polyline clip-path=\"url(#clip360)\" style=\"stroke:#000000; stroke-linecap:round; stroke-linejoin:round; stroke-width:4; stroke-opacity:1; fill:none\" points=\"1344.75,1424.22 1344.75,1405.47 \"/>\n",
       "<polyline clip-path=\"url(#clip360)\" style=\"stroke:#000000; stroke-linecap:round; stroke-linejoin:round; stroke-width:4; stroke-opacity:1; fill:none\" points=\"1820.23,1424.22 1820.23,1405.47 \"/>\n",
       "<polyline clip-path=\"url(#clip360)\" style=\"stroke:#000000; stroke-linecap:round; stroke-linejoin:round; stroke-width:4; stroke-opacity:1; fill:none\" points=\"2295.7,1424.22 2295.7,1405.47 \"/>\n",
       "<path clip-path=\"url(#clip360)\" d=\"M393.809 1455.14 Q390.198 1455.14 388.369 1458.7 Q386.564 1462.24 386.564 1469.37 Q386.564 1476.48 388.369 1480.04 Q390.198 1483.59 393.809 1483.59 Q397.443 1483.59 399.249 1480.04 Q401.077 1476.48 401.077 1469.37 Q401.077 1462.24 399.249 1458.7 Q397.443 1455.14 393.809 1455.14 M393.809 1451.43 Q399.619 1451.43 402.675 1456.04 Q405.753 1460.62 405.753 1469.37 Q405.753 1478.1 402.675 1482.71 Q399.619 1487.29 393.809 1487.29 Q387.999 1487.29 384.92 1482.71 Q381.865 1478.1 381.865 1469.37 Q381.865 1460.62 384.92 1456.04 Q387.999 1451.43 393.809 1451.43 Z\" fill=\"#000000\" fill-rule=\"evenodd\" fill-opacity=\"1\" /><path clip-path=\"url(#clip360)\" d=\"M859.663 1482.68 L867.302 1482.68 L867.302 1456.32 L858.992 1457.98 L858.992 1453.73 L867.256 1452.06 L871.932 1452.06 L871.932 1482.68 L879.571 1482.68 L879.571 1486.62 L859.663 1486.62 L859.663 1482.68 Z\" fill=\"#000000\" fill-rule=\"evenodd\" fill-opacity=\"1\" /><path clip-path=\"url(#clip360)\" d=\"M1339.41 1482.68 L1355.73 1482.68 L1355.73 1486.62 L1333.78 1486.62 L1333.78 1482.68 Q1336.44 1479.93 1341.03 1475.3 Q1345.63 1470.65 1346.81 1469.3 Q1349.06 1466.78 1349.94 1465.04 Q1350.84 1463.29 1350.84 1461.6 Q1350.84 1458.84 1348.9 1457.11 Q1346.98 1455.37 1343.87 1455.37 Q1341.68 1455.37 1339.22 1456.13 Q1336.79 1456.9 1334.01 1458.45 L1334.01 1453.73 Q1336.84 1452.59 1339.29 1452.01 Q1341.74 1451.43 1343.78 1451.43 Q1349.15 1451.43 1352.35 1454.12 Q1355.54 1456.8 1355.54 1461.29 Q1355.54 1463.42 1354.73 1465.35 Q1353.94 1467.24 1351.84 1469.84 Q1351.26 1470.51 1348.16 1473.73 Q1345.05 1476.92 1339.41 1482.68 Z\" fill=\"#000000\" fill-rule=\"evenodd\" fill-opacity=\"1\" /><path clip-path=\"url(#clip360)\" d=\"M1824.47 1467.98 Q1827.83 1468.7 1829.71 1470.97 Q1831.6 1473.24 1831.6 1476.57 Q1831.6 1481.69 1828.09 1484.49 Q1824.57 1487.29 1818.09 1487.29 Q1815.91 1487.29 1813.59 1486.85 Q1811.3 1486.43 1808.85 1485.58 L1808.85 1481.06 Q1810.79 1482.2 1813.11 1482.78 Q1815.42 1483.35 1817.95 1483.35 Q1822.34 1483.35 1824.64 1481.62 Q1826.95 1479.88 1826.95 1476.57 Q1826.95 1473.52 1824.8 1471.8 Q1822.67 1470.07 1818.85 1470.07 L1814.82 1470.07 L1814.82 1466.23 L1819.03 1466.23 Q1822.48 1466.23 1824.31 1464.86 Q1826.14 1463.47 1826.14 1460.88 Q1826.14 1458.22 1824.24 1456.8 Q1822.37 1455.37 1818.85 1455.37 Q1816.93 1455.37 1814.73 1455.79 Q1812.53 1456.2 1809.89 1457.08 L1809.89 1452.92 Q1812.55 1452.17 1814.87 1451.8 Q1817.21 1451.43 1819.27 1451.43 Q1824.59 1451.43 1827.69 1453.86 Q1830.79 1456.27 1830.79 1460.39 Q1830.79 1463.26 1829.15 1465.25 Q1827.51 1467.22 1824.47 1467.98 Z\" fill=\"#000000\" fill-rule=\"evenodd\" fill-opacity=\"1\" /><path clip-path=\"url(#clip360)\" d=\"M2298.71 1456.13 L2286.9 1474.58 L2298.71 1474.58 L2298.71 1456.13 M2297.48 1452.06 L2303.36 1452.06 L2303.36 1474.58 L2308.29 1474.58 L2308.29 1478.47 L2303.36 1478.47 L2303.36 1486.62 L2298.71 1486.62 L2298.71 1478.47 L2283.11 1478.47 L2283.11 1473.96 L2297.48 1452.06 Z\" fill=\"#000000\" fill-rule=\"evenodd\" fill-opacity=\"1\" /><path clip-path=\"url(#clip360)\" d=\"M1343.82 1522.27 L1343.82 1532.4 L1355.88 1532.4 L1355.88 1536.95 L1343.82 1536.95 L1343.82 1556.3 Q1343.82 1560.66 1344.99 1561.9 Q1346.2 1563.14 1349.86 1563.14 L1355.88 1563.14 L1355.88 1568.04 L1349.86 1568.04 Q1343.08 1568.04 1340.5 1565.53 Q1337.93 1562.98 1337.93 1556.3 L1337.93 1536.95 L1333.63 1536.95 L1333.63 1532.4 L1337.93 1532.4 L1337.93 1522.27 L1343.82 1522.27 Z\" fill=\"#000000\" fill-rule=\"evenodd\" fill-opacity=\"1\" /><polyline clip-path=\"url(#clip362)\" style=\"stroke:#000000; stroke-linecap:round; stroke-linejoin:round; stroke-width:2; stroke-opacity:0.1; fill:none\" points=\"336.752,1264.84 2352.76,1264.84 \"/>\n",
       "<polyline clip-path=\"url(#clip362)\" style=\"stroke:#000000; stroke-linecap:round; stroke-linejoin:round; stroke-width:2; stroke-opacity:0.1; fill:none\" points=\"336.752,978.906 2352.76,978.906 \"/>\n",
       "<polyline clip-path=\"url(#clip362)\" style=\"stroke:#000000; stroke-linecap:round; stroke-linejoin:round; stroke-width:2; stroke-opacity:0.1; fill:none\" points=\"336.752,695.312 2352.76,695.312 \"/>\n",
       "<polyline clip-path=\"url(#clip362)\" style=\"stroke:#000000; stroke-linecap:round; stroke-linejoin:round; stroke-width:2; stroke-opacity:0.1; fill:none\" points=\"336.752,409.375 2352.76,409.375 \"/>\n",
       "<polyline clip-path=\"url(#clip362)\" style=\"stroke:#000000; stroke-linecap:round; stroke-linejoin:round; stroke-width:2; stroke-opacity:0.1; fill:none\" points=\"336.752,123.438 2352.76,123.438 \"/>\n",
       "<polyline clip-path=\"url(#clip360)\" style=\"stroke:#000000; stroke-linecap:round; stroke-linejoin:round; stroke-width:4; stroke-opacity:1; fill:none\" points=\"336.752,1424.22 336.752,48.4375 \"/>\n",
       "<polyline clip-path=\"url(#clip360)\" style=\"stroke:#000000; stroke-linecap:round; stroke-linejoin:round; stroke-width:4; stroke-opacity:1; fill:none\" points=\"336.752,1264.84 355.65,1264.84 \"/>\n",
       "<polyline clip-path=\"url(#clip360)\" style=\"stroke:#000000; stroke-linecap:round; stroke-linejoin:round; stroke-width:4; stroke-opacity:1; fill:none\" points=\"336.752,978.906 355.65,978.906 \"/>\n",
       "<polyline clip-path=\"url(#clip360)\" style=\"stroke:#000000; stroke-linecap:round; stroke-linejoin:round; stroke-width:4; stroke-opacity:1; fill:none\" points=\"336.752,695.312 355.65,695.312 \"/>\n",
       "<polyline clip-path=\"url(#clip360)\" style=\"stroke:#000000; stroke-linecap:round; stroke-linejoin:round; stroke-width:4; stroke-opacity:1; fill:none\" points=\"336.752,409.375 355.65,409.375 \"/>\n",
       "<polyline clip-path=\"url(#clip360)\" style=\"stroke:#000000; stroke-linecap:round; stroke-linejoin:round; stroke-width:4; stroke-opacity:1; fill:none\" points=\"336.752,123.438 355.65,123.438 \"/>\n",
       "<path clip-path=\"url(#clip360)\" d=\"M114.931 1284.64 L122.57 1284.64 L122.57 1258.27 L114.26 1259.94 L114.26 1255.68 L122.524 1254.01 L127.2 1254.01 L127.2 1284.64 L134.839 1284.64 L134.839 1288.57 L114.931 1288.57 L114.931 1284.64 Z\" fill=\"#000000\" fill-rule=\"evenodd\" fill-opacity=\"1\" /><path clip-path=\"url(#clip360)\" d=\"M144.283 1282.69 L149.167 1282.69 L149.167 1288.57 L144.283 1288.57 L144.283 1282.69 Z\" fill=\"#000000\" fill-rule=\"evenodd\" fill-opacity=\"1\" /><path clip-path=\"url(#clip360)\" d=\"M169.352 1257.09 Q165.741 1257.09 163.913 1260.65 Q162.107 1264.2 162.107 1271.33 Q162.107 1278.43 163.913 1282 Q165.741 1285.54 169.352 1285.54 Q172.987 1285.54 174.792 1282 Q176.621 1278.43 176.621 1271.33 Q176.621 1264.2 174.792 1260.65 Q172.987 1257.09 169.352 1257.09 M169.352 1253.39 Q175.163 1253.39 178.218 1257.99 Q181.297 1262.58 181.297 1271.33 Q181.297 1280.05 178.218 1284.66 Q175.163 1289.24 169.352 1289.24 Q163.542 1289.24 160.464 1284.66 Q157.408 1280.05 157.408 1271.33 Q157.408 1262.58 160.464 1257.99 Q163.542 1253.39 169.352 1253.39 Z\" fill=\"#000000\" fill-rule=\"evenodd\" fill-opacity=\"1\" /><path clip-path=\"url(#clip360)\" d=\"M217.686 1263.11 L207.107 1273.73 L217.686 1284.31 L214.931 1287.11 L204.306 1276.49 L193.681 1287.11 L190.95 1284.31 L201.505 1273.73 L190.95 1263.11 L193.681 1260.31 L204.306 1270.93 L214.931 1260.31 L217.686 1263.11 Z\" fill=\"#000000\" fill-rule=\"evenodd\" fill-opacity=\"1\" /><path clip-path=\"url(#clip360)\" d=\"M230.047 1284.64 L237.685 1284.64 L237.685 1258.27 L229.375 1259.94 L229.375 1255.68 L237.639 1254.01 L242.315 1254.01 L242.315 1284.64 L249.954 1284.64 L249.954 1288.57 L230.047 1288.57 L230.047 1284.64 Z\" fill=\"#000000\" fill-rule=\"evenodd\" fill-opacity=\"1\" /><path clip-path=\"url(#clip360)\" d=\"M269.398 1257.09 Q265.787 1257.09 263.958 1260.65 Q262.153 1264.2 262.153 1271.33 Q262.153 1278.43 263.958 1282 Q265.787 1285.54 269.398 1285.54 Q273.032 1285.54 274.838 1282 Q276.667 1278.43 276.667 1271.33 Q276.667 1264.2 274.838 1260.65 Q273.032 1257.09 269.398 1257.09 M269.398 1253.39 Q275.208 1253.39 278.264 1257.99 Q281.343 1262.58 281.343 1271.33 Q281.343 1280.05 278.264 1284.66 Q275.208 1289.24 269.398 1289.24 Q263.588 1289.24 260.509 1284.66 Q257.454 1280.05 257.454 1271.33 Q257.454 1262.58 260.509 1257.99 Q263.588 1253.39 269.398 1253.39 Z\" fill=\"#000000\" fill-rule=\"evenodd\" fill-opacity=\"1\" /><path clip-path=\"url(#clip360)\" d=\"M291.047 1235.58 Q288.113 1235.58 286.628 1238.48 Q285.161 1241.36 285.161 1247.15 Q285.161 1252.92 286.628 1255.82 Q288.113 1258.7 291.047 1258.7 Q294 1258.7 295.467 1255.82 Q296.953 1252.92 296.953 1247.15 Q296.953 1241.36 295.467 1238.48 Q294 1235.58 291.047 1235.58 M291.047 1232.57 Q295.768 1232.57 298.251 1236.32 Q300.752 1240.04 300.752 1247.15 Q300.752 1254.24 298.251 1257.98 Q295.768 1261.71 291.047 1261.71 Q286.327 1261.71 283.825 1257.98 Q281.343 1254.24 281.343 1247.15 Q281.343 1240.04 283.825 1236.32 Q286.327 1232.57 291.047 1232.57 Z\" fill=\"#000000\" fill-rule=\"evenodd\" fill-opacity=\"1\" /><path clip-path=\"url(#clip360)\" d=\"M114.931 998.699 L122.57 998.699 L122.57 972.333 L114.26 974 L114.26 969.741 L122.524 968.074 L127.2 968.074 L127.2 998.699 L134.839 998.699 L134.839 1002.63 L114.931 1002.63 L114.931 998.699 Z\" fill=\"#000000\" fill-rule=\"evenodd\" fill-opacity=\"1\" /><path clip-path=\"url(#clip360)\" d=\"M144.283 996.754 L149.167 996.754 L149.167 1002.63 L144.283 1002.63 L144.283 996.754 Z\" fill=\"#000000\" fill-rule=\"evenodd\" fill-opacity=\"1\" /><path clip-path=\"url(#clip360)\" d=\"M169.352 971.153 Q165.741 971.153 163.913 974.717 Q162.107 978.259 162.107 985.389 Q162.107 992.495 163.913 996.06 Q165.741 999.601 169.352 999.601 Q172.987 999.601 174.792 996.06 Q176.621 992.495 176.621 985.389 Q176.621 978.259 174.792 974.717 Q172.987 971.153 169.352 971.153 M169.352 967.449 Q175.163 967.449 178.218 972.055 Q181.297 976.639 181.297 985.389 Q181.297 994.115 178.218 998.722 Q175.163 1003.31 169.352 1003.31 Q163.542 1003.31 160.464 998.722 Q157.408 994.115 157.408 985.389 Q157.408 976.639 160.464 972.055 Q163.542 967.449 169.352 967.449 Z\" fill=\"#000000\" fill-rule=\"evenodd\" fill-opacity=\"1\" /><path clip-path=\"url(#clip360)\" d=\"M217.686 977.171 L207.107 987.796 L217.686 998.375 L214.931 1001.18 L204.306 990.551 L193.681 1001.18 L190.95 998.375 L201.505 987.796 L190.95 977.171 L193.681 974.37 L204.306 984.995 L214.931 974.37 L217.686 977.171 Z\" fill=\"#000000\" fill-rule=\"evenodd\" fill-opacity=\"1\" /><path clip-path=\"url(#clip360)\" d=\"M230.047 998.699 L237.685 998.699 L237.685 972.333 L229.375 974 L229.375 969.741 L237.639 968.074 L242.315 968.074 L242.315 998.699 L249.954 998.699 L249.954 1002.63 L230.047 1002.63 L230.047 998.699 Z\" fill=\"#000000\" fill-rule=\"evenodd\" fill-opacity=\"1\" /><path clip-path=\"url(#clip360)\" d=\"M269.398 971.153 Q265.787 971.153 263.958 974.717 Q262.153 978.259 262.153 985.389 Q262.153 992.495 263.958 996.06 Q265.787 999.601 269.398 999.601 Q273.032 999.601 274.838 996.06 Q276.667 992.495 276.667 985.389 Q276.667 978.259 274.838 974.717 Q273.032 971.153 269.398 971.153 M269.398 967.449 Q275.208 967.449 278.264 972.055 Q281.343 976.639 281.343 985.389 Q281.343 994.115 278.264 998.722 Q275.208 1003.31 269.398 1003.31 Q263.588 1003.31 260.509 998.722 Q257.454 994.115 257.454 985.389 Q257.454 976.639 260.509 972.055 Q263.588 967.449 269.398 967.449 Z\" fill=\"#000000\" fill-rule=\"evenodd\" fill-opacity=\"1\" /><path clip-path=\"url(#clip360)\" d=\"M291.047 949.645 Q288.113 949.645 286.628 952.541 Q285.161 955.419 285.161 961.212 Q285.161 966.986 286.628 969.882 Q288.113 972.76 291.047 972.76 Q294 972.76 295.467 969.882 Q296.953 966.986 296.953 961.212 Q296.953 955.419 295.467 952.541 Q294 949.645 291.047 949.645 M291.047 946.636 Q295.768 946.636 298.251 950.378 Q300.752 954.102 300.752 961.212 Q300.752 968.302 298.251 972.045 Q295.768 975.769 291.047 975.769 Q286.327 975.769 283.825 972.045 Q281.343 968.302 281.343 961.212 Q281.343 954.102 283.825 950.378 Q286.327 946.636 291.047 946.636 Z\" fill=\"#000000\" fill-rule=\"evenodd\" fill-opacity=\"1\" /><path clip-path=\"url(#clip360)\" d=\"M114.931 715.105 L122.57 715.105 L122.57 688.739 L114.26 690.406 L114.26 686.147 L122.524 684.48 L127.2 684.48 L127.2 715.105 L134.839 715.105 L134.839 719.04 L114.931 719.04 L114.931 715.105 Z\" fill=\"#000000\" fill-rule=\"evenodd\" fill-opacity=\"1\" /><path clip-path=\"url(#clip360)\" d=\"M144.283 713.161 L149.167 713.161 L149.167 719.04 L144.283 719.04 L144.283 713.161 Z\" fill=\"#000000\" fill-rule=\"evenodd\" fill-opacity=\"1\" /><path clip-path=\"url(#clip360)\" d=\"M169.352 687.559 Q165.741 687.559 163.913 691.124 Q162.107 694.665 162.107 701.795 Q162.107 708.901 163.913 712.466 Q165.741 716.008 169.352 716.008 Q172.987 716.008 174.792 712.466 Q176.621 708.901 176.621 701.795 Q176.621 694.665 174.792 691.124 Q172.987 687.559 169.352 687.559 M169.352 683.855 Q175.163 683.855 178.218 688.462 Q181.297 693.045 181.297 701.795 Q181.297 710.522 178.218 715.128 Q175.163 719.711 169.352 719.711 Q163.542 719.711 160.464 715.128 Q157.408 710.522 157.408 701.795 Q157.408 693.045 160.464 688.462 Q163.542 683.855 169.352 683.855 Z\" fill=\"#000000\" fill-rule=\"evenodd\" fill-opacity=\"1\" /><path clip-path=\"url(#clip360)\" d=\"M217.686 693.577 L207.107 704.202 L217.686 714.781 L214.931 717.582 L204.306 706.957 L193.681 717.582 L190.95 714.781 L201.505 704.202 L190.95 693.577 L193.681 690.776 L204.306 701.401 L214.931 690.776 L217.686 693.577 Z\" fill=\"#000000\" fill-rule=\"evenodd\" fill-opacity=\"1\" /><path clip-path=\"url(#clip360)\" d=\"M230.047 715.105 L237.685 715.105 L237.685 688.739 L229.375 690.406 L229.375 686.147 L237.639 684.48 L242.315 684.48 L242.315 715.105 L249.954 715.105 L249.954 719.04 L230.047 719.04 L230.047 715.105 Z\" fill=\"#000000\" fill-rule=\"evenodd\" fill-opacity=\"1\" /><path clip-path=\"url(#clip360)\" d=\"M269.398 687.559 Q265.787 687.559 263.958 691.124 Q262.153 694.665 262.153 701.795 Q262.153 708.901 263.958 712.466 Q265.787 716.008 269.398 716.008 Q273.032 716.008 274.838 712.466 Q276.667 708.901 276.667 701.795 Q276.667 694.665 274.838 691.124 Q273.032 687.559 269.398 687.559 M269.398 683.855 Q275.208 683.855 278.264 688.462 Q281.343 693.045 281.343 701.795 Q281.343 710.522 278.264 715.128 Q275.208 719.711 269.398 719.711 Q263.588 719.711 260.509 715.128 Q257.454 710.522 257.454 701.795 Q257.454 693.045 260.509 688.462 Q263.588 683.855 269.398 683.855 Z\" fill=\"#000000\" fill-rule=\"evenodd\" fill-opacity=\"1\" /><path clip-path=\"url(#clip360)\" d=\"M291.047 666.051 Q288.113 666.051 286.628 668.948 Q285.161 671.825 285.161 677.618 Q285.161 683.392 286.628 686.288 Q288.113 689.166 291.047 689.166 Q294 689.166 295.467 686.288 Q296.953 683.392 296.953 677.618 Q296.953 671.825 295.467 668.948 Q294 666.051 291.047 666.051 M291.047 663.042 Q295.768 663.042 298.251 666.785 Q300.752 670.509 300.752 677.618 Q300.752 684.708 298.251 688.451 Q295.768 692.175 291.047 692.175 Q286.327 692.175 283.825 688.451 Q281.343 684.708 281.343 677.618 Q281.343 670.509 283.825 666.785 Q286.327 663.042 291.047 663.042 Z\" fill=\"#000000\" fill-rule=\"evenodd\" fill-opacity=\"1\" /><path clip-path=\"url(#clip360)\" d=\"M114.931 429.167 L122.57 429.167 L122.57 402.802 L114.26 404.468 L114.26 400.209 L122.524 398.543 L127.2 398.543 L127.2 429.167 L134.839 429.167 L134.839 433.103 L114.931 433.103 L114.931 429.167 Z\" fill=\"#000000\" fill-rule=\"evenodd\" fill-opacity=\"1\" /><path clip-path=\"url(#clip360)\" d=\"M144.283 427.223 L149.167 427.223 L149.167 433.103 L144.283 433.103 L144.283 427.223 Z\" fill=\"#000000\" fill-rule=\"evenodd\" fill-opacity=\"1\" /><path clip-path=\"url(#clip360)\" d=\"M169.352 401.621 Q165.741 401.621 163.913 405.186 Q162.107 408.728 162.107 415.857 Q162.107 422.964 163.913 426.529 Q165.741 430.07 169.352 430.07 Q172.987 430.07 174.792 426.529 Q176.621 422.964 176.621 415.857 Q176.621 408.728 174.792 405.186 Q172.987 401.621 169.352 401.621 M169.352 397.918 Q175.163 397.918 178.218 402.524 Q181.297 407.107 181.297 415.857 Q181.297 424.584 178.218 429.191 Q175.163 433.774 169.352 433.774 Q163.542 433.774 160.464 429.191 Q157.408 424.584 157.408 415.857 Q157.408 407.107 160.464 402.524 Q163.542 397.918 169.352 397.918 Z\" fill=\"#000000\" fill-rule=\"evenodd\" fill-opacity=\"1\" /><path clip-path=\"url(#clip360)\" d=\"M217.686 407.64 L207.107 418.265 L217.686 428.843 L214.931 431.644 L204.306 421.019 L193.681 431.644 L190.95 428.843 L201.505 418.265 L190.95 407.64 L193.681 404.839 L204.306 415.464 L214.931 404.839 L217.686 407.64 Z\" fill=\"#000000\" fill-rule=\"evenodd\" fill-opacity=\"1\" /><path clip-path=\"url(#clip360)\" d=\"M230.047 429.167 L237.685 429.167 L237.685 402.802 L229.375 404.468 L229.375 400.209 L237.639 398.543 L242.315 398.543 L242.315 429.167 L249.954 429.167 L249.954 433.103 L230.047 433.103 L230.047 429.167 Z\" fill=\"#000000\" fill-rule=\"evenodd\" fill-opacity=\"1\" /><path clip-path=\"url(#clip360)\" d=\"M269.398 401.621 Q265.787 401.621 263.958 405.186 Q262.153 408.728 262.153 415.857 Q262.153 422.964 263.958 426.529 Q265.787 430.07 269.398 430.07 Q273.032 430.07 274.838 426.529 Q276.667 422.964 276.667 415.857 Q276.667 408.728 274.838 405.186 Q273.032 401.621 269.398 401.621 M269.398 397.918 Q275.208 397.918 278.264 402.524 Q281.343 407.107 281.343 415.857 Q281.343 424.584 278.264 429.191 Q275.208 433.774 269.398 433.774 Q263.588 433.774 260.509 429.191 Q257.454 424.584 257.454 415.857 Q257.454 407.107 260.509 402.524 Q263.588 397.918 269.398 397.918 Z\" fill=\"#000000\" fill-rule=\"evenodd\" fill-opacity=\"1\" /><path clip-path=\"url(#clip360)\" d=\"M291.047 380.114 Q288.113 380.114 286.628 383.01 Q285.161 385.888 285.161 391.68 Q285.161 397.454 286.628 400.351 Q288.113 403.228 291.047 403.228 Q294 403.228 295.467 400.351 Q296.953 397.454 296.953 391.68 Q296.953 385.888 295.467 383.01 Q294 380.114 291.047 380.114 M291.047 377.104 Q295.768 377.104 298.251 380.847 Q300.752 384.571 300.752 391.68 Q300.752 398.771 298.251 402.514 Q295.768 406.238 291.047 406.238 Q286.327 406.238 283.825 402.514 Q281.343 398.771 281.343 391.68 Q281.343 384.571 283.825 380.847 Q286.327 377.104 291.047 377.104 Z\" fill=\"#000000\" fill-rule=\"evenodd\" fill-opacity=\"1\" /><path clip-path=\"url(#clip360)\" d=\"M114.931 143.23 L122.57 143.23 L122.57 116.864 L114.26 118.531 L114.26 114.272 L122.524 112.605 L127.2 112.605 L127.2 143.23 L134.839 143.23 L134.839 147.165 L114.931 147.165 L114.931 143.23 Z\" fill=\"#000000\" fill-rule=\"evenodd\" fill-opacity=\"1\" /><path clip-path=\"url(#clip360)\" d=\"M144.283 141.286 L149.167 141.286 L149.167 147.165 L144.283 147.165 L144.283 141.286 Z\" fill=\"#000000\" fill-rule=\"evenodd\" fill-opacity=\"1\" /><path clip-path=\"url(#clip360)\" d=\"M169.352 115.684 Q165.741 115.684 163.913 119.249 Q162.107 122.79 162.107 129.92 Q162.107 137.026 163.913 140.591 Q165.741 144.133 169.352 144.133 Q172.987 144.133 174.792 140.591 Q176.621 137.026 176.621 129.92 Q176.621 122.79 174.792 119.249 Q172.987 115.684 169.352 115.684 M169.352 111.98 Q175.163 111.98 178.218 116.587 Q181.297 121.17 181.297 129.92 Q181.297 138.647 178.218 143.253 Q175.163 147.836 169.352 147.836 Q163.542 147.836 160.464 143.253 Q157.408 138.647 157.408 129.92 Q157.408 121.17 160.464 116.587 Q163.542 111.98 169.352 111.98 Z\" fill=\"#000000\" fill-rule=\"evenodd\" fill-opacity=\"1\" /><path clip-path=\"url(#clip360)\" d=\"M217.686 121.702 L207.107 132.327 L217.686 142.906 L214.931 145.707 L204.306 135.082 L193.681 145.707 L190.95 142.906 L201.505 132.327 L190.95 121.702 L193.681 118.901 L204.306 129.526 L214.931 118.901 L217.686 121.702 Z\" fill=\"#000000\" fill-rule=\"evenodd\" fill-opacity=\"1\" /><path clip-path=\"url(#clip360)\" d=\"M230.047 143.23 L237.685 143.23 L237.685 116.864 L229.375 118.531 L229.375 114.272 L237.639 112.605 L242.315 112.605 L242.315 143.23 L249.954 143.23 L249.954 147.165 L230.047 147.165 L230.047 143.23 Z\" fill=\"#000000\" fill-rule=\"evenodd\" fill-opacity=\"1\" /><path clip-path=\"url(#clip360)\" d=\"M269.398 115.684 Q265.787 115.684 263.958 119.249 Q262.153 122.79 262.153 129.92 Q262.153 137.026 263.958 140.591 Q265.787 144.133 269.398 144.133 Q273.032 144.133 274.838 140.591 Q276.667 137.026 276.667 129.92 Q276.667 122.79 274.838 119.249 Q273.032 115.684 269.398 115.684 M269.398 111.98 Q275.208 111.98 278.264 116.587 Q281.343 121.17 281.343 129.92 Q281.343 138.647 278.264 143.253 Q275.208 147.836 269.398 147.836 Q263.588 147.836 260.509 143.253 Q257.454 138.647 257.454 129.92 Q257.454 121.17 260.509 116.587 Q263.588 111.98 269.398 111.98 Z\" fill=\"#000000\" fill-rule=\"evenodd\" fill-opacity=\"1\" /><path clip-path=\"url(#clip360)\" d=\"M291.047 94.1761 Q288.113 94.1761 286.628 97.0725 Q285.161 99.9501 285.161 105.743 Q285.161 111.517 286.628 114.413 Q288.113 117.291 291.047 117.291 Q294 117.291 295.467 114.413 Q296.953 111.517 296.953 105.743 Q296.953 99.9501 295.467 97.0725 Q294 94.1761 291.047 94.1761 M291.047 91.1669 Q295.768 91.1669 298.251 94.9096 Q300.752 98.6336 300.752 105.743 Q300.752 112.833 298.251 116.576 Q295.768 120.3 291.047 120.3 Q286.327 120.3 283.825 116.576 Q281.343 112.833 281.343 105.743 Q281.343 98.6336 283.825 94.9096 Q286.327 91.1669 291.047 91.1669 Z\" fill=\"#000000\" fill-rule=\"evenodd\" fill-opacity=\"1\" /><path clip-path=\"url(#clip360)\" d=\"M64.0042 1042.58 L16.4842 1060.72 L16.4842 1054.01 L56.4926 1038.95 L16.4842 1023.86 L16.4842 1017.18 L64.0042 1035.29 L64.0042 1042.58 Z\" fill=\"#000000\" fill-rule=\"evenodd\" fill-opacity=\"1\" /><path clip-path=\"url(#clip360)\" d=\"M46.0847 999.357 Q46.0847 1006.45 47.7079 1009.19 Q49.3312 1011.93 53.2461 1011.93 Q56.3653 1011.93 58.2114 1009.89 Q60.0256 1007.82 60.0256 1004.29 Q60.0256 999.421 56.5881 996.492 Q53.1188 993.532 47.3897 993.532 L46.0847 993.532 L46.0847 999.357 M43.6657 987.676 L64.0042 987.676 L64.0042 993.532 L58.5933 993.532 Q61.8398 995.538 63.3994 998.529 Q64.9272 1001.52 64.9272 1005.85 Q64.9272 1011.32 61.8716 1014.57 Q58.7843 1017.79 53.6281 1017.79 Q47.6125 1017.79 44.5569 1013.78 Q41.5014 1009.73 41.5014 1001.74 L41.5014 993.532 L40.9285 993.532 Q36.8862 993.532 34.6901 996.206 Q32.4621 998.848 32.4621 1003.65 Q32.4621 1006.71 33.1941 1009.61 Q33.9262 1012.5 35.3903 1015.18 L29.9795 1015.18 Q28.7381 1011.96 28.1334 1008.94 Q27.4968 1005.91 27.4968 1003.05 Q27.4968 995.315 31.5072 991.495 Q35.5176 987.676 43.6657 987.676 Z\" fill=\"#000000\" fill-rule=\"evenodd\" fill-opacity=\"1\" /><path clip-path=\"url(#clip360)\" d=\"M29.7248 949.959 L35.1993 949.959 Q33.8307 952.442 33.1623 954.956 Q32.4621 957.439 32.4621 959.985 Q32.4621 965.682 36.0905 968.833 Q39.6872 971.984 46.212 971.984 Q52.7369 971.984 56.3653 968.833 Q59.9619 965.682 59.9619 959.985 Q59.9619 957.439 59.2935 954.956 Q58.5933 952.442 57.2247 949.959 L62.6355 949.959 Q63.7814 952.41 64.3543 955.052 Q64.9272 957.662 64.9272 960.622 Q64.9272 968.674 59.8664 973.417 Q54.8057 978.159 46.212 978.159 Q37.491 978.159 32.4939 973.385 Q27.4968 968.579 27.4968 960.24 Q27.4968 957.534 28.0697 954.956 Q28.6108 952.378 29.7248 949.959 Z\" fill=\"#000000\" fill-rule=\"evenodd\" fill-opacity=\"1\" /><path clip-path=\"url(#clip360)\" d=\"M49.9359 940.379 L28.3562 940.379 L28.3562 934.522 L49.7131 934.522 Q54.7739 934.522 57.3202 932.549 Q59.8346 930.576 59.8346 926.629 Q59.8346 921.886 56.8109 919.149 Q53.7872 916.38 48.5673 916.38 L28.3562 916.38 L28.3562 910.524 L64.0042 910.524 L64.0042 916.38 L58.5296 916.38 Q61.7762 918.512 63.3676 921.345 Q64.9272 924.146 64.9272 927.87 Q64.9272 934.013 61.1078 937.196 Q57.2883 940.379 49.9359 940.379 M27.4968 925.642 L27.4968 925.642 Z\" fill=\"#000000\" fill-rule=\"evenodd\" fill-opacity=\"1\" /><path clip-path=\"url(#clip360)\" d=\"M49.9359 899.065 L28.3562 899.065 L28.3562 893.209 L49.7131 893.209 Q54.7739 893.209 57.3202 891.235 Q59.8346 889.262 59.8346 885.315 Q59.8346 880.573 56.8109 877.836 Q53.7872 875.067 48.5673 875.067 L28.3562 875.067 L28.3562 869.21 L64.0042 869.21 L64.0042 875.067 L58.5296 875.067 Q61.7762 877.199 63.3676 880.032 Q64.9272 882.833 64.9272 886.557 Q64.9272 892.7 61.1078 895.882 Q57.2883 899.065 49.9359 899.065 M27.4968 884.329 L27.4968 884.329 Z\" fill=\"#000000\" fill-rule=\"evenodd\" fill-opacity=\"1\" /><path clip-path=\"url(#clip360)\" d=\"M35.1993 829.393 Q31.2526 827.196 29.3747 824.141 Q27.4968 821.085 27.4968 816.948 Q27.4968 811.378 31.4117 808.354 Q35.2948 805.33 42.4881 805.33 L64.0042 805.33 L64.0042 811.219 L42.679 811.219 Q37.5546 811.219 35.072 813.033 Q32.5894 814.847 32.5894 818.571 Q32.5894 823.122 35.6131 825.764 Q38.6368 828.406 43.8567 828.406 L64.0042 828.406 L64.0042 834.294 L42.679 834.294 Q37.5228 834.294 35.072 836.108 Q32.5894 837.923 32.5894 841.71 Q32.5894 846.198 35.6449 848.84 Q38.6686 851.482 43.8567 851.482 L64.0042 851.482 L64.0042 857.37 L28.3562 857.37 L28.3562 851.482 L33.8944 851.482 Q30.616 849.476 29.0564 846.675 Q27.4968 843.875 27.4968 840.023 Q27.4968 836.14 29.4702 833.435 Q31.4436 830.698 35.1993 829.393 Z\" fill=\"#000000\" fill-rule=\"evenodd\" fill-opacity=\"1\" /><path clip-path=\"url(#clip360)\" d=\"M21.7677 766.245 L39.6235 766.245 L39.6235 758.16 Q39.6235 753.673 37.3 751.222 Q34.9765 748.771 30.6797 748.771 Q26.4147 748.771 24.0912 751.222 Q21.7677 753.673 21.7677 758.16 L21.7677 766.245 M16.4842 772.674 L16.4842 758.16 Q16.4842 750.171 20.1126 746.097 Q23.7092 741.991 30.6797 741.991 Q37.7138 741.991 41.3104 746.097 Q44.907 750.171 44.907 758.16 L44.907 766.245 L64.0042 766.245 L64.0042 772.674 L16.4842 772.674 Z\" fill=\"#000000\" fill-rule=\"evenodd\" fill-opacity=\"1\" /><path clip-path=\"url(#clip360)\" d=\"M44.7161 705.452 L47.5806 705.452 L47.5806 732.379 Q53.6281 731.997 56.8109 728.751 Q59.9619 725.472 59.9619 719.648 Q59.9619 716.274 59.1344 713.123 Q58.3069 709.94 56.6518 706.821 L62.1899 706.821 Q63.5267 709.972 64.227 713.282 Q64.9272 716.592 64.9272 719.998 Q64.9272 728.528 59.9619 733.525 Q54.9967 738.49 46.5303 738.49 Q37.7774 738.49 32.6531 733.78 Q27.4968 729.037 27.4968 721.016 Q27.4968 713.823 32.1438 709.654 Q36.7589 705.452 44.7161 705.452 M42.9973 711.309 Q38.1912 711.372 35.3266 714.014 Q32.4621 716.624 32.4621 720.953 Q32.4621 725.854 35.2312 728.814 Q38.0002 731.743 43.0292 732.188 L42.9973 711.309 Z\" fill=\"#000000\" fill-rule=\"evenodd\" fill-opacity=\"1\" /><path clip-path=\"url(#clip360)\" d=\"M33.8307 675.183 Q33.2578 676.17 33.0032 677.348 Q32.7167 678.494 32.7167 679.894 Q32.7167 684.859 35.9632 687.533 Q39.1779 690.175 45.2253 690.175 L64.0042 690.175 L64.0042 696.063 L28.3562 696.063 L28.3562 690.175 L33.8944 690.175 Q30.6479 688.329 29.0883 685.368 Q27.4968 682.408 27.4968 678.175 Q27.4968 677.57 27.5923 676.838 Q27.656 676.106 27.8151 675.215 L33.8307 675.183 Z\" fill=\"#000000\" fill-rule=\"evenodd\" fill-opacity=\"1\" /><path clip-path=\"url(#clip360)\" d=\"M29.4065 646.315 L34.9447 646.315 Q33.6716 648.798 33.035 651.471 Q32.3984 654.145 32.3984 657.009 Q32.3984 661.37 33.7352 663.566 Q35.072 665.73 37.7456 665.73 Q39.7826 665.73 40.9603 664.171 Q42.1061 662.611 43.1565 657.9 L43.6021 655.895 Q44.9389 649.657 47.3897 647.047 Q49.8086 644.405 54.1691 644.405 Q59.1344 644.405 62.0308 648.352 Q64.9272 652.267 64.9272 659.142 Q64.9272 662.006 64.3543 665.126 Q63.8132 668.213 62.6992 671.65 L56.6518 671.65 Q58.3387 668.404 59.198 665.253 Q60.0256 662.102 60.0256 659.014 Q60.0256 654.877 58.6251 652.649 Q57.1929 650.421 54.6147 650.421 Q52.2276 650.421 50.9545 652.044 Q49.6813 653.635 48.5037 659.078 L48.0262 661.115 Q46.8804 666.558 44.5251 668.977 Q42.138 671.396 38.0002 671.396 Q32.9713 671.396 30.2341 667.831 Q27.4968 664.266 27.4968 657.709 Q27.4968 654.463 27.9743 651.598 Q28.4517 648.734 29.4065 646.315 Z\" fill=\"#000000\" fill-rule=\"evenodd\" fill-opacity=\"1\" /><path clip-path=\"url(#clip360)\" d=\"M28.3562 635.079 L28.3562 629.223 L64.0042 629.223 L64.0042 635.079 L28.3562 635.079 M14.479 635.079 L14.479 629.223 L21.895 629.223 L21.895 635.079 L14.479 635.079 Z\" fill=\"#000000\" fill-rule=\"evenodd\" fill-opacity=\"1\" /><path clip-path=\"url(#clip360)\" d=\"M29.4065 594.243 L34.9447 594.243 Q33.6716 596.726 33.035 599.4 Q32.3984 602.073 32.3984 604.938 Q32.3984 609.298 33.7352 611.494 Q35.072 613.659 37.7456 613.659 Q39.7826 613.659 40.9603 612.099 Q42.1061 610.54 43.1565 605.829 L43.6021 603.824 Q44.9389 597.585 47.3897 594.975 Q49.8086 592.334 54.1691 592.334 Q59.1344 592.334 62.0308 596.28 Q64.9272 600.195 64.9272 607.07 Q64.9272 609.935 64.3543 613.054 Q63.8132 616.141 62.6992 619.579 L56.6518 619.579 Q58.3387 616.332 59.198 613.181 Q60.0256 610.03 60.0256 606.943 Q60.0256 602.805 58.6251 600.577 Q57.1929 598.349 54.6147 598.349 Q52.2276 598.349 50.9545 599.973 Q49.6813 601.564 48.5037 607.007 L48.0262 609.044 Q46.8804 614.486 44.5251 616.905 Q42.138 619.324 38.0002 619.324 Q32.9713 619.324 30.2341 615.759 Q27.4968 612.195 27.4968 605.638 Q27.4968 602.391 27.9743 599.527 Q28.4517 596.662 29.4065 594.243 Z\" fill=\"#000000\" fill-rule=\"evenodd\" fill-opacity=\"1\" /><path clip-path=\"url(#clip360)\" d=\"M18.2347 577.215 L28.3562 577.215 L28.3562 565.152 L32.9077 565.152 L32.9077 577.215 L52.2594 577.215 Q56.6199 577.215 57.8613 576.037 Q59.1026 574.828 59.1026 571.168 L59.1026 565.152 L64.0042 565.152 L64.0042 571.168 Q64.0042 577.947 61.4897 580.525 Q58.9434 583.103 52.2594 583.103 L32.9077 583.103 L32.9077 587.4 L28.3562 587.4 L28.3562 583.103 L18.2347 583.103 L18.2347 577.215 Z\" fill=\"#000000\" fill-rule=\"evenodd\" fill-opacity=\"1\" /><path clip-path=\"url(#clip360)\" d=\"M44.7161 526.958 L47.5806 526.958 L47.5806 553.885 Q53.6281 553.503 56.8109 550.256 Q59.9619 546.978 59.9619 541.153 Q59.9619 537.78 59.1344 534.629 Q58.3069 531.446 56.6518 528.327 L62.1899 528.327 Q63.5267 531.478 64.227 534.788 Q64.9272 538.098 64.9272 541.504 Q64.9272 550.034 59.9619 555.031 Q54.9967 559.996 46.5303 559.996 Q37.7774 559.996 32.6531 555.285 Q27.4968 550.543 27.4968 542.522 Q27.4968 535.329 32.1438 531.159 Q36.7589 526.958 44.7161 526.958 M42.9973 532.814 Q38.1912 532.878 35.3266 535.52 Q32.4621 538.13 32.4621 542.458 Q32.4621 547.36 35.2312 550.32 Q38.0002 553.248 43.0292 553.694 L42.9973 532.814 Z\" fill=\"#000000\" fill-rule=\"evenodd\" fill-opacity=\"1\" /><path clip-path=\"url(#clip360)\" d=\"M42.4881 487.713 L64.0042 487.713 L64.0042 493.57 L42.679 493.57 Q37.6183 493.57 35.1038 495.543 Q32.5894 497.516 32.5894 501.463 Q32.5894 506.206 35.6131 508.943 Q38.6368 511.68 43.8567 511.68 L64.0042 511.68 L64.0042 517.568 L28.3562 517.568 L28.3562 511.68 L33.8944 511.68 Q30.6797 509.579 29.0883 506.747 Q27.4968 503.882 27.4968 500.158 Q27.4968 494.015 31.3163 490.864 Q35.1038 487.713 42.4881 487.713 Z\" fill=\"#000000\" fill-rule=\"evenodd\" fill-opacity=\"1\" /><path clip-path=\"url(#clip360)\" d=\"M29.7248 450.378 L35.1993 450.378 Q33.8307 452.861 33.1623 455.376 Q32.4621 457.858 32.4621 460.404 Q32.4621 466.102 36.0905 469.253 Q39.6872 472.404 46.212 472.404 Q52.7369 472.404 56.3653 469.253 Q59.9619 466.102 59.9619 460.404 Q59.9619 457.858 59.2935 455.376 Q58.5933 452.861 57.2247 450.378 L62.6355 450.378 Q63.7814 452.829 64.3543 455.471 Q64.9272 458.081 64.9272 461.041 Q64.9272 469.094 59.8664 473.836 Q54.8057 478.579 46.212 478.579 Q37.491 478.579 32.4939 473.804 Q27.4968 468.998 27.4968 460.659 Q27.4968 457.954 28.0697 455.376 Q28.6108 452.797 29.7248 450.378 Z\" fill=\"#000000\" fill-rule=\"evenodd\" fill-opacity=\"1\" /><path clip-path=\"url(#clip360)\" d=\"M44.7161 409.702 L47.5806 409.702 L47.5806 436.628 Q53.6281 436.247 56.8109 433 Q59.9619 429.722 59.9619 423.897 Q59.9619 420.523 59.1344 417.372 Q58.3069 414.189 56.6518 411.07 L62.1899 411.07 Q63.5267 414.221 64.227 417.531 Q64.9272 420.842 64.9272 424.247 Q64.9272 432.777 59.9619 437.774 Q54.9967 442.74 46.5303 442.74 Q37.7774 442.74 32.6531 438.029 Q27.4968 433.287 27.4968 425.266 Q27.4968 418.072 32.1438 413.903 Q36.7589 409.702 44.7161 409.702 M42.9973 415.558 Q38.1912 415.622 35.3266 418.263 Q32.4621 420.873 32.4621 425.202 Q32.4621 430.104 35.2312 433.064 Q38.0002 435.992 43.0292 436.438 L42.9973 415.558 Z\" fill=\"#000000\" fill-rule=\"evenodd\" fill-opacity=\"1\" /><circle clip-path=\"url(#clip362)\" cx=\"393.809\" cy=\"85.9375\" r=\"14.4\" fill=\"#009af9\" fill-rule=\"evenodd\" fill-opacity=\"1\" stroke=\"#000000\" stroke-opacity=\"1\" stroke-width=\"3.2\"/>\n",
       "<circle clip-path=\"url(#clip362)\" cx=\"488.903\" cy=\"1086.72\" r=\"14.4\" fill=\"#009af9\" fill-rule=\"evenodd\" fill-opacity=\"1\" stroke=\"#000000\" stroke-opacity=\"1\" stroke-width=\"3.2\"/>\n",
       "<circle clip-path=\"url(#clip362)\" cx=\"583.998\" cy=\"857.031\" r=\"14.4\" fill=\"#009af9\" fill-rule=\"evenodd\" fill-opacity=\"1\" stroke=\"#000000\" stroke-opacity=\"1\" stroke-width=\"3.2\"/>\n",
       "<circle clip-path=\"url(#clip362)\" cx=\"679.092\" cy=\"723.438\" r=\"14.4\" fill=\"#009af9\" fill-rule=\"evenodd\" fill-opacity=\"1\" stroke=\"#000000\" stroke-opacity=\"1\" stroke-width=\"3.2\"/>\n",
       "<circle clip-path=\"url(#clip362)\" cx=\"774.187\" cy=\"601.562\" r=\"14.4\" fill=\"#009af9\" fill-rule=\"evenodd\" fill-opacity=\"1\" stroke=\"#000000\" stroke-opacity=\"1\" stroke-width=\"3.2\"/>\n",
       "<circle clip-path=\"url(#clip362)\" cx=\"869.281\" cy=\"245.312\" r=\"14.4\" fill=\"#009af9\" fill-rule=\"evenodd\" fill-opacity=\"1\" stroke=\"#000000\" stroke-opacity=\"1\" stroke-width=\"3.2\"/>\n",
       "<circle clip-path=\"url(#clip362)\" cx=\"964.376\" cy=\"969.531\" r=\"14.4\" fill=\"#009af9\" fill-rule=\"evenodd\" fill-opacity=\"1\" stroke=\"#000000\" stroke-opacity=\"1\" stroke-width=\"3.2\"/>\n",
       "<circle clip-path=\"url(#clip362)\" cx=\"1059.47\" cy=\"798.438\" r=\"14.4\" fill=\"#009af9\" fill-rule=\"evenodd\" fill-opacity=\"1\" stroke=\"#000000\" stroke-opacity=\"1\" stroke-width=\"3.2\"/>\n",
       "<circle clip-path=\"url(#clip362)\" cx=\"1154.57\" cy=\"1121.88\" r=\"14.4\" fill=\"#009af9\" fill-rule=\"evenodd\" fill-opacity=\"1\" stroke=\"#000000\" stroke-opacity=\"1\" stroke-width=\"3.2\"/>\n",
       "<circle clip-path=\"url(#clip362)\" cx=\"1249.66\" cy=\"871.094\" r=\"14.4\" fill=\"#009af9\" fill-rule=\"evenodd\" fill-opacity=\"1\" stroke=\"#000000\" stroke-opacity=\"1\" stroke-width=\"3.2\"/>\n",
       "<circle clip-path=\"url(#clip362)\" cx=\"1344.75\" cy=\"646.094\" r=\"14.4\" fill=\"#009af9\" fill-rule=\"evenodd\" fill-opacity=\"1\" stroke=\"#000000\" stroke-opacity=\"1\" stroke-width=\"3.2\"/>\n",
       "<circle clip-path=\"url(#clip362)\" cx=\"1439.85\" cy=\"1384.38\" r=\"14.4\" fill=\"#009af9\" fill-rule=\"evenodd\" fill-opacity=\"1\" stroke=\"#000000\" stroke-opacity=\"1\" stroke-width=\"3.2\"/>\n",
       "<circle clip-path=\"url(#clip362)\" cx=\"1534.94\" cy=\"978.906\" r=\"14.4\" fill=\"#009af9\" fill-rule=\"evenodd\" fill-opacity=\"1\" stroke=\"#000000\" stroke-opacity=\"1\" stroke-width=\"3.2\"/>\n",
       "<circle clip-path=\"url(#clip362)\" cx=\"1630.04\" cy=\"1084.38\" r=\"14.4\" fill=\"#009af9\" fill-rule=\"evenodd\" fill-opacity=\"1\" stroke=\"#000000\" stroke-opacity=\"1\" stroke-width=\"3.2\"/>\n",
       "<circle clip-path=\"url(#clip362)\" cx=\"1725.13\" cy=\"1285.94\" r=\"14.4\" fill=\"#009af9\" fill-rule=\"evenodd\" fill-opacity=\"1\" stroke=\"#000000\" stroke-opacity=\"1\" stroke-width=\"3.2\"/>\n",
       "<circle clip-path=\"url(#clip362)\" cx=\"1820.23\" cy=\"383.594\" r=\"14.4\" fill=\"#009af9\" fill-rule=\"evenodd\" fill-opacity=\"1\" stroke=\"#000000\" stroke-opacity=\"1\" stroke-width=\"3.2\"/>\n",
       "<circle clip-path=\"url(#clip362)\" cx=\"1915.32\" cy=\"782.031\" r=\"14.4\" fill=\"#009af9\" fill-rule=\"evenodd\" fill-opacity=\"1\" stroke=\"#000000\" stroke-opacity=\"1\" stroke-width=\"3.2\"/>\n",
       "<circle clip-path=\"url(#clip362)\" cx=\"2010.42\" cy=\"697.656\" r=\"14.4\" fill=\"#009af9\" fill-rule=\"evenodd\" fill-opacity=\"1\" stroke=\"#000000\" stroke-opacity=\"1\" stroke-width=\"3.2\"/>\n",
       "<circle clip-path=\"url(#clip362)\" cx=\"2105.51\" cy=\"1339.84\" r=\"14.4\" fill=\"#009af9\" fill-rule=\"evenodd\" fill-opacity=\"1\" stroke=\"#000000\" stroke-opacity=\"1\" stroke-width=\"3.2\"/>\n",
       "<circle clip-path=\"url(#clip362)\" cx=\"2200.6\" cy=\"463.281\" r=\"14.4\" fill=\"#009af9\" fill-rule=\"evenodd\" fill-opacity=\"1\" stroke=\"#000000\" stroke-opacity=\"1\" stroke-width=\"3.2\"/>\n",
       "<circle clip-path=\"url(#clip362)\" cx=\"2295.7\" cy=\"866.406\" r=\"14.4\" fill=\"#009af9\" fill-rule=\"evenodd\" fill-opacity=\"1\" stroke=\"#000000\" stroke-opacity=\"1\" stroke-width=\"3.2\"/>\n",
       "</svg>\n"
      ]
     },
     "execution_count": 41,
     "metadata": {},
     "output_type": "execute_result"
    },
    {
     "name": "stderr",
     "output_type": "stream",
     "text": [
      "GKS: Possible loss of precision in routine SET_WINDOW\n"
     ]
    }
   ],
   "source": [
    "plot(0:0.2:4,persistenceProb,seriestype = :scatter, xlabel = \"t\", ylabel = \"Vacuum Persistence\",legend=false)"
   ]
  },
  {
   "cell_type": "markdown",
   "id": "219040ab",
   "metadata": {},
   "source": [
    "## Determining the basis of color singlets (supports parallelization). Color singlets are the null space of the operator:\n",
    "## $ H_{\\bf 1} = \\frac{h^2}{2}\n",
    "    \\sum_{a=1}^{8}\n",
    "    \\left ( \\sum_{m \\leq L-1} Q^{(a)}_m \\right ) ^2  $\n",
    "## The null space is efficiently found through QR facorization."
   ]
  },
  {
   "cell_type": "code",
   "execution_count": 21,
   "id": "ecce7dda",
   "metadata": {},
   "outputs": [
    {
     "data": {
      "text/plain": [
       "27840×2320 SparseMatrixCSC{Float64, Int64} with 150624 stored entries:\n",
       "⣾⣷⣧⡿\n",
       "⣿⣿⡷⣿\n",
       "⣿⣿⣷⡟\n",
       "⣿⣿⣷⣧\n",
       "⣿⣿⣿⣿\n",
       "⣿⣿⣿⣿\n",
       "⣿⣿⣿⡿\n",
       "⣿⣿⣿⣧\n",
       "⣿⣿⣿⣿\n",
       "⣿⣿⣿⣿\n",
       "⣿⣿⣿⠇\n",
       "⣿⣿⣿⣿\n",
       "⣿⣿⣿⣿\n",
       "⣿⣿⣿⡟\n",
       "⣿⣿⣿⣷\n",
       "⣿⣿⣿⠏\n",
       "⣿⣿⣿⣶\n",
       "⣿⣿⣿⡿\n",
       "⣿⣿⣿⣿\n",
       "⣿⣿⣿⣿\n",
       "⣿⣿⣿⣏\n",
       "⣿⣿⣿⣟\n",
       "⣿⣿⣿⡞\n",
       "⣿⣿⣿⣷\n",
       "⣿⣿⣿⣷\n",
       "⣿⣿⣿⠷"
      ]
     },
     "execution_count": 21,
     "metadata": {},
     "output_type": "execute_result"
    }
   ],
   "source": [
    "# Sum of the squares of the gauge charges\n",
    "hg = fullHamiltonian(-3/2,buildSeed(1,4),4)[4]\n",
    "\n",
    "# QR decomposition\n",
    "qrd = qr(hg)\n",
    "factors = qrd.factors\n",
    "τ       = qrd.τ\n",
    "Nτ = length(τ)\n",
    "\n",
    "qmat = Folds.mapreduce(i -> (I - factors[:,i]*τ[i]*factors[:,i]'), *, 1:Nτ, ThreadedEx())\n",
    "rmat = qrd.R\n",
    "rpiv = qrd.rpivinv\n",
    "\n",
    "nsdim = 0\n",
    "for i in -length(rpiv):-1\n",
    "    if rmat[-i,-i] == 0.0\n",
    "        nsdim+=1\n",
    "    else\n",
    "        break\n",
    "    end\n",
    "end\n",
    "# Only keep the last columns\n",
    "cs = qmat[:,length(rpiv)-nsdim+1:length(rpiv)]\n",
    "# Permute the rows\n",
    "cs = cs[rpiv,:]"
   ]
  }
 ],
 "metadata": {
  "kernelspec": {
   "display_name": "Julia 1.8.5",
   "language": "julia",
   "name": "julia-1.8"
  },
  "language_info": {
   "file_extension": ".jl",
   "mimetype": "application/julia",
   "name": "julia",
   "version": "1.8.5"
  }
 },
 "nbformat": 4,
 "nbformat_minor": 5
}
